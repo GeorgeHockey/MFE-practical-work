{
 "metadata": {
  "language_info": {
   "codemirror_mode": {
    "name": "ipython",
    "version": 3
   },
   "file_extension": ".py",
   "mimetype": "text/x-python",
   "name": "python",
   "nbconvert_exporter": "python",
   "pygments_lexer": "ipython3",
   "version": "3.7.9-final"
  },
  "orig_nbformat": 2,
  "kernelspec": {
   "name": "python3",
   "display_name": "Python 3"
  }
 },
 "nbformat": 4,
 "nbformat_minor": 2,
 "cells": [
  {
   "cell_type": "code",
   "execution_count": 114,
   "metadata": {},
   "outputs": [],
   "source": [
    "import pandas as pd\n",
    "import numpy as np\n",
    "import pandas_datareader as pdr\n",
    "import matplotlib.pyplot as plt\n",
    "\n",
    "#Currencies\n",
    "peso_dollar = pdr.get_data_fred(\"DEXMXUS\", \"1975-01-01\", \"2019-12-31\")\n",
    "peso_dollar = peso_dollar.squeeze()\n",
    "HK_dollar = pdr.get_data_fred(\"DEXHKUS\", \"1975-01-01\", \"2019-12-31\")\n",
    "dollar_pound = pdr.get_data_fred(\"DEXUSUK\", \"1975-01-01\", \"2019-12-31\")\n",
    "dollar_pound = dollar_pound.squeeze()\n",
    "\n",
    "#Create / currency\n",
    "HK_GBP = HK_dollar\n",
    "HK_GBP[\"DEXHKUK\"] = HK_dollar[\"DEXHKUS\"] / dollar_pound\n",
    "HK_GBP = HK_GBP.drop(columns=[\"DEXHKUS\"])\n",
    "HK_GBP = HK_GBP.squeeze()\n",
    "\n",
    "\n",
    "#indexes\n",
    "KS11 = pdr.get_data_yahoo('^KS11', start='1997-07-01', end='2019-12-31')\n",
    "KS11 = KS11.drop(columns=[\"High\", \"Low\", \"Open\", \"Volume\", \"Adj Close\"])\n",
    "KS11 = KS11.squeeze()\n",
    "BVSP = pdr.get_data_yahoo('^BVSP', start='1993-04-23', end='2019-12-31')\n",
    "BVSP = BVSP.drop(columns=[\"High\", \"Low\", \"Open\", \"Volume\", \"Adj Close\"])\n",
    "BVSP = BVSP.squeeze()\n",
    "DAX = pdr.get_data_yahoo('^GDAXI', start='1987-12-30', end='2019-12-31')\n",
    "DAX = DAX.drop(columns=[\"High\", \"Low\", \"Open\", \"Volume\", \"Adj Close\"])\n",
    "DAX = DAX.squeeze()\n",
    "VBTLX = pdr.get_data_yahoo('VBTLX', start='2001-11-12', end='2019-12-31')\n",
    "VBTLX = VBTLX.drop(columns=[\"High\", \"Low\", \"Open\", \"Volume\", \"Adj Close\"])\n",
    "VBTLX = VBTLX.squeeze()\n",
    "\n",
    "#Factors\n",
    "ff_factors = pdr.get_data_famafrench(\"F-F_Research_Data_Factors_daily\", start=\"1920\", end=\"2019-12-31\")[0]\n",
    "ff_factors_mom = pdr.get_data_famafrench(\"F-F_Momentum_Factor_daily\", start=\"1920\", end=\"2019-12-31\")[0]\n",
    "# ff_factors = ff_factors.join(ff_factors_mom).dropna()\n",
    "ff_factors = pd.concat([ff_factors,ff_factors_mom], axis=1)\n",
    "ff_factors = ff_factors.dropna()\n",
    "ff_factors.columns = [col.strip(' ') for col in ff_factors.columns]\n",
    "ff_factors_price = (1+(ff_factors/100)).cumprod()"
   ]
  },
  {
   "cell_type": "code",
   "execution_count": 86,
   "metadata": {},
   "outputs": [],
   "source": [
    "import numpy as np\n",
    "import pandas as pd\n",
    "\n",
    "def summary_statistics(prices):\n",
    "\n",
    "    d_returns = prices.pct_change().dropna()\n",
    "    w_returns = prices.resample(\"W-FRI\").last().pct_change().dropna()\n",
    "    m_returns = prices.resample(\"M\").last().pct_change().dropna()\n",
    "    q_returns = prices.resample(\"Q\").last().pct_change().dropna()\n",
    "    y_returns = prices.resample(\"A\").last().pct_change().dropna()\n",
    "    # Convert prices to returns\n",
    "\n",
    "    # Enclosed function to find mean, std, skew and kurt: gives annualised stats\n",
    "    def process(returns, n):\n",
    "        returns_mu = returns.mean()                         # mean returns per time period\n",
    "        annual_mu = ((1 + returns_mu) ** n) -1                          # annualised mean returns\n",
    "\n",
    "        returns_err = returns - returns_mu       \n",
    "        returns_var = (returns_err ** 2).mean()             # average squared return ( 2nd moment)\n",
    "        annual_var = returns_var * n                        # annual rescaled variance\n",
    "        annual_std = np.sqrt(annual_var)                    # annual rescaled std deviation\n",
    "\n",
    "        returns_mom3 = (returns_err ** 3).mean()\n",
    "        returns_mom4 = (returns_err ** 4).mean()            # Third and Fourth moments\n",
    "\n",
    "\n",
    "        annual_skew = (returns_mom3 / returns_var ** (3/2)) #/ np.sqrt(n)  # rescaled Skew and Kurtosis\n",
    "        annual_kurt = (returns_mom4 / returns_var ** (4/2)) #/ n\n",
    "\n",
    "        returns_stats = pd.Series([annual_mu, annual_std, annual_skew, annual_kurt], index = [\"mean\", \"std\", \"skew\", \"kurt\"])\n",
    "        \n",
    "        return returns_stats\n",
    "         \n",
    "    # Feed in daily, weekly, monthly and quarterly data\n",
    "    d_stats = process(d_returns, n = 252).rename(\"Daily\")\n",
    "    w_stats = process(w_returns, n = 52 ).rename(\"Weekly\")\n",
    "    m_stats = process(m_returns, n = 12 ).rename(\"Monthly\")\n",
    "    q_stats = process(q_returns, n = 4  ).rename(\"Quarterly\")\n",
    "    y_stats = process(y_returns, n = 1  ).rename(\"Annual\")\n",
    "\n",
    "    # Concatenate the series into a dataframe\n",
    "    stats = pd.concat([d_stats, w_stats, m_stats, q_stats, y_stats], axis=1)\n",
    "\n",
    "    return stats"
   ]
  },
  {
   "cell_type": "code",
   "execution_count": 113,
   "metadata": {},
   "outputs": [
    {
     "output_type": "stream",
     "name": "stdout",
     "text": [
      "\\begin{tabular}{lrrrrr}\n\\toprule\n{} &      Daily &    Weekly &   Monthly &  Quarterly &    Annual \\\\\n\\midrule\nmean &   0.030951 &  0.032066 &  0.031204 &   0.030546 &  0.027004 \\\\\nstd  &   0.106572 &  0.109615 &  0.109426 &   0.117676 &  0.138505 \\\\\nskew &   0.616992 &  0.670850 &  0.417659 &   0.795916 &  0.756487 \\\\\nkurt &  11.902801 &  7.721188 &  4.864608 &   4.914809 &  3.263226 \\\\\n\\bottomrule\n\\end{tabular}\n\n"
     ]
    }
   ],
   "source": [
    "print(summary_statistics(HK_GBP).to_latex())"
   ]
  },
  {
   "cell_type": "code",
   "execution_count": 65,
   "metadata": {},
   "outputs": [
    {
     "output_type": "execute_result",
     "data": {
      "text/plain": [
       "         Daily    Weekly  Monthly  Quarterly  Annual\n",
       "mean    0.0793    0.0785   0.0816     0.0831  0.0834\n",
       "std     0.1445    0.1345   0.1441     0.1574  0.1710\n",
       "skew    5.1194    6.1748   4.5461     2.9866  1.8030\n",
       "kurt  148.9498  106.7444  45.5237    15.4730  5.7393"
      ],
      "text/html": "<div>\n<style scoped>\n    .dataframe tbody tr th:only-of-type {\n        vertical-align: middle;\n    }\n\n    .dataframe tbody tr th {\n        vertical-align: top;\n    }\n\n    .dataframe thead th {\n        text-align: right;\n    }\n</style>\n<table border=\"1\" class=\"dataframe\">\n  <thead>\n    <tr style=\"text-align: right;\">\n      <th></th>\n      <th>Daily</th>\n      <th>Weekly</th>\n      <th>Monthly</th>\n      <th>Quarterly</th>\n      <th>Annual</th>\n    </tr>\n  </thead>\n  <tbody>\n    <tr>\n      <th>mean</th>\n      <td>0.0793</td>\n      <td>0.0785</td>\n      <td>0.0816</td>\n      <td>0.0831</td>\n      <td>0.0834</td>\n    </tr>\n    <tr>\n      <th>std</th>\n      <td>0.1445</td>\n      <td>0.1345</td>\n      <td>0.1441</td>\n      <td>0.1574</td>\n      <td>0.1710</td>\n    </tr>\n    <tr>\n      <th>skew</th>\n      <td>5.1194</td>\n      <td>6.1748</td>\n      <td>4.5461</td>\n      <td>2.9866</td>\n      <td>1.8030</td>\n    </tr>\n    <tr>\n      <th>kurt</th>\n      <td>148.9498</td>\n      <td>106.7444</td>\n      <td>45.5237</td>\n      <td>15.4730</td>\n      <td>5.7393</td>\n    </tr>\n  </tbody>\n</table>\n</div>"
     },
     "metadata": {},
     "execution_count": 65
    }
   ],
   "source": [
    "round(summary_statistics(peso_dollar),4)"
   ]
  },
  {
   "cell_type": "code",
   "execution_count": 75,
   "metadata": {},
   "outputs": [
    {
     "output_type": "execute_result",
     "data": {
      "text/plain": [
       "       Daily  Weekly  Monthly  Quarterly  Annual\n",
       "mean  0.0892  0.0859   0.0900     0.1080  0.1285\n",
       "std   0.2720  0.2699   0.2761     0.3229  0.3046\n",
       "skew -0.0253 -0.1441   0.8465     1.1980  0.1047\n",
       "kurt  8.8864  8.0447   8.4423     9.0319  3.0305"
      ],
      "text/html": "<div>\n<style scoped>\n    .dataframe tbody tr th:only-of-type {\n        vertical-align: middle;\n    }\n\n    .dataframe tbody tr th {\n        vertical-align: top;\n    }\n\n    .dataframe thead th {\n        text-align: right;\n    }\n</style>\n<table border=\"1\" class=\"dataframe\">\n  <thead>\n    <tr style=\"text-align: right;\">\n      <th></th>\n      <th>Daily</th>\n      <th>Weekly</th>\n      <th>Monthly</th>\n      <th>Quarterly</th>\n      <th>Annual</th>\n    </tr>\n  </thead>\n  <tbody>\n    <tr>\n      <th>mean</th>\n      <td>0.0892</td>\n      <td>0.0859</td>\n      <td>0.0900</td>\n      <td>0.1080</td>\n      <td>0.1285</td>\n    </tr>\n    <tr>\n      <th>std</th>\n      <td>0.2720</td>\n      <td>0.2699</td>\n      <td>0.2761</td>\n      <td>0.3229</td>\n      <td>0.3046</td>\n    </tr>\n    <tr>\n      <th>skew</th>\n      <td>-0.0253</td>\n      <td>-0.1441</td>\n      <td>0.8465</td>\n      <td>1.1980</td>\n      <td>0.1047</td>\n    </tr>\n    <tr>\n      <th>kurt</th>\n      <td>8.8864</td>\n      <td>8.0447</td>\n      <td>8.4423</td>\n      <td>9.0319</td>\n      <td>3.0305</td>\n    </tr>\n  </tbody>\n</table>\n</div>"
     },
     "metadata": {},
     "execution_count": 75
    }
   ],
   "source": [
    "np.round(summary_statistics(KS11),4)\n"
   ]
  },
  {
   "cell_type": "code",
   "execution_count": 87,
   "metadata": {},
   "outputs": [
    {
     "output_type": "execute_result",
     "data": {
      "text/plain": [
       "       Daily  Weekly  Monthly  Quarterly  Annual\n",
       "mean  0.0038  0.0049   0.0047     0.0053  0.0051\n",
       "std   0.0373  0.0358   0.0343     0.0325  0.0247\n",
       "skew -0.1019 -0.5142  -0.2546    -0.2109 -0.0504\n",
       "kurt  4.4780  4.1618   4.4164     2.4039  2.8464"
      ],
      "text/html": "<div>\n<style scoped>\n    .dataframe tbody tr th:only-of-type {\n        vertical-align: middle;\n    }\n\n    .dataframe tbody tr th {\n        vertical-align: top;\n    }\n\n    .dataframe thead th {\n        text-align: right;\n    }\n</style>\n<table border=\"1\" class=\"dataframe\">\n  <thead>\n    <tr style=\"text-align: right;\">\n      <th></th>\n      <th>Daily</th>\n      <th>Weekly</th>\n      <th>Monthly</th>\n      <th>Quarterly</th>\n      <th>Annual</th>\n    </tr>\n  </thead>\n  <tbody>\n    <tr>\n      <th>mean</th>\n      <td>0.0038</td>\n      <td>0.0049</td>\n      <td>0.0047</td>\n      <td>0.0053</td>\n      <td>0.0051</td>\n    </tr>\n    <tr>\n      <th>std</th>\n      <td>0.0373</td>\n      <td>0.0358</td>\n      <td>0.0343</td>\n      <td>0.0325</td>\n      <td>0.0247</td>\n    </tr>\n    <tr>\n      <th>skew</th>\n      <td>-0.1019</td>\n      <td>-0.5142</td>\n      <td>-0.2546</td>\n      <td>-0.2109</td>\n      <td>-0.0504</td>\n    </tr>\n    <tr>\n      <th>kurt</th>\n      <td>4.4780</td>\n      <td>4.1618</td>\n      <td>4.4164</td>\n      <td>2.4039</td>\n      <td>2.8464</td>\n    </tr>\n  </tbody>\n</table>\n</div>"
     },
     "metadata": {},
     "execution_count": 87
    }
   ],
   "source": [
    "np.round(summary_statistics(VBTLX),4)"
   ]
  },
  {
   "cell_type": "code",
   "execution_count": 76,
   "metadata": {},
   "outputs": [
    {
     "output_type": "execute_result",
     "data": {
      "text/plain": [
       "       Daily  Weekly  Monthly  Quarterly  Annual\n",
       "mean  0.1103  0.1083   0.1067     0.1126  0.1115\n",
       "std   0.2198  0.2117   0.2026     0.2260  0.2299\n",
       "skew -0.0816 -0.3506  -0.5184    -0.6308 -0.6526\n",
       "kurt  8.7932  6.8651   5.0618     4.6575  2.7851"
      ],
      "text/html": "<div>\n<style scoped>\n    .dataframe tbody tr th:only-of-type {\n        vertical-align: middle;\n    }\n\n    .dataframe tbody tr th {\n        vertical-align: top;\n    }\n\n    .dataframe thead th {\n        text-align: right;\n    }\n</style>\n<table border=\"1\" class=\"dataframe\">\n  <thead>\n    <tr style=\"text-align: right;\">\n      <th></th>\n      <th>Daily</th>\n      <th>Weekly</th>\n      <th>Monthly</th>\n      <th>Quarterly</th>\n      <th>Annual</th>\n    </tr>\n  </thead>\n  <tbody>\n    <tr>\n      <th>mean</th>\n      <td>0.1103</td>\n      <td>0.1083</td>\n      <td>0.1067</td>\n      <td>0.1126</td>\n      <td>0.1115</td>\n    </tr>\n    <tr>\n      <th>std</th>\n      <td>0.2198</td>\n      <td>0.2117</td>\n      <td>0.2026</td>\n      <td>0.2260</td>\n      <td>0.2299</td>\n    </tr>\n    <tr>\n      <th>skew</th>\n      <td>-0.0816</td>\n      <td>-0.3506</td>\n      <td>-0.5184</td>\n      <td>-0.6308</td>\n      <td>-0.6526</td>\n    </tr>\n    <tr>\n      <th>kurt</th>\n      <td>8.7932</td>\n      <td>6.8651</td>\n      <td>5.0618</td>\n      <td>4.6575</td>\n      <td>2.7851</td>\n    </tr>\n  </tbody>\n</table>\n</div>"
     },
     "metadata": {},
     "execution_count": 76
    }
   ],
   "source": [
    "np.round(summary_statistics(DAX),4)"
   ]
  },
  {
   "cell_type": "code",
   "execution_count": 77,
   "metadata": {},
   "outputs": [
    {
     "output_type": "execute_result",
     "data": {
      "text/plain": [
       "        Daily  Weekly  Monthly  Quarterly   Annual\n",
       "mean   0.4704  0.4577   0.4881     0.5663   0.6072\n",
       "std    0.3553  0.3515   0.4369     0.8282   2.0417\n",
       "skew   0.9501  0.6316   2.2875     4.4751   4.4806\n",
       "kurt  17.7566  7.5002  15.0970    27.7436  22.0358"
      ],
      "text/html": "<div>\n<style scoped>\n    .dataframe tbody tr th:only-of-type {\n        vertical-align: middle;\n    }\n\n    .dataframe tbody tr th {\n        vertical-align: top;\n    }\n\n    .dataframe thead th {\n        text-align: right;\n    }\n</style>\n<table border=\"1\" class=\"dataframe\">\n  <thead>\n    <tr style=\"text-align: right;\">\n      <th></th>\n      <th>Daily</th>\n      <th>Weekly</th>\n      <th>Monthly</th>\n      <th>Quarterly</th>\n      <th>Annual</th>\n    </tr>\n  </thead>\n  <tbody>\n    <tr>\n      <th>mean</th>\n      <td>0.4704</td>\n      <td>0.4577</td>\n      <td>0.4881</td>\n      <td>0.5663</td>\n      <td>0.6072</td>\n    </tr>\n    <tr>\n      <th>std</th>\n      <td>0.3553</td>\n      <td>0.3515</td>\n      <td>0.4369</td>\n      <td>0.8282</td>\n      <td>2.0417</td>\n    </tr>\n    <tr>\n      <th>skew</th>\n      <td>0.9501</td>\n      <td>0.6316</td>\n      <td>2.2875</td>\n      <td>4.4751</td>\n      <td>4.4806</td>\n    </tr>\n    <tr>\n      <th>kurt</th>\n      <td>17.7566</td>\n      <td>7.5002</td>\n      <td>15.0970</td>\n      <td>27.7436</td>\n      <td>22.0358</td>\n    </tr>\n  </tbody>\n</table>\n</div>"
     },
     "metadata": {},
     "execution_count": 77
    }
   ],
   "source": [
    "np.round(summary_statistics(BVSP),4)"
   ]
  },
  {
   "cell_type": "code",
   "execution_count": 72,
   "metadata": {},
   "outputs": [
    {
     "output_type": "execute_result",
     "data": {
      "text/plain": [
       "        Daily   Weekly  Monthly  Quarterly  Annual\n",
       "mean   0.0691   0.0744   0.0771     0.0772  0.0770\n",
       "std    0.1183   0.1373   0.1519     0.1507  0.1538\n",
       "skew  -1.5947  -1.3896  -0.9152    -0.9939 -0.7214\n",
       "kurt  29.8645  15.5112  11.3743     9.2948  5.3789"
      ],
      "text/html": "<div>\n<style scoped>\n    .dataframe tbody tr th:only-of-type {\n        vertical-align: middle;\n    }\n\n    .dataframe tbody tr th {\n        vertical-align: top;\n    }\n\n    .dataframe thead th {\n        text-align: right;\n    }\n</style>\n<table border=\"1\" class=\"dataframe\">\n  <thead>\n    <tr style=\"text-align: right;\">\n      <th></th>\n      <th>Daily</th>\n      <th>Weekly</th>\n      <th>Monthly</th>\n      <th>Quarterly</th>\n      <th>Annual</th>\n    </tr>\n  </thead>\n  <tbody>\n    <tr>\n      <th>mean</th>\n      <td>0.0691</td>\n      <td>0.0744</td>\n      <td>0.0771</td>\n      <td>0.0772</td>\n      <td>0.0770</td>\n    </tr>\n    <tr>\n      <th>std</th>\n      <td>0.1183</td>\n      <td>0.1373</td>\n      <td>0.1519</td>\n      <td>0.1507</td>\n      <td>0.1538</td>\n    </tr>\n    <tr>\n      <th>skew</th>\n      <td>-1.5947</td>\n      <td>-1.3896</td>\n      <td>-0.9152</td>\n      <td>-0.9939</td>\n      <td>-0.7214</td>\n    </tr>\n    <tr>\n      <th>kurt</th>\n      <td>29.8645</td>\n      <td>15.5112</td>\n      <td>11.3743</td>\n      <td>9.2948</td>\n      <td>5.3789</td>\n    </tr>\n  </tbody>\n</table>\n</div>"
     },
     "metadata": {},
     "execution_count": 72
    }
   ],
   "source": [
    "np.round(summary_statistics(ff_factors_price[\"Mom\"]),4)"
   ]
  },
  {
   "cell_type": "code",
   "execution_count": 98,
   "metadata": {},
   "outputs": [
    {
     "output_type": "execute_result",
     "data": {
      "text/plain": [
       "        Daily   Weekly  Monthly  Quarterly  Annual\n",
       "mean   0.0116   0.0118   0.0132     0.0141  0.0144\n",
       "std    0.0925   0.0912   0.1066     0.1159  0.1169\n",
       "skew  -0.7553   0.0826   1.1168     1.2164  0.2262\n",
       "kurt  25.6500  13.1245  13.6022    10.2252  4.1801"
      ],
      "text/html": "<div>\n<style scoped>\n    .dataframe tbody tr th:only-of-type {\n        vertical-align: middle;\n    }\n\n    .dataframe tbody tr th {\n        vertical-align: top;\n    }\n\n    .dataframe thead th {\n        text-align: right;\n    }\n</style>\n<table border=\"1\" class=\"dataframe\">\n  <thead>\n    <tr style=\"text-align: right;\">\n      <th></th>\n      <th>Daily</th>\n      <th>Weekly</th>\n      <th>Monthly</th>\n      <th>Quarterly</th>\n      <th>Annual</th>\n    </tr>\n  </thead>\n  <tbody>\n    <tr>\n      <th>mean</th>\n      <td>0.0116</td>\n      <td>0.0118</td>\n      <td>0.0132</td>\n      <td>0.0141</td>\n      <td>0.0144</td>\n    </tr>\n    <tr>\n      <th>std</th>\n      <td>0.0925</td>\n      <td>0.0912</td>\n      <td>0.1066</td>\n      <td>0.1159</td>\n      <td>0.1169</td>\n    </tr>\n    <tr>\n      <th>skew</th>\n      <td>-0.7553</td>\n      <td>0.0826</td>\n      <td>1.1168</td>\n      <td>1.2164</td>\n      <td>0.2262</td>\n    </tr>\n    <tr>\n      <th>kurt</th>\n      <td>25.6500</td>\n      <td>13.1245</td>\n      <td>13.6022</td>\n      <td>10.2252</td>\n      <td>4.1801</td>\n    </tr>\n  </tbody>\n</table>\n</div>"
     },
     "metadata": {},
     "execution_count": 98
    }
   ],
   "source": [
    "np.round(summary_statistics(ff_factors_price[\"SMB\"]),4)"
   ]
  },
  {
   "cell_type": "code",
   "execution_count": 74,
   "metadata": {},
   "outputs": [
    {
     "output_type": "execute_result",
     "data": {
      "text/plain": [
       "        Daily   Weekly  Monthly  Quarterly  Annual\n",
       "mean   0.0397   0.0421   0.0436     0.0459  0.0450\n",
       "std    0.0930   0.1025   0.1149     0.1352  0.1303\n",
       "skew   0.7319   1.1020   1.2923     1.3357  0.3532\n",
       "kurt  18.7482  16.1467  12.3441    11.9692  3.4701"
      ],
      "text/html": "<div>\n<style scoped>\n    .dataframe tbody tr th:only-of-type {\n        vertical-align: middle;\n    }\n\n    .dataframe tbody tr th {\n        vertical-align: top;\n    }\n\n    .dataframe thead th {\n        text-align: right;\n    }\n</style>\n<table border=\"1\" class=\"dataframe\">\n  <thead>\n    <tr style=\"text-align: right;\">\n      <th></th>\n      <th>Daily</th>\n      <th>Weekly</th>\n      <th>Monthly</th>\n      <th>Quarterly</th>\n      <th>Annual</th>\n    </tr>\n  </thead>\n  <tbody>\n    <tr>\n      <th>mean</th>\n      <td>0.0397</td>\n      <td>0.0421</td>\n      <td>0.0436</td>\n      <td>0.0459</td>\n      <td>0.0450</td>\n    </tr>\n    <tr>\n      <th>std</th>\n      <td>0.0930</td>\n      <td>0.1025</td>\n      <td>0.1149</td>\n      <td>0.1352</td>\n      <td>0.1303</td>\n    </tr>\n    <tr>\n      <th>skew</th>\n      <td>0.7319</td>\n      <td>1.1020</td>\n      <td>1.2923</td>\n      <td>1.3357</td>\n      <td>0.3532</td>\n    </tr>\n    <tr>\n      <th>kurt</th>\n      <td>18.7482</td>\n      <td>16.1467</td>\n      <td>12.3441</td>\n      <td>11.9692</td>\n      <td>3.4701</td>\n    </tr>\n  </tbody>\n</table>\n</div>"
     },
     "metadata": {},
     "execution_count": 74
    }
   ],
   "source": [
    "np.round(summary_statistics(ff_factors_price[\"HML\"]),4)"
   ]
  },
  {
   "cell_type": "code",
   "execution_count": 109,
   "metadata": {},
   "outputs": [
    {
     "output_type": "execute_result",
     "data": {
      "text/plain": [
       "        Daily  Weekly  Monthly  Quarterly  Annual\n",
       "mean   0.0772  0.0804   0.0828     0.0881  0.0840\n",
       "std    0.1687  0.1716   0.1845     0.2202  0.1975\n",
       "skew  -0.1205 -0.3581   0.1932     1.8223 -0.2983\n",
       "kurt  19.6013  9.1428  10.9329    19.8339  2.9819"
      ],
      "text/html": "<div>\n<style scoped>\n    .dataframe tbody tr th:only-of-type {\n        vertical-align: middle;\n    }\n\n    .dataframe tbody tr th {\n        vertical-align: top;\n    }\n\n    .dataframe thead th {\n        text-align: right;\n    }\n</style>\n<table border=\"1\" class=\"dataframe\">\n  <thead>\n    <tr style=\"text-align: right;\">\n      <th></th>\n      <th>Daily</th>\n      <th>Weekly</th>\n      <th>Monthly</th>\n      <th>Quarterly</th>\n      <th>Annual</th>\n    </tr>\n  </thead>\n  <tbody>\n    <tr>\n      <th>mean</th>\n      <td>0.0772</td>\n      <td>0.0804</td>\n      <td>0.0828</td>\n      <td>0.0881</td>\n      <td>0.0840</td>\n    </tr>\n    <tr>\n      <th>std</th>\n      <td>0.1687</td>\n      <td>0.1716</td>\n      <td>0.1845</td>\n      <td>0.2202</td>\n      <td>0.1975</td>\n    </tr>\n    <tr>\n      <th>skew</th>\n      <td>-0.1205</td>\n      <td>-0.3581</td>\n      <td>0.1932</td>\n      <td>1.8223</td>\n      <td>-0.2983</td>\n    </tr>\n    <tr>\n      <th>kurt</th>\n      <td>19.6013</td>\n      <td>9.1428</td>\n      <td>10.9329</td>\n      <td>19.8339</td>\n      <td>2.9819</td>\n    </tr>\n  </tbody>\n</table>\n</div>"
     },
     "metadata": {},
     "execution_count": 109
    }
   ],
   "source": [
    "np.round(summary_statistics(ff_factors_price[\"Mkt-RF\"]),4)"
   ]
  },
  {
   "cell_type": "code",
   "execution_count": null,
   "metadata": {},
   "outputs": [],
   "source": []
  },
  {
   "cell_type": "code",
   "execution_count": 187,
   "metadata": {},
   "outputs": [
    {
     "output_type": "execute_result",
     "data": {
      "text/plain": [
       "       Daily  Weekly  Monthly  Quarterly\n",
       "mean  0.0383  0.0367   0.0412     0.0342\n",
       "std   0.1479  0.1420   0.1299     0.1165\n",
       "skew -0.3750 -0.6276  -0.5454    -0.5877\n",
       "kurt  6.8910  5.0810   4.3409     3.6521"
      ],
      "text/html": "<div>\n<style scoped>\n    .dataframe tbody tr th:only-of-type {\n        vertical-align: middle;\n    }\n\n    .dataframe tbody tr th {\n        vertical-align: top;\n    }\n\n    .dataframe thead th {\n        text-align: right;\n    }\n</style>\n<table border=\"1\" class=\"dataframe\">\n  <thead>\n    <tr style=\"text-align: right;\">\n      <th></th>\n      <th>Daily</th>\n      <th>Weekly</th>\n      <th>Monthly</th>\n      <th>Quarterly</th>\n    </tr>\n  </thead>\n  <tbody>\n    <tr>\n      <th>mean</th>\n      <td>0.0383</td>\n      <td>0.0367</td>\n      <td>0.0412</td>\n      <td>0.0342</td>\n    </tr>\n    <tr>\n      <th>std</th>\n      <td>0.1479</td>\n      <td>0.1420</td>\n      <td>0.1299</td>\n      <td>0.1165</td>\n    </tr>\n    <tr>\n      <th>skew</th>\n      <td>-0.3750</td>\n      <td>-0.6276</td>\n      <td>-0.5454</td>\n      <td>-0.5877</td>\n    </tr>\n    <tr>\n      <th>kurt</th>\n      <td>6.8910</td>\n      <td>5.0810</td>\n      <td>4.3409</td>\n      <td>3.6521</td>\n    </tr>\n  </tbody>\n</table>\n</div>"
     },
     "metadata": {},
     "execution_count": 187
    }
   ],
   "source": [
    "KS11_2019 = summary_statistics(KS11[\"31/12/2009\":\"31/12/2019\"])\n",
    "KS11_2019 = KS11_2019.drop(columns=\"Annual\")\n",
    "KS11_2019 = np.round(KS11_2019,4)\n",
    "KS11_2019"
   ]
  },
  {
   "cell_type": "code",
   "execution_count": null,
   "metadata": {},
   "outputs": [],
   "source": []
  },
  {
   "source": [
    "from scipy.special import gammaln\n",
    "from scipy.optimize import minimize\n",
    "\n",
    "def students_dof(prices):\n",
    "    def std_t_loglik(nu, x):\n",
    "        # These are fixed for now\n",
    "        mu = x.mean()\n",
    "        sigma2 = x.var()\n",
    "        sigma = np.sqrt(sigma2)\n",
    "\n",
    "        a = gammaln((nu + 1) / 2)\n",
    "        b = gammaln(nu / 2)\n",
    "        c = np.sqrt(np.pi * (nu-2))\n",
    "        d = ((nu + 1) / 2)\n",
    "        e = (x - mu) **2\n",
    "        f = sigma2 * (nu - 2)\n",
    "\n",
    "        loglik = a - b - np.log(c) - np.log(sigma) - d * np.log(1 + e / f)\n",
    "        return -(loglik.sum())\n",
    "    \n",
    "    d_returns = prices.pct_change().dropna()\n",
    "    w_returns = prices.resample(\"W-FRI\").last().pct_change().dropna()\n",
    "    m_returns = prices.resample(\"M\").last().pct_change().dropna()\n",
    "    q_returns = prices.resample(\"Q\").last().pct_change().dropna()\n",
    "\n",
    "    starting_val = np.array([3]) \n",
    "    opt = minimize(std_t_loglik, starting_val, args=(w_returns), bounds=[(2.01, 100)], options={\"disp\": True})\n",
    "    mle = opt.x[0]   \n",
    "    return mle"
   ],
   "cell_type": "markdown",
   "metadata": {}
  },
  {
   "cell_type": "code",
   "execution_count": 145,
   "metadata": {},
   "outputs": [],
   "source": [
    "def dof(prices):\n",
    "    \n",
    "    def calc_kurt(series):\n",
    "        mu = series.mean()\n",
    "        err = series - mu\n",
    "        var = (err**2).mean()\n",
    "        mom4 = (err**4).mean()\n",
    "        kurt = mom4 / var ** (4/2)\n",
    "        return kurt\n",
    "    \n",
    "    d_k = calc_kurt(prices.pct_change())\n",
    "    w_k = calc_kurt(prices.resample(\"W-FRI\").last().pct_change())\n",
    "    m_k = calc_kurt(prices.resample(\"M\").last().pct_change())\n",
    "    q_k = calc_kurt(prices.resample(\"Q\").last().pct_change())\n",
    "\n",
    "    def df(k):\n",
    "        a = k - 2\n",
    "        b = k - 4\n",
    "        df = 3 * (a/b)\n",
    "        if k > 4:\n",
    "            df=df\n",
    "        else:\n",
    "            df = float(\"inf\")\n",
    "        return df\n",
    "    \n",
    "    df_d = df(d_k)\n",
    "    df_w = df(w_k)\n",
    "    df_m = df(m_k)\n",
    "    df_q = df(q_k)\n",
    "\n",
    "    freedom = pd.Series([df_d, df_w, df_m, df_q], index = [\"Daily\", \"Weekly\", \"Monthly\", \"Quarterly\"])\n",
    "    return freedom\n",
    "\n",
    "\n"
   ]
  },
  {
   "cell_type": "code",
   "execution_count": 159,
   "metadata": {},
   "outputs": [],
   "source": [
    "df_DAX = dof(DAX)"
   ]
  },
  {
   "cell_type": "code",
   "execution_count": 160,
   "metadata": {},
   "outputs": [],
   "source": [
    "df_BVSP = dof(BVSP)"
   ]
  },
  {
   "cell_type": "code",
   "execution_count": 170,
   "metadata": {},
   "outputs": [],
   "source": [
    "df_HK = dof(HK_GBP)"
   ]
  },
  {
   "cell_type": "code",
   "execution_count": 169,
   "metadata": {},
   "outputs": [],
   "source": [
    "df_KS11 = dof(KS11)"
   ]
  },
  {
   "cell_type": "code",
   "execution_count": 161,
   "metadata": {},
   "outputs": [],
   "source": [
    "df_VBTLX = dof(VBTLX)"
   ]
  },
  {
   "cell_type": "code",
   "execution_count": 163,
   "metadata": {},
   "outputs": [],
   "source": [
    "df_peso = dof(peso_dollar)"
   ]
  },
  {
   "cell_type": "code",
   "execution_count": 164,
   "metadata": {},
   "outputs": [],
   "source": [
    "df_mom = dof(ff_factors_price[\"Mom\"])"
   ]
  },
  {
   "cell_type": "code",
   "execution_count": 165,
   "metadata": {},
   "outputs": [],
   "source": [
    "df_hml = dof(ff_factors_price[\"HML\"])"
   ]
  },
  {
   "cell_type": "code",
   "execution_count": 166,
   "metadata": {},
   "outputs": [],
   "source": [
    "df_smb = dof(ff_factors_price[\"SMB\"])"
   ]
  },
  {
   "cell_type": "code",
   "execution_count": 168,
   "metadata": {},
   "outputs": [],
   "source": [
    "df_mkt= dof(ff_factors_price[\"Mkt-RF\"])"
   ]
  },
  {
   "cell_type": "code",
   "execution_count": 181,
   "metadata": {},
   "outputs": [
    {
     "output_type": "execute_result",
     "data": {
      "text/plain": [
       "             HK/GBP   MXN/USD        DAX      BSVP      KS11      VBTLX  \\\n",
       "Daily      3.759224  3.041394   4.251780  3.436155  4.227902  15.551533   \n",
       "Weekly     4.612388  3.058397   5.094197  4.714195  4.483435  40.074300   \n",
       "Monthly    9.939558  3.144496   8.651005  3.540684  4.350651  17.410601   \n",
       "Quarterly  9.558748  3.522967  12.125425  3.252700  4.192384        inf   \n",
       "\n",
       "                Mom       HML       SMB       VWM  \n",
       "Daily      3.231978  3.406828  3.277136  3.384582  \n",
       "Weekly     3.521230  3.493961  3.657573  4.166672  \n",
       "Monthly    3.813639  3.719072  3.624858  3.865438  \n",
       "Quarterly  4.133186  3.752896  3.963831  3.378935  "
      ],
      "text/html": "<div>\n<style scoped>\n    .dataframe tbody tr th:only-of-type {\n        vertical-align: middle;\n    }\n\n    .dataframe tbody tr th {\n        vertical-align: top;\n    }\n\n    .dataframe thead th {\n        text-align: right;\n    }\n</style>\n<table border=\"1\" class=\"dataframe\">\n  <thead>\n    <tr style=\"text-align: right;\">\n      <th></th>\n      <th>HK/GBP</th>\n      <th>MXN/USD</th>\n      <th>DAX</th>\n      <th>BSVP</th>\n      <th>KS11</th>\n      <th>VBTLX</th>\n      <th>Mom</th>\n      <th>HML</th>\n      <th>SMB</th>\n      <th>VWM</th>\n    </tr>\n  </thead>\n  <tbody>\n    <tr>\n      <th>Daily</th>\n      <td>3.759224</td>\n      <td>3.041394</td>\n      <td>4.251780</td>\n      <td>3.436155</td>\n      <td>4.227902</td>\n      <td>15.551533</td>\n      <td>3.231978</td>\n      <td>3.406828</td>\n      <td>3.277136</td>\n      <td>3.384582</td>\n    </tr>\n    <tr>\n      <th>Weekly</th>\n      <td>4.612388</td>\n      <td>3.058397</td>\n      <td>5.094197</td>\n      <td>4.714195</td>\n      <td>4.483435</td>\n      <td>40.074300</td>\n      <td>3.521230</td>\n      <td>3.493961</td>\n      <td>3.657573</td>\n      <td>4.166672</td>\n    </tr>\n    <tr>\n      <th>Monthly</th>\n      <td>9.939558</td>\n      <td>3.144496</td>\n      <td>8.651005</td>\n      <td>3.540684</td>\n      <td>4.350651</td>\n      <td>17.410601</td>\n      <td>3.813639</td>\n      <td>3.719072</td>\n      <td>3.624858</td>\n      <td>3.865438</td>\n    </tr>\n    <tr>\n      <th>Quarterly</th>\n      <td>9.558748</td>\n      <td>3.522967</td>\n      <td>12.125425</td>\n      <td>3.252700</td>\n      <td>4.192384</td>\n      <td>inf</td>\n      <td>4.133186</td>\n      <td>3.752896</td>\n      <td>3.963831</td>\n      <td>3.378935</td>\n    </tr>\n  </tbody>\n</table>\n</div>"
     },
     "metadata": {},
     "execution_count": 181
    }
   ],
   "source": [
    "table = pd.concat([df_HK, df_peso, df_DAX, df_BVSP, df_KS11, df_VBTLX, df_mom, df_hml, df_smb, df_mkt], axis=1)\n",
    "table.columns = [\"HK/GBP\", \"MXN/USD\", \"DAX\", \"BSVP\", \"KS11\", \"VBTLX\", \"Mom\", \"HML\", \"SMB\", \"VWM\"]\n",
    "table"
   ]
  },
  {
   "cell_type": "code",
   "execution_count": null,
   "metadata": {},
   "outputs": [],
   "source": []
  }
 ]
}