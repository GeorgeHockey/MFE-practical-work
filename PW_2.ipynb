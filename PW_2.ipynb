{
 "metadata": {
  "language_info": {
   "codemirror_mode": {
    "name": "ipython",
    "version": 3
   },
   "file_extension": ".py",
   "mimetype": "text/x-python",
   "name": "python",
   "nbconvert_exporter": "python",
   "pygments_lexer": "ipython3",
   "version": "3.8.3-final"
  },
  "orig_nbformat": 2,
  "kernelspec": {
   "name": "python3",
   "display_name": "Python 3"
  }
 },
 "nbformat": 4,
 "nbformat_minor": 2,
 "cells": [
  {
   "cell_type": "code",
   "execution_count": 2,
   "metadata": {},
   "outputs": [],
   "source": [
    "import pandas as pd\n",
    "import numpy as np\n",
    "import pandas_datareader as pdr\n",
    "import matplotlib.pyplot as plt\n",
    "\n",
    "#Currencies\n",
    "peso_dollar = pdr.get_data_fred(\"DEXMXUS\", \"1975-01-01\", \"2019-12-31\")\n",
    "peso_dollar = peso_dollar.squeeze()\n",
    "HK_dollar = pdr.get_data_fred(\"DEXHKUS\", \"1975-01-01\", \"2019-12-31\")\n",
    "dollar_pound = pdr.get_data_fred(\"DEXUSUK\", \"1975-01-01\", \"2019-12-31\")\n",
    "dollar_pound = dollar_pound.squeeze()\n",
    "\n",
    "#Create / currency\n",
    "HK_GBP = HK_dollar\n",
    "HK_GBP[\"DEXHKUK\"] = HK_dollar[\"DEXHKUS\"] / dollar_pound\n",
    "HK_GBP = HK_GBP.drop(columns=[\"DEXHKUS\"])\n",
    "HK_GBP = HK_GBP.squeeze()\n",
    "\n",
    "\n",
    "#indexes\n",
    "KS11 = pdr.get_data_yahoo('^KS11', start='1997-07-01', end='2019-12-31')\n",
    "KS11 = KS11.drop(columns=[\"High\", \"Low\", \"Open\", \"Volume\", \"Adj Close\"])\n",
    "KS11 = KS11.squeeze()\n",
    "BVSP = pdr.get_data_yahoo('^BVSP', start='1993-04-23', end='2019-12-31')\n",
    "BVSP = BVSP.drop(columns=[\"High\", \"Low\", \"Open\", \"Volume\", \"Adj Close\"])\n",
    "BVSP = BVSP.squeeze()\n",
    "DAX = pdr.get_data_yahoo('^GDAXI', start='1987-12-30', end='2019-12-31')\n",
    "DAX = DAX.drop(columns=[\"High\", \"Low\", \"Open\", \"Volume\", \"Adj Close\"])\n",
    "DAX = DAX.squeeze()\n",
    "VBTLX = pdr.get_data_yahoo('VBTLX', start='2001-11-12', end='2019-12-31')\n",
    "VBTLX = VBTLX.drop(columns=[\"High\", \"Low\", \"Open\", \"Volume\", \"Adj Close\"])\n",
    "VBTLX = VBTLX.squeeze()\n",
    "\n",
    "#Factors\n",
    "ff_factors = pdr.get_data_famafrench(\"F-F_Research_Data_Factors_daily\", start=\"1920\", end=\"2019-12-31\")[0]\n",
    "ff_factors_mom = pdr.get_data_famafrench(\"F-F_Momentum_Factor_daily\", start=\"1920\", end=\"2019-12-31\")[0]\n",
    "# ff_factors = ff_factors.join(ff_factors_mom).dropna()\n",
    "ff_factors = pd.concat([ff_factors,ff_factors_mom], axis=1)\n",
    "ff_factors = ff_factors.dropna()\n",
    "ff_factors.columns = [col.strip(' ') for col in ff_factors.columns]\n",
    "ff_factors_price = (1+(ff_factors/100)).cumprod()"
   ]
  },
  {
   "cell_type": "code",
   "execution_count": 113,
   "metadata": {},
   "outputs": [],
   "source": [
    "import numpy as np\n",
    "import pandas as pd\n",
    "\n",
    "def summary_statistics(prices):\n",
    "\n",
    "    d_returns = prices.pct_change().dropna()\n",
    "    w_returns = prices.resample(\"W-FRI\").last().pct_change().dropna()\n",
    "    m_returns = prices.resample(\"M\").last().pct_change().dropna()\n",
    "    q_returns = prices.resample(\"Q\").last().pct_change().dropna()\n",
    "    y_returns = prices.resample(\"A\").last().pct_change().dropna()\n",
    "    # Convert prices to returns\n",
    "\n",
    "    # Enclosed function to find mean, std, skew and kurt: gives annualised stats\n",
    "    def process(returns, n):\n",
    "        returns_mu = returns.mean()                         # mean returns per time period\n",
    "        annual_mu =  returns_mu * n                          # annualised mean returns\n",
    "\n",
    "        returns_err = returns - returns_mu       \n",
    "        returns_var = (returns_err ** 2).mean()             # average squared return ( 2nd moment)\n",
    "        annual_var = returns_var * n                        # annual rescaled variance\n",
    "        annual_std = np.sqrt(annual_var)                    # annual rescaled std deviation\n",
    "\n",
    "        returns_mom3 = (returns_err ** 3).mean()\n",
    "        returns_mom4 = (returns_err ** 4).mean()            # Third and Fourth moments\n",
    "\n",
    "\n",
    "        annual_skew = (returns_mom3 / returns_var ** (3/2)) #/ np.sqrt(n)  # rescaled Skew and Kurtosis\n",
    "        annual_kurt = (returns_mom4 / returns_var ** (4/2)) #/ n\n",
    "\n",
    "        returns_stats = pd.Series([annual_mu, annual_std, annual_skew, annual_kurt], index = [\"mean\", \"std\", \"skew\", \"kurt\"])\n",
    "        \n",
    "        return returns_stats\n",
    "         \n",
    "    # Feed in daily, weekly, monthly and quarterly data\n",
    "    d_stats = process(d_returns, n = 252).rename(\"Daily\")\n",
    "    w_stats = process(w_returns, n = 52 ).rename(\"Weekly\")\n",
    "    m_stats = process(m_returns, n = 12 ).rename(\"Monthly\")\n",
    "    q_stats = process(q_returns, n = 4  ).rename(\"Quarterly\")\n",
    "    y_stats = process(y_returns, n = 1  ).rename(\"Annual\")\n",
    "\n",
    "    # Concatenate the series into a dataframe\n",
    "    stats = pd.concat([d_stats, w_stats, m_stats, q_stats, y_stats], axis=1)\n",
    "\n",
    "    return stats"
   ]
  },
  {
   "cell_type": "code",
   "execution_count": 114,
   "metadata": {},
   "outputs": [
    {
     "output_type": "stream",
     "name": "stdout",
     "text": [
      "\\begin{tabular}{lrrrrr}\n\\toprule\n{} &      Daily &    Weekly &   Monthly &  Quarterly &    Annual \\\\\n\\midrule\nmean &   0.030483 &  0.031573 &  0.030766 &   0.030202 &  0.027004 \\\\\nstd  &   0.106572 &  0.109615 &  0.109426 &   0.117676 &  0.138505 \\\\\nskew &   0.616992 &  0.670850 &  0.417659 &   0.795916 &  0.756487 \\\\\nkurt &  11.902801 &  7.721188 &  4.864608 &   4.914809 &  3.263226 \\\\\n\\bottomrule\n\\end{tabular}\n\n"
     ]
    }
   ],
   "source": [
    "a = round(summary_statistics(HK_GBP),3)\n",
    "print(summary_statistics(HK_GBP).to_latex())"
   ]
  },
  {
   "cell_type": "code",
   "execution_count": 115,
   "metadata": {},
   "outputs": [
    {
     "output_type": "execute_result",
     "data": {
      "text/plain": [
       "        Daily   Weekly  Monthly  Quarterly  Annual\n",
       "mean    0.076    0.076    0.079      0.081   0.083\n",
       "std     0.145    0.135    0.144      0.157   0.171\n",
       "skew    5.119    6.175    4.546      2.987   1.803\n",
       "kurt  148.950  106.744   45.524     15.473   5.739"
      ],
      "text/html": "<div>\n<style scoped>\n    .dataframe tbody tr th:only-of-type {\n        vertical-align: middle;\n    }\n\n    .dataframe tbody tr th {\n        vertical-align: top;\n    }\n\n    .dataframe thead th {\n        text-align: right;\n    }\n</style>\n<table border=\"1\" class=\"dataframe\">\n  <thead>\n    <tr style=\"text-align: right;\">\n      <th></th>\n      <th>Daily</th>\n      <th>Weekly</th>\n      <th>Monthly</th>\n      <th>Quarterly</th>\n      <th>Annual</th>\n    </tr>\n  </thead>\n  <tbody>\n    <tr>\n      <th>mean</th>\n      <td>0.076</td>\n      <td>0.076</td>\n      <td>0.079</td>\n      <td>0.081</td>\n      <td>0.083</td>\n    </tr>\n    <tr>\n      <th>std</th>\n      <td>0.145</td>\n      <td>0.135</td>\n      <td>0.144</td>\n      <td>0.157</td>\n      <td>0.171</td>\n    </tr>\n    <tr>\n      <th>skew</th>\n      <td>5.119</td>\n      <td>6.175</td>\n      <td>4.546</td>\n      <td>2.987</td>\n      <td>1.803</td>\n    </tr>\n    <tr>\n      <th>kurt</th>\n      <td>148.950</td>\n      <td>106.744</td>\n      <td>45.524</td>\n      <td>15.473</td>\n      <td>5.739</td>\n    </tr>\n  </tbody>\n</table>\n</div>"
     },
     "metadata": {},
     "execution_count": 115
    }
   ],
   "source": [
    "b = round(summary_statistics(peso_dollar),3)\n",
    "b"
   ]
  },
  {
   "cell_type": "code",
   "execution_count": 116,
   "metadata": {},
   "outputs": [
    {
     "output_type": "execute_result",
     "data": {
      "text/plain": [
       "      Daily  Weekly  Monthly  Quarterly  Annual\n",
       "mean  0.085   0.082    0.086      0.104   0.128\n",
       "std   0.272   0.270    0.276      0.323   0.305\n",
       "skew -0.025  -0.144    0.846      1.198   0.105\n",
       "kurt  8.886   8.045    8.442      9.032   3.031"
      ],
      "text/html": "<div>\n<style scoped>\n    .dataframe tbody tr th:only-of-type {\n        vertical-align: middle;\n    }\n\n    .dataframe tbody tr th {\n        vertical-align: top;\n    }\n\n    .dataframe thead th {\n        text-align: right;\n    }\n</style>\n<table border=\"1\" class=\"dataframe\">\n  <thead>\n    <tr style=\"text-align: right;\">\n      <th></th>\n      <th>Daily</th>\n      <th>Weekly</th>\n      <th>Monthly</th>\n      <th>Quarterly</th>\n      <th>Annual</th>\n    </tr>\n  </thead>\n  <tbody>\n    <tr>\n      <th>mean</th>\n      <td>0.085</td>\n      <td>0.082</td>\n      <td>0.086</td>\n      <td>0.104</td>\n      <td>0.128</td>\n    </tr>\n    <tr>\n      <th>std</th>\n      <td>0.272</td>\n      <td>0.270</td>\n      <td>0.276</td>\n      <td>0.323</td>\n      <td>0.305</td>\n    </tr>\n    <tr>\n      <th>skew</th>\n      <td>-0.025</td>\n      <td>-0.144</td>\n      <td>0.846</td>\n      <td>1.198</td>\n      <td>0.105</td>\n    </tr>\n    <tr>\n      <th>kurt</th>\n      <td>8.886</td>\n      <td>8.045</td>\n      <td>8.442</td>\n      <td>9.032</td>\n      <td>3.031</td>\n    </tr>\n  </tbody>\n</table>\n</div>"
     },
     "metadata": {},
     "execution_count": 116
    }
   ],
   "source": [
    "e = np.round(summary_statistics(KS11),3)\n",
    "e"
   ]
  },
  {
   "cell_type": "code",
   "execution_count": 73,
   "metadata": {},
   "outputs": [],
   "source": [
    "f = np.round(summary_statistics(VBTLX),3)"
   ]
  },
  {
   "cell_type": "code",
   "execution_count": 117,
   "metadata": {},
   "outputs": [
    {
     "output_type": "execute_result",
     "data": {
      "text/plain": [
       "      Daily  Weekly  Monthly  Quarterly  Annual\n",
       "mean  0.105   0.103    0.102      0.108   0.112\n",
       "std   0.220   0.212    0.203      0.226   0.230\n",
       "skew -0.082  -0.351   -0.518     -0.631  -0.653\n",
       "kurt  8.793   6.865    5.062      4.658   2.785"
      ],
      "text/html": "<div>\n<style scoped>\n    .dataframe tbody tr th:only-of-type {\n        vertical-align: middle;\n    }\n\n    .dataframe tbody tr th {\n        vertical-align: top;\n    }\n\n    .dataframe thead th {\n        text-align: right;\n    }\n</style>\n<table border=\"1\" class=\"dataframe\">\n  <thead>\n    <tr style=\"text-align: right;\">\n      <th></th>\n      <th>Daily</th>\n      <th>Weekly</th>\n      <th>Monthly</th>\n      <th>Quarterly</th>\n      <th>Annual</th>\n    </tr>\n  </thead>\n  <tbody>\n    <tr>\n      <th>mean</th>\n      <td>0.105</td>\n      <td>0.103</td>\n      <td>0.102</td>\n      <td>0.108</td>\n      <td>0.112</td>\n    </tr>\n    <tr>\n      <th>std</th>\n      <td>0.220</td>\n      <td>0.212</td>\n      <td>0.203</td>\n      <td>0.226</td>\n      <td>0.230</td>\n    </tr>\n    <tr>\n      <th>skew</th>\n      <td>-0.082</td>\n      <td>-0.351</td>\n      <td>-0.518</td>\n      <td>-0.631</td>\n      <td>-0.653</td>\n    </tr>\n    <tr>\n      <th>kurt</th>\n      <td>8.793</td>\n      <td>6.865</td>\n      <td>5.062</td>\n      <td>4.658</td>\n      <td>2.785</td>\n    </tr>\n  </tbody>\n</table>\n</div>"
     },
     "metadata": {},
     "execution_count": 117
    }
   ],
   "source": [
    "c = np.round(summary_statistics(DAX),3)\n",
    "c"
   ]
  },
  {
   "cell_type": "code",
   "execution_count": 119,
   "metadata": {},
   "outputs": [
    {
     "output_type": "execute_result",
     "data": {
      "text/plain": [
       "       Daily  Weekly  Monthly  Quarterly  Annual\n",
       "mean   0.386   0.378    0.404      0.475   0.607\n",
       "std    0.355   0.352    0.437      0.828   2.042\n",
       "skew   0.950   0.632    2.288      4.475   4.481\n",
       "kurt  17.757   7.500   15.097     27.744  22.036"
      ],
      "text/html": "<div>\n<style scoped>\n    .dataframe tbody tr th:only-of-type {\n        vertical-align: middle;\n    }\n\n    .dataframe tbody tr th {\n        vertical-align: top;\n    }\n\n    .dataframe thead th {\n        text-align: right;\n    }\n</style>\n<table border=\"1\" class=\"dataframe\">\n  <thead>\n    <tr style=\"text-align: right;\">\n      <th></th>\n      <th>Daily</th>\n      <th>Weekly</th>\n      <th>Monthly</th>\n      <th>Quarterly</th>\n      <th>Annual</th>\n    </tr>\n  </thead>\n  <tbody>\n    <tr>\n      <th>mean</th>\n      <td>0.386</td>\n      <td>0.378</td>\n      <td>0.404</td>\n      <td>0.475</td>\n      <td>0.607</td>\n    </tr>\n    <tr>\n      <th>std</th>\n      <td>0.355</td>\n      <td>0.352</td>\n      <td>0.437</td>\n      <td>0.828</td>\n      <td>2.042</td>\n    </tr>\n    <tr>\n      <th>skew</th>\n      <td>0.950</td>\n      <td>0.632</td>\n      <td>2.288</td>\n      <td>4.475</td>\n      <td>4.481</td>\n    </tr>\n    <tr>\n      <th>kurt</th>\n      <td>17.757</td>\n      <td>7.500</td>\n      <td>15.097</td>\n      <td>27.744</td>\n      <td>22.036</td>\n    </tr>\n  </tbody>\n</table>\n</div>"
     },
     "metadata": {},
     "execution_count": 119
    }
   ],
   "source": [
    "d = np.round(summary_statistics(BVSP),3)\n",
    "d"
   ]
  },
  {
   "cell_type": "code",
   "execution_count": 120,
   "metadata": {},
   "outputs": [
    {
     "output_type": "execute_result",
     "data": {
      "text/plain": [
       "       Daily  Weekly  Monthly  Quarterly  Annual\n",
       "mean   0.067   0.072    0.074      0.075   0.077\n",
       "std    0.118   0.137    0.152      0.151   0.154\n",
       "skew  -1.595  -1.390   -0.915     -0.994  -0.721\n",
       "kurt  29.865  15.511   11.374      9.295   5.379"
      ],
      "text/html": "<div>\n<style scoped>\n    .dataframe tbody tr th:only-of-type {\n        vertical-align: middle;\n    }\n\n    .dataframe tbody tr th {\n        vertical-align: top;\n    }\n\n    .dataframe thead th {\n        text-align: right;\n    }\n</style>\n<table border=\"1\" class=\"dataframe\">\n  <thead>\n    <tr style=\"text-align: right;\">\n      <th></th>\n      <th>Daily</th>\n      <th>Weekly</th>\n      <th>Monthly</th>\n      <th>Quarterly</th>\n      <th>Annual</th>\n    </tr>\n  </thead>\n  <tbody>\n    <tr>\n      <th>mean</th>\n      <td>0.067</td>\n      <td>0.072</td>\n      <td>0.074</td>\n      <td>0.075</td>\n      <td>0.077</td>\n    </tr>\n    <tr>\n      <th>std</th>\n      <td>0.118</td>\n      <td>0.137</td>\n      <td>0.152</td>\n      <td>0.151</td>\n      <td>0.154</td>\n    </tr>\n    <tr>\n      <th>skew</th>\n      <td>-1.595</td>\n      <td>-1.390</td>\n      <td>-0.915</td>\n      <td>-0.994</td>\n      <td>-0.721</td>\n    </tr>\n    <tr>\n      <th>kurt</th>\n      <td>29.865</td>\n      <td>15.511</td>\n      <td>11.374</td>\n      <td>9.295</td>\n      <td>5.379</td>\n    </tr>\n  </tbody>\n</table>\n</div>"
     },
     "metadata": {},
     "execution_count": 120
    }
   ],
   "source": [
    "g = np.round(summary_statistics(ff_factors_price[\"Mom\"]),3)\n",
    "g"
   ]
  },
  {
   "cell_type": "code",
   "execution_count": 77,
   "metadata": {},
   "outputs": [],
   "source": [
    "i = np.round(summary_statistics(ff_factors_price[\"SMB\"]),3)"
   ]
  },
  {
   "cell_type": "code",
   "execution_count": 78,
   "metadata": {},
   "outputs": [],
   "source": [
    "h = np.round(summary_statistics(ff_factors_price[\"HML\"]),3)"
   ]
  },
  {
   "cell_type": "code",
   "execution_count": 85,
   "metadata": {},
   "outputs": [],
   "source": [
    "j = np.round(summary_statistics(ff_factors_price[\"Mkt-RF\"]),3)"
   ]
  },
  {
   "cell_type": "code",
   "execution_count": 91,
   "metadata": {},
   "outputs": [
    {
     "output_type": "stream",
     "name": "stdout",
     "text": [
      "\\begin{tabular}{lrrrrrrrrrr}\n\\toprule\n{} &  HK/GBP &  MXN/USD &    DAX &    BSVP &   KS11 &  VBTLX &     Mom &   Value &    Size &  Market \\\\\n\\midrule\nmean &   0.031 &    0.079 &  0.110 &   0.470 &  0.089 &  0.004 &   0.069 &   0.040 &   0.012 &   0.077 \\\\\nstd  &   0.107 &    0.145 &  0.220 &   0.355 &  0.272 &  0.037 &   0.118 &   0.093 &   0.093 &   0.169 \\\\\nskew &   0.617 &    5.119 & -0.082 &   0.950 & -0.025 & -0.102 &  -1.595 &   0.732 &  -0.755 &  -0.121 \\\\\nkurt &  11.903 &  148.950 &  8.793 &  17.757 &  8.886 &  4.478 &  29.865 &  18.748 &  25.650 &  19.601 \\\\\n\\bottomrule\n\\end{tabular}\n\n"
     ]
    }
   ],
   "source": [
    "table_d = pd.concat([a[\"Daily\"],b[\"Daily\"],c[\"Daily\"],d[\"Daily\"],e[\"Daily\"],f[\"Daily\"],g[\"Daily\"],h[\"Daily\"],i[\"Daily\"],j[\"Daily\"]],axis=1)\n",
    "table_d.columns = [\"HK/GBP\", \"MXN/USD\", \"DAX\", \"BSVP\", \"KS11\", \"VBTLX\", \"Mom\", \"Value\", \"Size\", \"Market\"]\n",
    "table_d = np.round(table_d,3)\n",
    "table_d.name = \"Daily\"\n",
    "print(table_d.to_latex())"
   ]
  },
  {
   "cell_type": "code",
   "execution_count": 95,
   "metadata": {},
   "outputs": [
    {
     "output_type": "stream",
     "name": "stdout",
     "text": [
      "\\begin{tabular}{lrrrrrrrrrr}\n\\toprule\n{} &  HK/GBP &  MXN/USD &    DAX &   BSVP &   KS11 &  VBTLX &     Mom &   Value &    Size &  Market \\\\\n\\midrule\nmean &   0.032 &    0.079 &  0.108 &  0.458 &  0.086 &  0.005 &   0.074 &   0.042 &   0.012 &   0.080 \\\\\nstd  &   0.110 &    0.135 &  0.212 &  0.352 &  0.270 &  0.036 &   0.137 &   0.102 &   0.091 &   0.172 \\\\\nskew &   0.671 &    6.175 & -0.351 &  0.632 & -0.144 & -0.514 &  -1.390 &   1.102 &   0.083 &  -0.358 \\\\\nkurt &   7.721 &  106.744 &  6.865 &  7.500 &  8.045 &  4.162 &  15.511 &  16.147 &  13.124 &   9.143 \\\\\n\\bottomrule\n\\end{tabular}\n\n"
     ]
    }
   ],
   "source": [
    "table_w = pd.concat([a[\"Weekly\"],b[\"Weekly\"],c[\"Weekly\"],d[\"Weekly\"],e[\"Weekly\"],f[\"Weekly\"],g[\"Weekly\"],h[\"Weekly\"],i[\"Weekly\"],j[\"Weekly\"]],axis=1)\n",
    "table_w.columns = [\"HK/GBP\", \"MXN/USD\", \"DAX\", \"BSVP\", \"KS11\", \"VBTLX\", \"Mom\", \"Value\", \"Size\", \"Market\"]\n",
    "table_w = np.round(table_w,3)\n",
    "table_w.name = \"Weekly\"\n",
    "print(table_w.to_latex())"
   ]
  },
  {
   "cell_type": "code",
   "execution_count": 96,
   "metadata": {},
   "outputs": [
    {
     "output_type": "stream",
     "name": "stdout",
     "text": [
      "\\begin{tabular}{lrrrrrrrrrr}\n\\toprule\n{} &  HK/GBP &  MXN/USD &    DAX &    BSVP &   KS11 &  VBTLX &     Mom &   Value &    Size &  Market \\\\\n\\midrule\nmean &   0.031 &    0.082 &  0.107 &   0.488 &  0.090 &  0.005 &   0.077 &   0.044 &   0.013 &   0.083 \\\\\nstd  &   0.109 &    0.144 &  0.203 &   0.437 &  0.276 &  0.034 &   0.152 &   0.115 &   0.107 &   0.185 \\\\\nskew &   0.418 &    4.546 & -0.518 &   2.288 &  0.846 & -0.255 &  -0.915 &   1.292 &   1.117 &   0.193 \\\\\nkurt &   4.865 &   45.524 &  5.062 &  15.097 &  8.442 &  4.416 &  11.374 &  12.344 &  13.602 &  10.933 \\\\\n\\bottomrule\n\\end{tabular}\n\n"
     ]
    }
   ],
   "source": [
    "table_m = pd.concat([a[\"Monthly\"],b[\"Monthly\"],c[\"Monthly\"],d[\"Monthly\"],e[\"Monthly\"],f[\"Monthly\"],g[\"Monthly\"],h[\"Monthly\"],i[\"Monthly\"],j[\"Monthly\"]],axis=1)\n",
    "table_m.columns = [\"HK/GBP\", \"MXN/USD\", \"DAX\", \"BSVP\", \"KS11\", \"VBTLX\", \"Mom\", \"Value\", \"Size\", \"Market\"]\n",
    "table_m = np.round(table_m,3)\n",
    "print(table_m.to_latex())"
   ]
  },
  {
   "cell_type": "code",
   "execution_count": 97,
   "metadata": {},
   "outputs": [
    {
     "output_type": "stream",
     "name": "stdout",
     "text": [
      "\\begin{tabular}{lrrrrrrrrrr}\n\\toprule\n{} &  HK/GBP &  MXN/USD &    DAX &    BSVP &   KS11 &  VBTLX &    Mom &   Value &    Size &  Market \\\\\n\\midrule\nmean &   0.031 &    0.083 &  0.113 &   0.566 &  0.108 &  0.005 &  0.077 &   0.046 &   0.014 &   0.088 \\\\\nstd  &   0.118 &    0.157 &  0.226 &   0.828 &  0.323 &  0.033 &  0.151 &   0.135 &   0.116 &   0.220 \\\\\nskew &   0.796 &    2.987 & -0.631 &   4.475 &  1.198 & -0.211 & -0.994 &   1.336 &   1.216 &   1.822 \\\\\nkurt &   4.915 &   15.473 &  4.658 &  27.744 &  9.032 &  2.404 &  9.295 &  11.969 &  10.225 &  19.834 \\\\\n\\bottomrule\n\\end{tabular}\n\n"
     ]
    }
   ],
   "source": [
    "table_q = pd.concat([a[\"Quarterly\"],b[\"Quarterly\"],c[\"Quarterly\"],d[\"Quarterly\"],e[\"Quarterly\"],f[\"Quarterly\"],g[\"Quarterly\"],h[\"Quarterly\"],i[\"Quarterly\"],j[\"Quarterly\"]],axis=1)\n",
    "table_q.columns = [\"HK/GBP\", \"MXN/USD\", \"DAX\", \"BSVP\", \"KS11\", \"VBTLX\", \"Mom\", \"Value\", \"Size\", \"Market\"]\n",
    "table_q = np.round(table_q,3)\n",
    "print(table_q.to_latex())"
   ]
  },
  {
   "cell_type": "code",
   "execution_count": 98,
   "metadata": {},
   "outputs": [
    {
     "output_type": "stream",
     "name": "stdout",
     "text": [
      "\\begin{tabular}{lrrrrrrrrrr}\n\\toprule\n{} &  HK/GBP &  MXN/USD &    DAX &    BSVP &   KS11 &  VBTLX &    Mom &  Value &   Size &  Market \\\\\n\\midrule\nmean &   0.027 &    0.083 &  0.112 &   0.607 &  0.128 &  0.005 &  0.077 &  0.045 &  0.014 &   0.084 \\\\\nstd  &   0.139 &    0.171 &  0.230 &   2.042 &  0.305 &  0.025 &  0.154 &  0.130 &  0.117 &   0.197 \\\\\nskew &   0.756 &    1.803 & -0.653 &   4.481 &  0.105 & -0.050 & -0.721 &  0.353 &  0.226 &  -0.298 \\\\\nkurt &   3.263 &    5.739 &  2.785 &  22.036 &  3.031 &  2.846 &  5.379 &  3.470 &  4.180 &   2.982 \\\\\n\\bottomrule\n\\end{tabular}\n\n"
     ]
    }
   ],
   "source": [
    "table_a = pd.concat([a[\"Annual\"],b[\"Annual\"],c[\"Annual\"],d[\"Annual\"],e[\"Annual\"],f[\"Annual\"],g[\"Annual\"],h[\"Annual\"],i[\"Annual\"],j[\"Annual\"]],axis=1)\n",
    "table_a.columns = [\"HK/GBP\", \"MXN/USD\", \"DAX\", \"BSVP\", \"KS11\", \"VBTLX\", \"Mom\", \"Value\", \"Size\", \"Market\"]\n",
    "table_a = np.round(table_a,3)\n",
    "print(table_a.to_latex())"
   ]
  },
  {
   "cell_type": "code",
   "execution_count": null,
   "metadata": {},
   "outputs": [],
   "source": []
  },
  {
   "cell_type": "code",
   "execution_count": null,
   "metadata": {},
   "outputs": [],
   "source": []
  },
  {
   "cell_type": "code",
   "execution_count": 101,
   "metadata": {},
   "outputs": [
    {
     "output_type": "execute_result",
     "data": {
      "text/plain": [
       "       Daily  Weekly  Monthly  Quarterly\n",
       "mean  0.0383  0.0367   0.0412     0.0342\n",
       "std   0.1479  0.1420   0.1299     0.1165\n",
       "skew -0.3750 -0.6276  -0.5454    -0.5877\n",
       "kurt  6.8910  5.0810   4.3409     3.6521"
      ],
      "text/html": "<div>\n<style scoped>\n    .dataframe tbody tr th:only-of-type {\n        vertical-align: middle;\n    }\n\n    .dataframe tbody tr th {\n        vertical-align: top;\n    }\n\n    .dataframe thead th {\n        text-align: right;\n    }\n</style>\n<table border=\"1\" class=\"dataframe\">\n  <thead>\n    <tr style=\"text-align: right;\">\n      <th></th>\n      <th>Daily</th>\n      <th>Weekly</th>\n      <th>Monthly</th>\n      <th>Quarterly</th>\n    </tr>\n  </thead>\n  <tbody>\n    <tr>\n      <th>mean</th>\n      <td>0.0383</td>\n      <td>0.0367</td>\n      <td>0.0412</td>\n      <td>0.0342</td>\n    </tr>\n    <tr>\n      <th>std</th>\n      <td>0.1479</td>\n      <td>0.1420</td>\n      <td>0.1299</td>\n      <td>0.1165</td>\n    </tr>\n    <tr>\n      <th>skew</th>\n      <td>-0.3750</td>\n      <td>-0.6276</td>\n      <td>-0.5454</td>\n      <td>-0.5877</td>\n    </tr>\n    <tr>\n      <th>kurt</th>\n      <td>6.8910</td>\n      <td>5.0810</td>\n      <td>4.3409</td>\n      <td>3.6521</td>\n    </tr>\n  </tbody>\n</table>\n</div>"
     },
     "metadata": {},
     "execution_count": 101
    }
   ],
   "source": [
    "KS11_2019 = summary_statistics(KS11[\"31/12/2009\":\"31/12/2019\"])\n",
    "KS11_2019 = KS11_2019.drop(columns=\"Annual\")\n",
    "KS11_2019 = np.round(KS11_2019,4)\n",
    "KS11_2019"
   ]
  },
  {
   "cell_type": "code",
   "execution_count": 34,
   "metadata": {},
   "outputs": [
    {
     "output_type": "execute_result",
     "data": {
      "text/plain": [
       "       Daily  Weekly  Monthly  Quarterly\n",
       "mean  0.0955  0.1052   0.1002     0.1177\n",
       "std   0.2957  0.2916   0.2723     0.2998\n",
       "skew -0.3692 -0.1743  -0.1789     0.3144\n",
       "kurt  7.1155  5.9873   3.1254     3.0786"
      ],
      "text/html": "<div>\n<style scoped>\n    .dataframe tbody tr th:only-of-type {\n        vertical-align: middle;\n    }\n\n    .dataframe tbody tr th {\n        vertical-align: top;\n    }\n\n    .dataframe thead th {\n        text-align: right;\n    }\n</style>\n<table border=\"1\" class=\"dataframe\">\n  <thead>\n    <tr style=\"text-align: right;\">\n      <th></th>\n      <th>Daily</th>\n      <th>Weekly</th>\n      <th>Monthly</th>\n      <th>Quarterly</th>\n    </tr>\n  </thead>\n  <tbody>\n    <tr>\n      <th>mean</th>\n      <td>0.0955</td>\n      <td>0.1052</td>\n      <td>0.1002</td>\n      <td>0.1177</td>\n    </tr>\n    <tr>\n      <th>std</th>\n      <td>0.2957</td>\n      <td>0.2916</td>\n      <td>0.2723</td>\n      <td>0.2998</td>\n    </tr>\n    <tr>\n      <th>skew</th>\n      <td>-0.3692</td>\n      <td>-0.1743</td>\n      <td>-0.1789</td>\n      <td>0.3144</td>\n    </tr>\n    <tr>\n      <th>kurt</th>\n      <td>7.1155</td>\n      <td>5.9873</td>\n      <td>3.1254</td>\n      <td>3.0786</td>\n    </tr>\n  </tbody>\n</table>\n</div>"
     },
     "metadata": {},
     "execution_count": 34
    }
   ],
   "source": [
    "KS11_2009 = summary_statistics(KS11[\"31/12/1999\":\"31/12/2009\"])\n",
    "KS11_2009 = KS11_2009.drop(columns=\"Annual\")\n",
    "KS11_2009 = np.round(KS11_2009,4)\n",
    "KS11_2009"
   ]
  },
  {
   "cell_type": "code",
   "execution_count": 9,
   "metadata": {},
   "outputs": [
    {
     "output_type": "execute_result",
     "data": {
      "text/plain": [
       "       Daily  Weekly  Monthly  Quarterly\n",
       "mean  0.2685  0.2545   0.3398     0.5481\n",
       "std   0.4768  0.4828   0.5697     0.7275\n",
       "skew  0.2972 -0.1298   0.6885     0.2167\n",
       "kurt  3.9634  3.7448   3.2353     2.4770"
      ],
      "text/html": "<div>\n<style scoped>\n    .dataframe tbody tr th:only-of-type {\n        vertical-align: middle;\n    }\n\n    .dataframe tbody tr th {\n        vertical-align: top;\n    }\n\n    .dataframe thead th {\n        text-align: right;\n    }\n</style>\n<table border=\"1\" class=\"dataframe\">\n  <thead>\n    <tr style=\"text-align: right;\">\n      <th></th>\n      <th>Daily</th>\n      <th>Weekly</th>\n      <th>Monthly</th>\n      <th>Quarterly</th>\n    </tr>\n  </thead>\n  <tbody>\n    <tr>\n      <th>mean</th>\n      <td>0.2685</td>\n      <td>0.2545</td>\n      <td>0.3398</td>\n      <td>0.5481</td>\n    </tr>\n    <tr>\n      <th>std</th>\n      <td>0.4768</td>\n      <td>0.4828</td>\n      <td>0.5697</td>\n      <td>0.7275</td>\n    </tr>\n    <tr>\n      <th>skew</th>\n      <td>0.2972</td>\n      <td>-0.1298</td>\n      <td>0.6885</td>\n      <td>0.2167</td>\n    </tr>\n    <tr>\n      <th>kurt</th>\n      <td>3.9634</td>\n      <td>3.7448</td>\n      <td>3.2353</td>\n      <td>2.4770</td>\n    </tr>\n  </tbody>\n</table>\n</div>"
     },
     "metadata": {},
     "execution_count": 9
    }
   ],
   "source": [
    "KS11_1999 = summary_statistics(KS11[\"31/12/1989\":\"31/12/1999\"])\n",
    "KS11_1999 = KS11_1999.drop(columns=\"Annual\")\n",
    "KS11_1999 = np.round(KS11_1999,4)\n",
    "KS11_1999"
   ]
  },
  {
   "cell_type": "code",
   "execution_count": null,
   "metadata": {},
   "outputs": [],
   "source": []
  },
  {
   "cell_type": "code",
   "execution_count": null,
   "metadata": {},
   "outputs": [],
   "source": []
  },
  {
   "cell_type": "code",
   "execution_count": null,
   "metadata": {},
   "outputs": [],
   "source": []
  },
  {
   "cell_type": "code",
   "execution_count": null,
   "metadata": {},
   "outputs": [],
   "source": []
  },
  {
   "cell_type": "code",
   "execution_count": null,
   "metadata": {},
   "outputs": [],
   "source": []
  },
  {
   "cell_type": "code",
   "execution_count": null,
   "metadata": {},
   "outputs": [],
   "source": []
  },
  {
   "source": [
    "from scipy.special import gammaln\n",
    "from scipy.optimize import minimize\n",
    "\n",
    "def students_dof(prices):\n",
    "    def std_t_loglik(nu, x):\n",
    "        # These are fixed for now\n",
    "        mu = x.mean()\n",
    "        sigma2 = x.var()\n",
    "        sigma = np.sqrt(sigma2)\n",
    "\n",
    "        a = gammaln((nu + 1) / 2)\n",
    "        b = gammaln(nu / 2)\n",
    "        c = np.sqrt(np.pi * (nu-2))\n",
    "        d = ((nu + 1) / 2)\n",
    "        e = (x - mu) **2\n",
    "        f = sigma2 * (nu - 2)\n",
    "\n",
    "        loglik = a - b - np.log(c) - np.log(sigma) - d * np.log(1 + e / f)\n",
    "        return -(loglik.sum())\n",
    "    \n",
    "    d_returns = prices.pct_change().dropna()\n",
    "    w_returns = prices.resample(\"W-FRI\").last().pct_change().dropna()\n",
    "    m_returns = prices.resample(\"M\").last().pct_change().dropna()\n",
    "    q_returns = prices.resample(\"Q\").last().pct_change().dropna()\n",
    "\n",
    "    starting_val = np.array([3]) \n",
    "    opt = minimize(std_t_loglik, starting_val, args=(w_returns), bounds=[(2.01, 100)], options={\"disp\": True})\n",
    "    mle = opt.x[0]   \n",
    "    return mle"
   ],
   "cell_type": "markdown",
   "metadata": {}
  },
  {
   "cell_type": "code",
   "execution_count": 43,
   "metadata": {},
   "outputs": [],
   "source": [
    "def dof(prices):\n",
    "    \n",
    "    def calc_kurt(series):\n",
    "        mu = series.mean()\n",
    "        err = series - mu\n",
    "        var = (err**2).mean()\n",
    "        mom4 = (err**4).mean()\n",
    "        kurt = mom4 / var ** (4/2)\n",
    "        return kurt\n",
    "    \n",
    "    d_k = calc_kurt(prices.pct_change())\n",
    "    w_k = calc_kurt(prices.resample(\"W-FRI\").last().pct_change())\n",
    "    m_k = calc_kurt(prices.resample(\"M\").last().pct_change())\n",
    "    q_k = calc_kurt(prices.resample(\"Q\").last().pct_change())\n",
    "\n",
    "    def df(k):\n",
    "        a = k - 2\n",
    "        b = k - 4\n",
    "        df = 3 * (a/b)\n",
    "        if k > 4:\n",
    "            df=df\n",
    "        else:\n",
    "            df = float(\"inf\")\n",
    "        return df\n",
    "    \n",
    "    df_d = df(d_k)\n",
    "    df_w = df(w_k)\n",
    "    df_m = df(m_k)\n",
    "    df_q = df(q_k)\n",
    "\n",
    "    freedom = pd.Series([df_d, df_w, df_m, df_q], index = [\"Daily\", \"Weekly\", \"Monthly\", \"Quarterly\"])\n",
    "    return freedom\n",
    "\n",
    "\n"
   ]
  },
  {
   "cell_type": "code",
   "execution_count": 44,
   "metadata": {},
   "outputs": [],
   "source": [
    "df_DAX = dof(DAX)"
   ]
  },
  {
   "cell_type": "code",
   "execution_count": 45,
   "metadata": {},
   "outputs": [],
   "source": [
    "df_BVSP = dof(BVSP)"
   ]
  },
  {
   "cell_type": "code",
   "execution_count": 46,
   "metadata": {},
   "outputs": [],
   "source": [
    "df_HK = dof(HK_GBP)"
   ]
  },
  {
   "cell_type": "code",
   "execution_count": 47,
   "metadata": {},
   "outputs": [],
   "source": [
    "df_KS11 = dof(KS11)"
   ]
  },
  {
   "cell_type": "code",
   "execution_count": 48,
   "metadata": {},
   "outputs": [],
   "source": [
    "df_VBTLX = dof(VBTLX)"
   ]
  },
  {
   "cell_type": "code",
   "execution_count": 49,
   "metadata": {},
   "outputs": [],
   "source": [
    "df_peso = dof(peso_dollar)"
   ]
  },
  {
   "cell_type": "code",
   "execution_count": 50,
   "metadata": {},
   "outputs": [],
   "source": [
    "df_mom = dof(ff_factors_price[\"Mom\"])"
   ]
  },
  {
   "cell_type": "code",
   "execution_count": 51,
   "metadata": {},
   "outputs": [],
   "source": [
    "df_hml = dof(ff_factors_price[\"HML\"])"
   ]
  },
  {
   "cell_type": "code",
   "execution_count": 52,
   "metadata": {},
   "outputs": [],
   "source": [
    "df_smb = dof(ff_factors_price[\"SMB\"])"
   ]
  },
  {
   "cell_type": "code",
   "execution_count": 53,
   "metadata": {},
   "outputs": [],
   "source": [
    "df_mkt= dof(ff_factors_price[\"Mkt-RF\"])"
   ]
  },
  {
   "cell_type": "code",
   "execution_count": 121,
   "metadata": {},
   "outputs": [
    {
     "output_type": "execute_result",
     "data": {
      "text/plain": [
       "           HK/GBP  MXN/USD     DAX   BSVP   KS11   VBTLX  Momentum  Value  \\\n",
       "Daily       3.759    3.041   4.252  3.436  4.228  15.552     3.232  3.407   \n",
       "Weekly      4.612    3.058   5.094  4.714  4.483  40.074     3.521  3.494   \n",
       "Monthly     9.940    3.144   8.651  3.541  4.351  17.411     3.814  3.719   \n",
       "Quarterly   9.559    3.523  12.125  3.253  4.192     inf     4.133  3.753   \n",
       "\n",
       "            Size  Market  \n",
       "Daily      3.277   3.385  \n",
       "Weekly     3.658   4.167  \n",
       "Monthly    3.625   3.865  \n",
       "Quarterly  3.964   3.379  "
      ],
      "text/html": "<div>\n<style scoped>\n    .dataframe tbody tr th:only-of-type {\n        vertical-align: middle;\n    }\n\n    .dataframe tbody tr th {\n        vertical-align: top;\n    }\n\n    .dataframe thead th {\n        text-align: right;\n    }\n</style>\n<table border=\"1\" class=\"dataframe\">\n  <thead>\n    <tr style=\"text-align: right;\">\n      <th></th>\n      <th>HK/GBP</th>\n      <th>MXN/USD</th>\n      <th>DAX</th>\n      <th>BSVP</th>\n      <th>KS11</th>\n      <th>VBTLX</th>\n      <th>Momentum</th>\n      <th>Value</th>\n      <th>Size</th>\n      <th>Market</th>\n    </tr>\n  </thead>\n  <tbody>\n    <tr>\n      <th>Daily</th>\n      <td>3.759</td>\n      <td>3.041</td>\n      <td>4.252</td>\n      <td>3.436</td>\n      <td>4.228</td>\n      <td>15.552</td>\n      <td>3.232</td>\n      <td>3.407</td>\n      <td>3.277</td>\n      <td>3.385</td>\n    </tr>\n    <tr>\n      <th>Weekly</th>\n      <td>4.612</td>\n      <td>3.058</td>\n      <td>5.094</td>\n      <td>4.714</td>\n      <td>4.483</td>\n      <td>40.074</td>\n      <td>3.521</td>\n      <td>3.494</td>\n      <td>3.658</td>\n      <td>4.167</td>\n    </tr>\n    <tr>\n      <th>Monthly</th>\n      <td>9.940</td>\n      <td>3.144</td>\n      <td>8.651</td>\n      <td>3.541</td>\n      <td>4.351</td>\n      <td>17.411</td>\n      <td>3.814</td>\n      <td>3.719</td>\n      <td>3.625</td>\n      <td>3.865</td>\n    </tr>\n    <tr>\n      <th>Quarterly</th>\n      <td>9.559</td>\n      <td>3.523</td>\n      <td>12.125</td>\n      <td>3.253</td>\n      <td>4.192</td>\n      <td>inf</td>\n      <td>4.133</td>\n      <td>3.753</td>\n      <td>3.964</td>\n      <td>3.379</td>\n    </tr>\n  </tbody>\n</table>\n</div>"
     },
     "metadata": {},
     "execution_count": 121
    }
   ],
   "source": [
    "table = pd.concat([df_HK, df_peso, df_DAX, df_BVSP, df_KS11, df_VBTLX, df_mom, df_hml, df_smb, df_mkt], axis=1)\n",
    "table = np.round(table,3)\n",
    "table.columns = [\"HK/GBP\", \"MXN/USD\", \"DAX\", \"BSVP\", \"KS11\", \"VBTLX\", \"Momentum\", \"Value\", \"Size\", \"Market\"]\n",
    "table"
   ]
  },
  {
   "cell_type": "code",
   "execution_count": null,
   "metadata": {},
   "outputs": [],
   "source": []
  }
 ]
}