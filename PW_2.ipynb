{
 "metadata": {
  "language_info": {
   "codemirror_mode": {
    "name": "ipython",
    "version": 3
   },
   "file_extension": ".py",
   "mimetype": "text/x-python",
   "name": "python",
   "nbconvert_exporter": "python",
   "pygments_lexer": "ipython3",
   "version": "3.8.3-final"
  },
  "orig_nbformat": 2,
  "kernelspec": {
   "name": "python3",
   "display_name": "Python 3"
  }
 },
 "nbformat": 4,
 "nbformat_minor": 2,
 "cells": [
  {
   "cell_type": "code",
   "execution_count": 1,
   "metadata": {},
   "outputs": [],
   "source": [
    "import pandas as pd\n",
    "import numpy as np\n",
    "import pandas_datareader as pdr\n",
    "import matplotlib.pyplot as plt\n",
    "\n",
    "#Currencies\n",
    "peso_dollar = pdr.get_data_fred(\"DEXMXUS\", \"1975-01-01\", \"2019-12-31\")\n",
    "peso_dollar = peso_dollar.squeeze()\n",
    "HK_dollar = pdr.get_data_fred(\"DEXUSEU\", \"1975-01-01\", \"2019-12-31\")\n",
    "dollar_pound = pdr.get_data_fred(\"DEXUSUK\", \"1975-01-01\", \"2019-12-31\")\n",
    "dollar_pound = dollar_pound.squeeze()\n",
    "\n",
    "#Create / currency\n",
    "HK_GBP = HK_dollar\n",
    "HK_GBP[\"DEXHKUK\"] = dollar_pound / HK_dollar[\"DEXUSEU\"] \n",
    "HK_GBP = HK_GBP.drop(columns=[\"DEXUSEU\"])\n",
    "HK_GBP = HK_GBP.squeeze()\n",
    "\n",
    "\n",
    "#indexes\n",
    "KS11 = pdr.get_data_yahoo('^KS11', start='1997-07-01', end='2019-12-31')\n",
    "KS11 = KS11.drop(columns=[\"High\", \"Low\", \"Open\", \"Volume\", \"Close\"])\n",
    "KS11 = KS11.squeeze()\n",
    "BVSP = pdr.get_data_yahoo('^BVSP', start='1993-04-23', end='2019-12-31')\n",
    "BVSP = BVSP.drop(columns=[\"High\", \"Low\", \"Open\", \"Volume\", \"Close\"])\n",
    "BVSP = BVSP.squeeze()\n",
    "DAX = pdr.get_data_yahoo('^GDAXI', start='1987-12-30', end='2019-12-31')\n",
    "DAX = DAX.drop(columns=[\"High\", \"Low\", \"Open\", \"Volume\", \"Close\"])\n",
    "DAX = DAX.squeeze()\n",
    "VBTLX = pdr.get_data_yahoo('VBTLX', start='2001-11-12', end='2019-12-31')\n",
    "VBTLX = VBTLX.drop(columns=[\"High\", \"Low\", \"Open\", \"Volume\", \"Close\"])\n",
    "VBTLX = VBTLX.squeeze()\n",
    "\n",
    "#Factors\n",
    "ff_factors = pdr.get_data_famafrench(\"F-F_Research_Data_Factors_daily\", start=\"1920\", end=\"2019-12-31\")[0]\n",
    "ff_factors_mom = pdr.get_data_famafrench(\"F-F_Momentum_Factor_daily\", start=\"1920\", end=\"2019-12-31\")[0]\n",
    "# ff_factors = ff_factors.join(ff_factors_mom).dropna()\n",
    "ff_factors = pd.concat([ff_factors,ff_factors_mom], axis=1)\n",
    "ff_factors = ff_factors.dropna()\n",
    "ff_factors.columns = [col.strip(' ') for col in ff_factors.columns]\n",
    "ff_factors_price = (1+(ff_factors/100)).cumprod()"
   ]
  },
  {
   "cell_type": "code",
   "execution_count": 2,
   "metadata": {},
   "outputs": [],
   "source": [
    "import numpy as np\n",
    "import pandas as pd\n",
    "\n",
    "def summary_statistics(prices):\n",
    "\n",
    "    d_returns = prices.pct_change().dropna()\n",
    "    w_returns = prices.resample(\"W-FRI\").last().pct_change().dropna()\n",
    "    m_returns = prices.resample(\"M\").last().pct_change().dropna()\n",
    "    q_returns = prices.resample(\"Q\").last().pct_change().dropna()\n",
    "    y_returns = prices.resample(\"A\").last().pct_change().dropna()\n",
    "    # Convert prices to returns\n",
    "\n",
    "    # Enclosed function to find mean, std, skew and kurt: gives annualised stats\n",
    "    def process(returns, n):\n",
    "        returns_mu = returns.mean()                         # mean returns per time period\n",
    "        annual_mu =  returns_mu * n                          # annualised mean returns\n",
    "\n",
    "        returns_err = returns - returns_mu       \n",
    "        returns_var = (returns_err ** 2).mean()             # average squared return ( 2nd moment)\n",
    "        annual_var = returns_var * n                        # annual rescaled variance\n",
    "        annual_std = np.sqrt(annual_var)                    # annual rescaled std deviation\n",
    "\n",
    "        returns_mom3 = (returns_err ** 3).mean()\n",
    "        returns_mom4 = (returns_err ** 4).mean()            # Third and Fourth moments\n",
    "\n",
    "\n",
    "        annual_skew = (returns_mom3 / returns_var ** (3/2)) #/ np.sqrt(n)  # rescaled Skew and Kurtosis\n",
    "        annual_kurt = (returns_mom4 / returns_var ** (4/2)) #/ n\n",
    "\n",
    "        returns_stats = pd.Series([annual_mu, annual_std, annual_skew, annual_kurt], index = [\"mean\", \"std\", \"skew\", \"kurt\"])\n",
    "        \n",
    "        return returns_stats\n",
    "         \n",
    "    # Feed in daily, weekly, monthly and quarterly data\n",
    "    d_stats = process(d_returns, n = 252).rename(\"Daily\")\n",
    "    w_stats = process(w_returns, n = 52 ).rename(\"Weekly\")\n",
    "    m_stats = process(m_returns, n = 12 ).rename(\"Monthly\")\n",
    "    q_stats = process(q_returns, n = 4  ).rename(\"Quarterly\")\n",
    "    y_stats = process(y_returns, n = 1  ).rename(\"Annual\")\n",
    "\n",
    "    # Concatenate the series into a dataframe\n",
    "    stats = pd.concat([d_stats, w_stats, m_stats, q_stats, y_stats], axis=1)\n",
    "\n",
    "    return stats"
   ]
  },
  {
   "cell_type": "code",
   "execution_count": 3,
   "metadata": {},
   "outputs": [
    {
     "output_type": "stream",
     "name": "stdout",
     "text": [
      "\\begin{tabular}{lrrrrr}\n\\toprule\n{} &     Daily &    Weekly &   Monthly &  Quarterly &    Annual \\\\\n\\midrule\nmean & -0.004727 & -0.005385 & -0.006590 &  -0.008229 & -0.012186 \\\\\nstd  &  0.079820 &  0.081592 &  0.077987 &   0.076762 &  0.073662 \\\\\nskew & -0.363522 &  0.170465 & -0.930827 &  -0.809916 & -1.310201 \\\\\nkurt &  8.735029 &  7.325696 &  7.507785 &   6.175097 &  4.427539 \\\\\n\\bottomrule\n\\end{tabular}\n\n"
     ]
    }
   ],
   "source": [
    "a = round(summary_statistics(HK_GBP),3)\n",
    "print(summary_statistics(HK_GBP).to_latex())"
   ]
  },
  {
   "cell_type": "code",
   "execution_count": 4,
   "metadata": {},
   "outputs": [
    {
     "output_type": "execute_result",
     "data": {
      "text/plain": [
       "        Daily   Weekly  Monthly  Quarterly  Annual\n",
       "mean    0.076    0.076    0.079      0.081   0.083\n",
       "std     0.145    0.135    0.144      0.157   0.171\n",
       "skew    5.119    6.175    4.546      2.987   1.803\n",
       "kurt  148.950  106.744   45.524     15.473   5.739"
      ],
      "text/html": "<div>\n<style scoped>\n    .dataframe tbody tr th:only-of-type {\n        vertical-align: middle;\n    }\n\n    .dataframe tbody tr th {\n        vertical-align: top;\n    }\n\n    .dataframe thead th {\n        text-align: right;\n    }\n</style>\n<table border=\"1\" class=\"dataframe\">\n  <thead>\n    <tr style=\"text-align: right;\">\n      <th></th>\n      <th>Daily</th>\n      <th>Weekly</th>\n      <th>Monthly</th>\n      <th>Quarterly</th>\n      <th>Annual</th>\n    </tr>\n  </thead>\n  <tbody>\n    <tr>\n      <th>mean</th>\n      <td>0.076</td>\n      <td>0.076</td>\n      <td>0.079</td>\n      <td>0.081</td>\n      <td>0.083</td>\n    </tr>\n    <tr>\n      <th>std</th>\n      <td>0.145</td>\n      <td>0.135</td>\n      <td>0.144</td>\n      <td>0.157</td>\n      <td>0.171</td>\n    </tr>\n    <tr>\n      <th>skew</th>\n      <td>5.119</td>\n      <td>6.175</td>\n      <td>4.546</td>\n      <td>2.987</td>\n      <td>1.803</td>\n    </tr>\n    <tr>\n      <th>kurt</th>\n      <td>148.950</td>\n      <td>106.744</td>\n      <td>45.524</td>\n      <td>15.473</td>\n      <td>5.739</td>\n    </tr>\n  </tbody>\n</table>\n</div>"
     },
     "metadata": {},
     "execution_count": 4
    }
   ],
   "source": [
    "b = round(summary_statistics(peso_dollar),3)\n",
    "b"
   ]
  },
  {
   "cell_type": "code",
   "execution_count": 5,
   "metadata": {},
   "outputs": [
    {
     "output_type": "execute_result",
     "data": {
      "text/plain": [
       "      Daily  Weekly  Monthly  Quarterly  Annual\n",
       "mean  0.085   0.082    0.086      0.104   0.128\n",
       "std   0.272   0.270    0.276      0.323   0.305\n",
       "skew -0.025  -0.144    0.846      1.198   0.105\n",
       "kurt  8.886   8.045    8.442      9.032   3.031"
      ],
      "text/html": "<div>\n<style scoped>\n    .dataframe tbody tr th:only-of-type {\n        vertical-align: middle;\n    }\n\n    .dataframe tbody tr th {\n        vertical-align: top;\n    }\n\n    .dataframe thead th {\n        text-align: right;\n    }\n</style>\n<table border=\"1\" class=\"dataframe\">\n  <thead>\n    <tr style=\"text-align: right;\">\n      <th></th>\n      <th>Daily</th>\n      <th>Weekly</th>\n      <th>Monthly</th>\n      <th>Quarterly</th>\n      <th>Annual</th>\n    </tr>\n  </thead>\n  <tbody>\n    <tr>\n      <th>mean</th>\n      <td>0.085</td>\n      <td>0.082</td>\n      <td>0.086</td>\n      <td>0.104</td>\n      <td>0.128</td>\n    </tr>\n    <tr>\n      <th>std</th>\n      <td>0.272</td>\n      <td>0.270</td>\n      <td>0.276</td>\n      <td>0.323</td>\n      <td>0.305</td>\n    </tr>\n    <tr>\n      <th>skew</th>\n      <td>-0.025</td>\n      <td>-0.144</td>\n      <td>0.846</td>\n      <td>1.198</td>\n      <td>0.105</td>\n    </tr>\n    <tr>\n      <th>kurt</th>\n      <td>8.886</td>\n      <td>8.045</td>\n      <td>8.442</td>\n      <td>9.032</td>\n      <td>3.031</td>\n    </tr>\n  </tbody>\n</table>\n</div>"
     },
     "metadata": {},
     "execution_count": 5
    }
   ],
   "source": [
    "e = np.round(summary_statistics(KS11),3)\n",
    "e"
   ]
  },
  {
   "cell_type": "code",
   "execution_count": 6,
   "metadata": {},
   "outputs": [
    {
     "output_type": "execute_result",
     "data": {
      "text/plain": [
       "      Daily  Weekly  Monthly  Quarterly  Annual\n",
       "mean  0.038   0.039    0.039      0.040   0.040\n",
       "std   0.039   0.037    0.034      0.033   0.027\n",
       "skew  0.076  -0.396   -0.205     -0.147  -0.396\n",
       "kurt  4.365   4.097    4.433      2.570   2.697"
      ],
      "text/html": "<div>\n<style scoped>\n    .dataframe tbody tr th:only-of-type {\n        vertical-align: middle;\n    }\n\n    .dataframe tbody tr th {\n        vertical-align: top;\n    }\n\n    .dataframe thead th {\n        text-align: right;\n    }\n</style>\n<table border=\"1\" class=\"dataframe\">\n  <thead>\n    <tr style=\"text-align: right;\">\n      <th></th>\n      <th>Daily</th>\n      <th>Weekly</th>\n      <th>Monthly</th>\n      <th>Quarterly</th>\n      <th>Annual</th>\n    </tr>\n  </thead>\n  <tbody>\n    <tr>\n      <th>mean</th>\n      <td>0.038</td>\n      <td>0.039</td>\n      <td>0.039</td>\n      <td>0.040</td>\n      <td>0.040</td>\n    </tr>\n    <tr>\n      <th>std</th>\n      <td>0.039</td>\n      <td>0.037</td>\n      <td>0.034</td>\n      <td>0.033</td>\n      <td>0.027</td>\n    </tr>\n    <tr>\n      <th>skew</th>\n      <td>0.076</td>\n      <td>-0.396</td>\n      <td>-0.205</td>\n      <td>-0.147</td>\n      <td>-0.396</td>\n    </tr>\n    <tr>\n      <th>kurt</th>\n      <td>4.365</td>\n      <td>4.097</td>\n      <td>4.433</td>\n      <td>2.570</td>\n      <td>2.697</td>\n    </tr>\n  </tbody>\n</table>\n</div>"
     },
     "metadata": {},
     "execution_count": 6
    }
   ],
   "source": [
    "f = np.round(summary_statistics(VBTLX),3)\n",
    "f"
   ]
  },
  {
   "cell_type": "code",
   "execution_count": 7,
   "metadata": {},
   "outputs": [
    {
     "output_type": "execute_result",
     "data": {
      "text/plain": [
       "      Daily  Weekly  Monthly  Quarterly  Annual\n",
       "mean  0.105   0.103    0.102      0.108   0.112\n",
       "std   0.220   0.212    0.203      0.226   0.230\n",
       "skew -0.082  -0.351   -0.518     -0.631  -0.653\n",
       "kurt  8.793   6.865    5.062      4.658   2.785"
      ],
      "text/html": "<div>\n<style scoped>\n    .dataframe tbody tr th:only-of-type {\n        vertical-align: middle;\n    }\n\n    .dataframe tbody tr th {\n        vertical-align: top;\n    }\n\n    .dataframe thead th {\n        text-align: right;\n    }\n</style>\n<table border=\"1\" class=\"dataframe\">\n  <thead>\n    <tr style=\"text-align: right;\">\n      <th></th>\n      <th>Daily</th>\n      <th>Weekly</th>\n      <th>Monthly</th>\n      <th>Quarterly</th>\n      <th>Annual</th>\n    </tr>\n  </thead>\n  <tbody>\n    <tr>\n      <th>mean</th>\n      <td>0.105</td>\n      <td>0.103</td>\n      <td>0.102</td>\n      <td>0.108</td>\n      <td>0.112</td>\n    </tr>\n    <tr>\n      <th>std</th>\n      <td>0.220</td>\n      <td>0.212</td>\n      <td>0.203</td>\n      <td>0.226</td>\n      <td>0.230</td>\n    </tr>\n    <tr>\n      <th>skew</th>\n      <td>-0.082</td>\n      <td>-0.351</td>\n      <td>-0.518</td>\n      <td>-0.631</td>\n      <td>-0.653</td>\n    </tr>\n    <tr>\n      <th>kurt</th>\n      <td>8.793</td>\n      <td>6.865</td>\n      <td>5.062</td>\n      <td>4.658</td>\n      <td>2.785</td>\n    </tr>\n  </tbody>\n</table>\n</div>"
     },
     "metadata": {},
     "execution_count": 7
    }
   ],
   "source": [
    "c = np.round(summary_statistics(DAX),3)\n",
    "c"
   ]
  },
  {
   "cell_type": "code",
   "execution_count": 8,
   "metadata": {},
   "outputs": [
    {
     "output_type": "execute_result",
     "data": {
      "text/plain": [
       "       Daily  Weekly  Monthly  Quarterly  Annual\n",
       "mean   0.386   0.378    0.404      0.475   0.607\n",
       "std    0.355   0.352    0.437      0.828   2.042\n",
       "skew   0.950   0.632    2.288      4.475   4.481\n",
       "kurt  17.757   7.500   15.097     27.744  22.036"
      ],
      "text/html": "<div>\n<style scoped>\n    .dataframe tbody tr th:only-of-type {\n        vertical-align: middle;\n    }\n\n    .dataframe tbody tr th {\n        vertical-align: top;\n    }\n\n    .dataframe thead th {\n        text-align: right;\n    }\n</style>\n<table border=\"1\" class=\"dataframe\">\n  <thead>\n    <tr style=\"text-align: right;\">\n      <th></th>\n      <th>Daily</th>\n      <th>Weekly</th>\n      <th>Monthly</th>\n      <th>Quarterly</th>\n      <th>Annual</th>\n    </tr>\n  </thead>\n  <tbody>\n    <tr>\n      <th>mean</th>\n      <td>0.386</td>\n      <td>0.378</td>\n      <td>0.404</td>\n      <td>0.475</td>\n      <td>0.607</td>\n    </tr>\n    <tr>\n      <th>std</th>\n      <td>0.355</td>\n      <td>0.352</td>\n      <td>0.437</td>\n      <td>0.828</td>\n      <td>2.042</td>\n    </tr>\n    <tr>\n      <th>skew</th>\n      <td>0.950</td>\n      <td>0.632</td>\n      <td>2.288</td>\n      <td>4.475</td>\n      <td>4.481</td>\n    </tr>\n    <tr>\n      <th>kurt</th>\n      <td>17.757</td>\n      <td>7.500</td>\n      <td>15.097</td>\n      <td>27.744</td>\n      <td>22.036</td>\n    </tr>\n  </tbody>\n</table>\n</div>"
     },
     "metadata": {},
     "execution_count": 8
    }
   ],
   "source": [
    "d = np.round(summary_statistics(BVSP),3)\n",
    "d"
   ]
  },
  {
   "cell_type": "code",
   "execution_count": 9,
   "metadata": {},
   "outputs": [
    {
     "output_type": "execute_result",
     "data": {
      "text/plain": [
       "       Daily  Weekly  Monthly  Quarterly  Annual\n",
       "mean   0.067   0.072    0.075      0.075   0.077\n",
       "std    0.118   0.137    0.152      0.151   0.154\n",
       "skew  -1.595  -1.390   -0.915     -0.994  -0.722\n",
       "kurt  29.865  15.511   11.375      9.299   5.382"
      ],
      "text/html": "<div>\n<style scoped>\n    .dataframe tbody tr th:only-of-type {\n        vertical-align: middle;\n    }\n\n    .dataframe tbody tr th {\n        vertical-align: top;\n    }\n\n    .dataframe thead th {\n        text-align: right;\n    }\n</style>\n<table border=\"1\" class=\"dataframe\">\n  <thead>\n    <tr style=\"text-align: right;\">\n      <th></th>\n      <th>Daily</th>\n      <th>Weekly</th>\n      <th>Monthly</th>\n      <th>Quarterly</th>\n      <th>Annual</th>\n    </tr>\n  </thead>\n  <tbody>\n    <tr>\n      <th>mean</th>\n      <td>0.067</td>\n      <td>0.072</td>\n      <td>0.075</td>\n      <td>0.075</td>\n      <td>0.077</td>\n    </tr>\n    <tr>\n      <th>std</th>\n      <td>0.118</td>\n      <td>0.137</td>\n      <td>0.152</td>\n      <td>0.151</td>\n      <td>0.154</td>\n    </tr>\n    <tr>\n      <th>skew</th>\n      <td>-1.595</td>\n      <td>-1.390</td>\n      <td>-0.915</td>\n      <td>-0.994</td>\n      <td>-0.722</td>\n    </tr>\n    <tr>\n      <th>kurt</th>\n      <td>29.865</td>\n      <td>15.511</td>\n      <td>11.375</td>\n      <td>9.299</td>\n      <td>5.382</td>\n    </tr>\n  </tbody>\n</table>\n</div>"
     },
     "metadata": {},
     "execution_count": 9
    }
   ],
   "source": [
    "g = np.round(summary_statistics(ff_factors_price[\"Mom\"]),3)\n",
    "g"
   ]
  },
  {
   "cell_type": "code",
   "execution_count": 10,
   "metadata": {},
   "outputs": [],
   "source": [
    "i = np.round(summary_statistics(ff_factors_price[\"SMB\"]),3)"
   ]
  },
  {
   "cell_type": "code",
   "execution_count": 11,
   "metadata": {},
   "outputs": [],
   "source": [
    "h = np.round(summary_statistics(ff_factors_price[\"HML\"]),3)"
   ]
  },
  {
   "cell_type": "code",
   "execution_count": 12,
   "metadata": {},
   "outputs": [],
   "source": [
    "j = np.round(summary_statistics(ff_factors_price[\"Mkt-RF\"]),3)"
   ]
  },
  {
   "cell_type": "code",
   "execution_count": 13,
   "metadata": {},
   "outputs": [
    {
     "output_type": "stream",
     "name": "stdout",
     "text": [
      "\\begin{tabular}{lrrrrrrrrrr}\n\\toprule\n{} &  HK/GBP &  MXN/USD &    DAX &    BSVP &   KS11 &  VBTLX &     Mom &   Value &    Size &  Market \\\\\n\\midrule\nmean &  -0.005 &    0.076 &  0.105 &   0.386 &  0.085 &  0.038 &   0.067 &   0.039 &   0.012 &   0.074 \\\\\nstd  &   0.080 &    0.145 &  0.220 &   0.355 &  0.272 &  0.039 &   0.118 &   0.093 &   0.093 &   0.169 \\\\\nskew &  -0.364 &    5.119 & -0.082 &   0.950 & -0.025 &  0.076 &  -1.595 &   0.732 &  -0.755 &  -0.121 \\\\\nkurt &   8.735 &  148.950 &  8.793 &  17.757 &  8.886 &  4.365 &  29.865 &  18.748 &  25.650 &  19.601 \\\\\n\\bottomrule\n\\end{tabular}\n\n"
     ]
    }
   ],
   "source": [
    "table_d = pd.concat([a[\"Daily\"],b[\"Daily\"],c[\"Daily\"],d[\"Daily\"],e[\"Daily\"],f[\"Daily\"],g[\"Daily\"],h[\"Daily\"],i[\"Daily\"],j[\"Daily\"]],axis=1)\n",
    "table_d.columns = [\"HK/GBP\", \"MXN/USD\", \"DAX\", \"BSVP\", \"KS11\", \"VBTLX\", \"Mom\", \"Value\", \"Size\", \"Market\"]\n",
    "table_d = np.round(table_d,3)\n",
    "table_d.name = \"Daily\"\n",
    "print(table_d.to_latex())"
   ]
  },
  {
   "cell_type": "code",
   "execution_count": 14,
   "metadata": {},
   "outputs": [
    {
     "output_type": "stream",
     "name": "stdout",
     "text": [
      "\\begin{tabular}{lrrrrrrrrrr}\n\\toprule\n{} &  HK/GBP &  MXN/USD &    DAX &   BSVP &   KS11 &  VBTLX &     Mom &   Value &    Size &  Market \\\\\n\\midrule\nmean &  -0.005 &    0.076 &  0.103 &  0.378 &  0.082 &  0.039 &   0.072 &   0.041 &   0.012 &   0.077 \\\\\nstd  &   0.082 &    0.135 &  0.212 &  0.352 &  0.270 &  0.037 &   0.137 &   0.102 &   0.091 &   0.172 \\\\\nskew &   0.170 &    6.175 & -0.351 &  0.632 & -0.144 & -0.396 &  -1.390 &   1.102 &   0.083 &  -0.358 \\\\\nkurt &   7.326 &  106.744 &  6.865 &  7.500 &  8.045 &  4.097 &  15.511 &  16.147 &  13.124 &   9.143 \\\\\n\\bottomrule\n\\end{tabular}\n\n"
     ]
    }
   ],
   "source": [
    "table_w = pd.concat([a[\"Weekly\"],b[\"Weekly\"],c[\"Weekly\"],d[\"Weekly\"],e[\"Weekly\"],f[\"Weekly\"],g[\"Weekly\"],h[\"Weekly\"],i[\"Weekly\"],j[\"Weekly\"]],axis=1)\n",
    "table_w.columns = [\"HK/GBP\", \"MXN/USD\", \"DAX\", \"BSVP\", \"KS11\", \"VBTLX\", \"Mom\", \"Value\", \"Size\", \"Market\"]\n",
    "table_w = np.round(table_w,3)\n",
    "table_w.name = \"Weekly\"\n",
    "print(table_w.to_latex())"
   ]
  },
  {
   "cell_type": "code",
   "execution_count": 15,
   "metadata": {},
   "outputs": [
    {
     "output_type": "stream",
     "name": "stdout",
     "text": [
      "\\begin{tabular}{lrrrrrrrrrr}\n\\toprule\n{} &  HK/GBP &  MXN/USD &    DAX &    BSVP &   KS11 &  VBTLX &     Mom &   Value &    Size &  Market \\\\\n\\midrule\nmean &  -0.007 &    0.079 &  0.102 &   0.404 &  0.086 &  0.039 &   0.075 &   0.043 &   0.013 &   0.080 \\\\\nstd  &   0.078 &    0.144 &  0.203 &   0.437 &  0.276 &  0.034 &   0.152 &   0.115 &   0.107 &   0.185 \\\\\nskew &  -0.931 &    4.546 & -0.518 &   2.288 &  0.846 & -0.205 &  -0.915 &   1.292 &   1.117 &   0.193 \\\\\nkurt &   7.508 &   45.524 &  5.062 &  15.097 &  8.442 &  4.433 &  11.375 &  12.344 &  13.602 &  10.933 \\\\\n\\bottomrule\n\\end{tabular}\n\n"
     ]
    }
   ],
   "source": [
    "table_m = pd.concat([a[\"Monthly\"],b[\"Monthly\"],c[\"Monthly\"],d[\"Monthly\"],e[\"Monthly\"],f[\"Monthly\"],g[\"Monthly\"],h[\"Monthly\"],i[\"Monthly\"],j[\"Monthly\"]],axis=1)\n",
    "table_m.columns = [\"HK/GBP\", \"MXN/USD\", \"DAX\", \"BSVP\", \"KS11\", \"VBTLX\", \"Mom\", \"Value\", \"Size\", \"Market\"]\n",
    "table_m = np.round(table_m,3)\n",
    "print(table_m.to_latex())"
   ]
  },
  {
   "cell_type": "code",
   "execution_count": 16,
   "metadata": {},
   "outputs": [
    {
     "output_type": "stream",
     "name": "stdout",
     "text": [
      "\\begin{tabular}{lrrrrrrrrrr}\n\\toprule\n{} &  HK/GBP &  MXN/USD &    DAX &    BSVP &   KS11 &  VBTLX &    Mom &   Value &    Size &  Market \\\\\n\\midrule\nmean &  -0.008 &    0.081 &  0.108 &   0.475 &  0.104 &  0.040 &  0.075 &   0.045 &   0.014 &   0.085 \\\\\nstd  &   0.077 &    0.157 &  0.226 &   0.828 &  0.323 &  0.033 &  0.151 &   0.135 &   0.116 &   0.220 \\\\\nskew &  -0.810 &    2.987 & -0.631 &   4.475 &  1.198 & -0.147 & -0.994 &   1.336 &   1.216 &   1.822 \\\\\nkurt &   6.175 &   15.473 &  4.658 &  27.744 &  9.032 &  2.570 &  9.299 &  11.969 &  10.225 &  19.834 \\\\\n\\bottomrule\n\\end{tabular}\n\n"
     ]
    }
   ],
   "source": [
    "table_q = pd.concat([a[\"Quarterly\"],b[\"Quarterly\"],c[\"Quarterly\"],d[\"Quarterly\"],e[\"Quarterly\"],f[\"Quarterly\"],g[\"Quarterly\"],h[\"Quarterly\"],i[\"Quarterly\"],j[\"Quarterly\"]],axis=1)\n",
    "table_q.columns = [\"HK/GBP\", \"MXN/USD\", \"DAX\", \"BSVP\", \"KS11\", \"VBTLX\", \"Mom\", \"Value\", \"Size\", \"Market\"]\n",
    "table_q = np.round(table_q,3)\n",
    "print(table_q.to_latex())"
   ]
  },
  {
   "cell_type": "code",
   "execution_count": 17,
   "metadata": {},
   "outputs": [
    {
     "output_type": "stream",
     "name": "stdout",
     "text": [
      "\\begin{tabular}{lrrrrrrrrrr}\n\\toprule\n{} &  HK/GBP &  MXN/USD &    DAX &    BSVP &   KS11 &  VBTLX &    Mom &  Value &   Size &  Market \\\\\n\\midrule\nmean &  -0.012 &    0.083 &  0.112 &   0.607 &  0.128 &  0.040 &  0.077 &  0.045 &  0.014 &   0.084 \\\\\nstd  &   0.074 &    0.171 &  0.230 &   2.042 &  0.305 &  0.027 &  0.154 &  0.130 &  0.117 &   0.197 \\\\\nskew &  -1.310 &    1.803 & -0.653 &   4.481 &  0.105 & -0.396 & -0.722 &  0.353 &  0.226 &  -0.298 \\\\\nkurt &   4.428 &    5.739 &  2.785 &  22.036 &  3.031 &  2.697 &  5.382 &  3.470 &  4.180 &   2.982 \\\\\n\\bottomrule\n\\end{tabular}\n\n"
     ]
    }
   ],
   "source": [
    "table_a = pd.concat([a[\"Annual\"],b[\"Annual\"],c[\"Annual\"],d[\"Annual\"],e[\"Annual\"],f[\"Annual\"],g[\"Annual\"],h[\"Annual\"],i[\"Annual\"],j[\"Annual\"]],axis=1)\n",
    "table_a.columns = [\"HK/GBP\", \"MXN/USD\", \"DAX\", \"BSVP\", \"KS11\", \"VBTLX\", \"Mom\", \"Value\", \"Size\", \"Market\"]\n",
    "table_a = np.round(table_a,3)\n",
    "print(table_a.to_latex())"
   ]
  },
  {
   "cell_type": "code",
   "execution_count": null,
   "metadata": {},
   "outputs": [],
   "source": []
  },
  {
   "cell_type": "code",
   "execution_count": null,
   "metadata": {},
   "outputs": [],
   "source": []
  },
  {
   "cell_type": "code",
   "execution_count": 18,
   "metadata": {},
   "outputs": [],
   "source": [
    "KS11_2019 = summary_statistics(KS11[\"31/12/2009\":\"31/12/2019\"])\n",
    "KS11_2019 = KS11_2019.drop(columns=\"Annual\")\n",
    "KS11_2019 = np.round(KS11_2019,3)\n",
    "KS11_2009 = summary_statistics(KS11[\"31/12/1999\":\"31/12/2009\"])\n",
    "KS11_2009 = KS11_2009.drop(columns=\"Annual\")\n",
    "KS11_2009 = np.round(KS11_2009,3)\n",
    "KS11_1999 = summary_statistics(KS11[\"31/12/1989\":\"31/12/1999\"])\n",
    "KS11_1999 = KS11_1999.drop(columns=\"Annual\")\n",
    "KS11_1999 = np.round(KS11_1999,3)\n",
    "KS11_1989 = summary_statistics(KS11[\"31/12/1979\":\"31/12/1989\"])\n",
    "KS11_1989 = KS11_1989.drop(columns=\"Annual\")\n",
    "KS11_1989 = np.round(KS11_1989,3)"
   ]
  },
  {
   "cell_type": "code",
   "execution_count": 19,
   "metadata": {},
   "outputs": [
    {
     "output_type": "execute_result",
     "data": {
      "text/plain": [
       "       Daily  Weekly  Monthly  Quarterly\n",
       "mean   1.133   1.120    1.241      1.538\n",
       "std    0.520   0.517    0.716      1.490\n",
       "skew   0.986   0.417    1.164      2.056\n",
       "kurt  13.305   4.508    5.941      7.076"
      ],
      "text/html": "<div>\n<style scoped>\n    .dataframe tbody tr th:only-of-type {\n        vertical-align: middle;\n    }\n\n    .dataframe tbody tr th {\n        vertical-align: top;\n    }\n\n    .dataframe thead th {\n        text-align: right;\n    }\n</style>\n<table border=\"1\" class=\"dataframe\">\n  <thead>\n    <tr style=\"text-align: right;\">\n      <th></th>\n      <th>Daily</th>\n      <th>Weekly</th>\n      <th>Monthly</th>\n      <th>Quarterly</th>\n    </tr>\n  </thead>\n  <tbody>\n    <tr>\n      <th>mean</th>\n      <td>1.133</td>\n      <td>1.120</td>\n      <td>1.241</td>\n      <td>1.538</td>\n    </tr>\n    <tr>\n      <th>std</th>\n      <td>0.520</td>\n      <td>0.517</td>\n      <td>0.716</td>\n      <td>1.490</td>\n    </tr>\n    <tr>\n      <th>skew</th>\n      <td>0.986</td>\n      <td>0.417</td>\n      <td>1.164</td>\n      <td>2.056</td>\n    </tr>\n    <tr>\n      <th>kurt</th>\n      <td>13.305</td>\n      <td>4.508</td>\n      <td>5.941</td>\n      <td>7.076</td>\n    </tr>\n  </tbody>\n</table>\n</div>"
     },
     "metadata": {},
     "execution_count": 19
    }
   ],
   "source": [
    "BSVP = np.round(BVSP,3)\n",
    "BSVP_2019 = summary_statistics(BSVP[\"31/12/2009\":\"31/12/2019\"])\n",
    "BSVP_2019 = BSVP_2019.drop(columns=\"Annual\")\n",
    "BSVP_2019 = np.round(BSVP_2019,3)\n",
    "BSVP_2009 = summary_statistics(BSVP[\"31/12/1999\":\"31/12/2009\"])\n",
    "BSVP_2009 = BSVP_2009.drop(columns=\"Annual\")\n",
    "BSVP_2009 = np.round(BSVP_2009,3)\n",
    "BSVP_1999 = summary_statistics(BSVP[\"31/12/1989\":\"31/12/1999\"])\n",
    "BSVP_1999 = BSVP_1999.drop(columns=\"Annual\")\n",
    "BSVP_1999 = np.round(BSVP_1999,3)\n",
    "BSVP_1989 = summary_statistics(BSVP[\"31/12/1979\":\"31/12/1989\"])\n",
    "BSVP_1989 = BSVP_1989.drop(columns=\"Annual\")\n",
    "BSVP_1989 = np.round(BSVP_1989,3)\n",
    "BSVP_1999"
   ]
  },
  {
   "cell_type": "code",
   "execution_count": 20,
   "metadata": {},
   "outputs": [],
   "source": [
    "DAX = np.round(DAX,3)\n",
    "DAX_2019 = summary_statistics(DAX[\"31/12/2009\":\"31/12/2019\"])\n",
    "DAX_2019 = DAX_2019.drop(columns=\"Annual\")\n",
    "DAX_2009 = summary_statistics(DAX[\"31/12/1999\":\"31/12/2009\"])\n",
    "DAX_2009 = DAX_2009.drop(columns=\"Annual\")\n",
    "DAX_1999 = summary_statistics(DAX[\"31/12/1989\":\"31/12/1999\"])\n",
    "DAX_1999 = DAX_1999.drop(columns=\"Annual\")\n",
    "DAX_1989 = summary_statistics(DAX[\"31/12/1979\":\"31/12/1989\"])\n",
    "DAX_1989 = DAX_1989.drop(columns=\"Annual\")"
   ]
  },
  {
   "cell_type": "code",
   "execution_count": 21,
   "metadata": {},
   "outputs": [
    {
     "output_type": "execute_result",
     "data": {
      "text/plain": [
       "Date\n",
       "2001-11-12     5.528\n",
       "2001-11-13     5.518\n",
       "2001-11-14     5.491\n",
       "2001-11-15     5.444\n",
       "2001-11-16     5.412\n",
       "               ...  \n",
       "2019-12-24    10.815\n",
       "2019-12-26    10.825\n",
       "2019-12-27    10.835\n",
       "2019-12-30    10.835\n",
       "2019-12-31    10.840\n",
       "Name: Adj Close, Length: 4565, dtype: float64"
      ]
     },
     "metadata": {},
     "execution_count": 21
    }
   ],
   "source": [
    "VBTLX = np.round(VBTLX,3)\n",
    "VBTLX_2019 = summary_statistics(VBTLX[\"31/12/2009\":\"31/12/2019\"])\n",
    "VBTLX_2019 = VBTLX_2019.drop(columns=\"Annual\")\n",
    "VBTLX_2009 = summary_statistics(VBTLX[\"31/12/1999\":\"31/12/2009\"])\n",
    "VBTLX_2009 = VBTLX_2009.drop(columns=\"Annual\")\n",
    "VBTLX_1999 = summary_statistics(VBTLX[\"31/12/1989\":\"31/12/1999\"])\n",
    "VBTLX_1999 = VBTLX_1999.drop(columns=\"Annual\")\n",
    "VBTLX_1989 = summary_statistics(VBTLX[\"31/12/1979\":\"31/12/1989\"])\n",
    "VBTLX_1989 = VBTLX_1989.drop(columns=\"Annual\")\n",
    "VBTLX"
   ]
  },
  {
   "cell_type": "code",
   "execution_count": 22,
   "metadata": {},
   "outputs": [],
   "source": [
    "HK_GBP = np.round(HK_GBP,3)\n",
    "HK_GBP_2019 = summary_statistics(HK_GBP[\"31/12/2009\":\"31/12/2019\"])\n",
    "HK_GBP_2019 = HK_GBP_2019.drop(columns=\"Annual\")\n",
    "HK_GBP_2009 = summary_statistics(HK_GBP[\"31/12/1999\":\"31/12/2009\"])\n",
    "HK_GBP_2009 = HK_GBP_2009.drop(columns=\"Annual\")\n",
    "HK_GBP_1999 = summary_statistics(HK_GBP[\"31/12/1989\":\"31/12/1999\"])\n",
    "HK_GBP_1999 = HK_GBP_1999.drop(columns=\"Annual\")\n",
    "HK_GBP_1989 = summary_statistics(HK_GBP[\"31/12/1979\":\"31/12/1989\"])\n",
    "HK_GBP_1989 = HK_GBP_1989.drop(columns=\"Annual\")"
   ]
  },
  {
   "cell_type": "code",
   "execution_count": 23,
   "metadata": {},
   "outputs": [],
   "source": [
    "peso_dollar = np.round(peso_dollar,3)\n",
    "peso_dollar_2019 = summary_statistics(peso_dollar[\"31/12/2009\":\"31/12/2019\"])\n",
    "peso_dollar_2019 = peso_dollar_2019.drop(columns=\"Annual\")\n",
    "peso_dollar_2009 = summary_statistics(peso_dollar[\"31/12/1999\":\"31/12/2009\"])\n",
    "peso_dollar_2009 = peso_dollar_2009.drop(columns=\"Annual\")\n",
    "peso_dollar_1999 = summary_statistics(peso_dollar[\"31/12/1989\":\"31/12/1999\"])\n",
    "peso_dollar_1999 = peso_dollar_1999.drop(columns=\"Annual\")\n",
    "peso_dollar_1989 = summary_statistics(peso_dollar[\"31/12/1979\":\"31/12/1989\"])\n",
    "peso_dollar_1989 = peso_dollar_1989.drop(columns=\"Annual\")"
   ]
  },
  {
   "cell_type": "code",
   "execution_count": 24,
   "metadata": {},
   "outputs": [],
   "source": [
    "mom = np.round(ff_factors_price[\"Mom\"],3)\n",
    "mom = np.round(mom,3)\n",
    "mom_2019 = summary_statistics(mom[\"31/12/2009\":\"31/12/2019\"])\n",
    "mom_2019 = mom_2019.drop(columns=\"Annual\")\n",
    "mom_2009 = summary_statistics(mom[\"31/12/1999\":\"31/12/2009\"])\n",
    "mom_2009 = mom_2009.drop(columns=\"Annual\")\n",
    "mom_1999 = summary_statistics(mom[\"31/12/1989\":\"31/12/1999\"])\n",
    "mom_1999 = mom_1999.drop(columns=\"Annual\")\n",
    "mom_1989 = summary_statistics(mom[\"31/12/1979\":\"31/12/1989\"])\n",
    "mom_1989 = mom_1989.drop(columns=\"Annual\")"
   ]
  },
  {
   "cell_type": "code",
   "execution_count": 25,
   "metadata": {},
   "outputs": [],
   "source": [
    "market = np.round(ff_factors_price[\"Mkt-RF\"],3)\n",
    "market = np.round(market,3)\n",
    "market_2019 = summary_statistics(market[\"31/12/2009\":\"31/12/2019\"])\n",
    "market_2019 = market_2019.drop(columns=\"Annual\")\n",
    "market_2009 = summary_statistics(market[\"31/12/1999\":\"31/12/2009\"])\n",
    "market_2009 = market_2009.drop(columns=\"Annual\")\n",
    "market_1999 = summary_statistics(market[\"31/12/1989\":\"31/12/1999\"])\n",
    "market_1999 = market_1999.drop(columns=\"Annual\")\n",
    "market_1989 = summary_statistics(market[\"31/12/1979\":\"31/12/1989\"])\n",
    "market_1989 = market_1989.drop(columns=\"Annual\")"
   ]
  },
  {
   "cell_type": "code",
   "execution_count": 26,
   "metadata": {},
   "outputs": [],
   "source": [
    "size = np.round(ff_factors_price[\"SMB\"],3)\n",
    "size = np.round(size,3)\n",
    "size_2019 = summary_statistics(size[\"31/12/2009\":\"31/12/2019\"])\n",
    "size_2019 = size_2019.drop(columns=\"Annual\")\n",
    "size_2009 = summary_statistics(size[\"31/12/1999\":\"31/12/2009\"])\n",
    "size_2009 = size_2009.drop(columns=\"Annual\")\n",
    "size_1999 = summary_statistics(size[\"31/12/1989\":\"31/12/1999\"])\n",
    "size_1999 = size_1999.drop(columns=\"Annual\")\n",
    "size_1989 = summary_statistics(size[\"31/12/1979\":\"31/12/1989\"])\n",
    "size_1989 = size_1989.drop(columns=\"Annual\")"
   ]
  },
  {
   "cell_type": "code",
   "execution_count": 27,
   "metadata": {},
   "outputs": [],
   "source": [
    "value = np.round(ff_factors_price[\"HML\"],3)\n",
    "value = np.round(value,3)\n",
    "value_2019 = summary_statistics(value[\"31/12/2009\":\"31/12/2019\"])\n",
    "value_2019 = value_2019.drop(columns=\"Annual\")\n",
    "value_2009 = summary_statistics(value[\"31/12/1999\":\"31/12/2009\"])\n",
    "value_2009 = value_2009.drop(columns=\"Annual\")\n",
    "value_1999 = summary_statistics(value[\"31/12/1989\":\"31/12/1999\"])\n",
    "value_1999 = value_1999.drop(columns=\"Annual\")\n",
    "value_1989 = summary_statistics(value[\"31/12/1979\":\"31/12/1989\"])\n",
    "value_1989 = value_1989.drop(columns=\"Annual\")"
   ]
  },
  {
   "cell_type": "code",
   "execution_count": 28,
   "metadata": {},
   "outputs": [
    {
     "output_type": "execute_result",
     "data": {
      "text/plain": [
       "      HK/GBP  MXN/USD    DAX   BSVP   KS11  VBTLX  Momentum  Value   Size  \\\n",
       "mean   0.008    0.042  0.096  0.076  0.038  0.037     0.048 -0.024 -0.003   \n",
       "std    0.081    0.110  0.189  0.223  0.148  0.035     0.112  0.080  0.082   \n",
       "skew  -0.530    0.758 -0.229 -0.068 -0.375 -0.100    -0.314  0.343  0.170   \n",
       "kurt  10.189    9.937  5.669  4.787  6.891  3.872     5.034  4.926  4.498   \n",
       "\n",
       "      Market  \n",
       "mean   0.134  \n",
       "std    0.152  \n",
       "skew  -0.422  \n",
       "kurt   7.373  "
      ],
      "text/html": "<div>\n<style scoped>\n    .dataframe tbody tr th:only-of-type {\n        vertical-align: middle;\n    }\n\n    .dataframe tbody tr th {\n        vertical-align: top;\n    }\n\n    .dataframe thead th {\n        text-align: right;\n    }\n</style>\n<table border=\"1\" class=\"dataframe\">\n  <thead>\n    <tr style=\"text-align: right;\">\n      <th></th>\n      <th>HK/GBP</th>\n      <th>MXN/USD</th>\n      <th>DAX</th>\n      <th>BSVP</th>\n      <th>KS11</th>\n      <th>VBTLX</th>\n      <th>Momentum</th>\n      <th>Value</th>\n      <th>Size</th>\n      <th>Market</th>\n    </tr>\n  </thead>\n  <tbody>\n    <tr>\n      <th>mean</th>\n      <td>0.008</td>\n      <td>0.042</td>\n      <td>0.096</td>\n      <td>0.076</td>\n      <td>0.038</td>\n      <td>0.037</td>\n      <td>0.048</td>\n      <td>-0.024</td>\n      <td>-0.003</td>\n      <td>0.134</td>\n    </tr>\n    <tr>\n      <th>std</th>\n      <td>0.081</td>\n      <td>0.110</td>\n      <td>0.189</td>\n      <td>0.223</td>\n      <td>0.148</td>\n      <td>0.035</td>\n      <td>0.112</td>\n      <td>0.080</td>\n      <td>0.082</td>\n      <td>0.152</td>\n    </tr>\n    <tr>\n      <th>skew</th>\n      <td>-0.530</td>\n      <td>0.758</td>\n      <td>-0.229</td>\n      <td>-0.068</td>\n      <td>-0.375</td>\n      <td>-0.100</td>\n      <td>-0.314</td>\n      <td>0.343</td>\n      <td>0.170</td>\n      <td>-0.422</td>\n    </tr>\n    <tr>\n      <th>kurt</th>\n      <td>10.189</td>\n      <td>9.937</td>\n      <td>5.669</td>\n      <td>4.787</td>\n      <td>6.891</td>\n      <td>3.872</td>\n      <td>5.034</td>\n      <td>4.926</td>\n      <td>4.498</td>\n      <td>7.373</td>\n    </tr>\n  </tbody>\n</table>\n</div>"
     },
     "metadata": {},
     "execution_count": 28
    }
   ],
   "source": [
    "# Daily 2019\n",
    "sub_table1d = pd.concat([HK_GBP_2019[\"Daily\"],peso_dollar_2019[\"Daily\"],DAX_2019[\"Daily\"], BSVP_2019[\"Daily\"], KS11_2019[\"Daily\"], VBTLX_2019[\"Daily\"], mom_2019[\"Daily\"], value_2019[\"Daily\"], size_2019[\"Daily\"],market_2019[\"Daily\"]], axis=1)\n",
    "sub_table1d = np.round(sub_table1d,3)\n",
    "sub_table1d.columns = [\"HK/GBP\", \"MXN/USD\", \"DAX\", \"BSVP\", \"KS11\", \"VBTLX\", \"Momentum\", \"Value\", \"Size\", \"Market\"]\n",
    "sub_table1d"
   ]
  },
  {
   "cell_type": "code",
   "execution_count": 29,
   "metadata": {},
   "outputs": [
    {
     "output_type": "execute_result",
     "data": {
      "text/plain": [
       "      HK/GBP  MXN/USD    DAX   BSVP   KS11  VBTLX  Momentum  Value   Size  \\\n",
       "mean   0.008    0.043  0.096  0.072  0.036  0.036     0.047 -0.023 -0.003   \n",
       "std    0.077    0.110  0.185  0.210  0.142  0.034     0.110  0.080  0.080   \n",
       "skew   0.043    0.441 -0.411  0.294 -0.628 -0.581    -0.631  0.486  0.186   \n",
       "kurt   3.561    4.588  4.853  5.435  5.081  4.269     4.865  4.570  4.533   \n",
       "\n",
       "      Market  \n",
       "mean   0.132  \n",
       "std    0.144  \n",
       "skew  -0.513  \n",
       "kurt   4.886  "
      ],
      "text/html": "<div>\n<style scoped>\n    .dataframe tbody tr th:only-of-type {\n        vertical-align: middle;\n    }\n\n    .dataframe tbody tr th {\n        vertical-align: top;\n    }\n\n    .dataframe thead th {\n        text-align: right;\n    }\n</style>\n<table border=\"1\" class=\"dataframe\">\n  <thead>\n    <tr style=\"text-align: right;\">\n      <th></th>\n      <th>HK/GBP</th>\n      <th>MXN/USD</th>\n      <th>DAX</th>\n      <th>BSVP</th>\n      <th>KS11</th>\n      <th>VBTLX</th>\n      <th>Momentum</th>\n      <th>Value</th>\n      <th>Size</th>\n      <th>Market</th>\n    </tr>\n  </thead>\n  <tbody>\n    <tr>\n      <th>mean</th>\n      <td>0.008</td>\n      <td>0.043</td>\n      <td>0.096</td>\n      <td>0.072</td>\n      <td>0.036</td>\n      <td>0.036</td>\n      <td>0.047</td>\n      <td>-0.023</td>\n      <td>-0.003</td>\n      <td>0.132</td>\n    </tr>\n    <tr>\n      <th>std</th>\n      <td>0.077</td>\n      <td>0.110</td>\n      <td>0.185</td>\n      <td>0.210</td>\n      <td>0.142</td>\n      <td>0.034</td>\n      <td>0.110</td>\n      <td>0.080</td>\n      <td>0.080</td>\n      <td>0.144</td>\n    </tr>\n    <tr>\n      <th>skew</th>\n      <td>0.043</td>\n      <td>0.441</td>\n      <td>-0.411</td>\n      <td>0.294</td>\n      <td>-0.628</td>\n      <td>-0.581</td>\n      <td>-0.631</td>\n      <td>0.486</td>\n      <td>0.186</td>\n      <td>-0.513</td>\n    </tr>\n    <tr>\n      <th>kurt</th>\n      <td>3.561</td>\n      <td>4.588</td>\n      <td>4.853</td>\n      <td>5.435</td>\n      <td>5.081</td>\n      <td>4.269</td>\n      <td>4.865</td>\n      <td>4.570</td>\n      <td>4.533</td>\n      <td>4.886</td>\n    </tr>\n  </tbody>\n</table>\n</div>"
     },
     "metadata": {},
     "execution_count": 29
    }
   ],
   "source": [
    "# Weekly 2019\n",
    "sub_table1w = pd.concat([HK_GBP_2019[\"Weekly\"],peso_dollar_2019[\"Weekly\"],DAX_2019[\"Weekly\"], BSVP_2019[\"Weekly\"], KS11_2019[\"Weekly\"], VBTLX_2019[\"Weekly\"], mom_2019[\"Weekly\"], value_2019[\"Weekly\"], size_2019[\"Weekly\"],market_2019[\"Weekly\"]], axis=1)\n",
    "sub_table1w = np.round(sub_table1w,3)\n",
    "sub_table1w.columns = [\"HK/GBP\", \"MXN/USD\", \"DAX\", \"BSVP\", \"KS11\", \"VBTLX\", \"Momentum\", \"Value\", \"Size\", \"Market\"]\n",
    "sub_table1w"
   ]
  },
  {
   "cell_type": "code",
   "execution_count": 30,
   "metadata": {},
   "outputs": [
    {
     "output_type": "execute_result",
     "data": {
      "text/plain": [
       "      HK/GBP  MXN/USD    DAX   BSVP   KS11  VBTLX  Momentum  Value   Size  \\\n",
       "mean   0.007    0.043  0.100  0.077  0.040  0.036     0.048 -0.024 -0.003   \n",
       "std    0.074    0.116  0.160  0.196  0.130  0.030     0.112  0.078  0.077   \n",
       "skew  -0.455    0.698 -0.528  0.212 -0.545 -0.071     0.044  0.678  0.094   \n",
       "kurt   4.181    3.821  4.992  2.887  4.341  3.740     3.632  3.863  2.645   \n",
       "\n",
       "      Market  \n",
       "mean   0.131  \n",
       "std    0.129  \n",
       "skew  -0.370  \n",
       "kurt   3.514  "
      ],
      "text/html": "<div>\n<style scoped>\n    .dataframe tbody tr th:only-of-type {\n        vertical-align: middle;\n    }\n\n    .dataframe tbody tr th {\n        vertical-align: top;\n    }\n\n    .dataframe thead th {\n        text-align: right;\n    }\n</style>\n<table border=\"1\" class=\"dataframe\">\n  <thead>\n    <tr style=\"text-align: right;\">\n      <th></th>\n      <th>HK/GBP</th>\n      <th>MXN/USD</th>\n      <th>DAX</th>\n      <th>BSVP</th>\n      <th>KS11</th>\n      <th>VBTLX</th>\n      <th>Momentum</th>\n      <th>Value</th>\n      <th>Size</th>\n      <th>Market</th>\n    </tr>\n  </thead>\n  <tbody>\n    <tr>\n      <th>mean</th>\n      <td>0.007</td>\n      <td>0.043</td>\n      <td>0.100</td>\n      <td>0.077</td>\n      <td>0.040</td>\n      <td>0.036</td>\n      <td>0.048</td>\n      <td>-0.024</td>\n      <td>-0.003</td>\n      <td>0.131</td>\n    </tr>\n    <tr>\n      <th>std</th>\n      <td>0.074</td>\n      <td>0.116</td>\n      <td>0.160</td>\n      <td>0.196</td>\n      <td>0.130</td>\n      <td>0.030</td>\n      <td>0.112</td>\n      <td>0.078</td>\n      <td>0.077</td>\n      <td>0.129</td>\n    </tr>\n    <tr>\n      <th>skew</th>\n      <td>-0.455</td>\n      <td>0.698</td>\n      <td>-0.528</td>\n      <td>0.212</td>\n      <td>-0.545</td>\n      <td>-0.071</td>\n      <td>0.044</td>\n      <td>0.678</td>\n      <td>0.094</td>\n      <td>-0.370</td>\n    </tr>\n    <tr>\n      <th>kurt</th>\n      <td>4.181</td>\n      <td>3.821</td>\n      <td>4.992</td>\n      <td>2.887</td>\n      <td>4.341</td>\n      <td>3.740</td>\n      <td>3.632</td>\n      <td>3.863</td>\n      <td>2.645</td>\n      <td>3.514</td>\n    </tr>\n  </tbody>\n</table>\n</div>"
     },
     "metadata": {},
     "execution_count": 30
    }
   ],
   "source": [
    "# Monthly 2019\n",
    "sub_table1m = pd.concat([HK_GBP_2019[\"Monthly\"],peso_dollar_2019[\"Monthly\"],DAX_2019[\"Monthly\"], BSVP_2019[\"Monthly\"], KS11_2019[\"Monthly\"], VBTLX_2019[\"Monthly\"], mom_2019[\"Monthly\"], value_2019[\"Monthly\"], size_2019[\"Monthly\"],market_2019[\"Monthly\"]], axis=1)\n",
    "sub_table1m = np.round(sub_table1m,3)\n",
    "sub_table1m.columns = [\"HK/GBP\", \"MXN/USD\", \"DAX\", \"BSVP\", \"KS11\", \"VBTLX\", \"Momentum\", \"Value\", \"Size\", \"Market\"]\n",
    "sub_table1m"
   ]
  },
  {
   "cell_type": "code",
   "execution_count": 31,
   "metadata": {},
   "outputs": [
    {
     "output_type": "stream",
     "name": "stdout",
     "text": [
      "\\begin{tabular}{lrrrrrrrrrr}\n\\toprule\n{} &  HK/GBP &  MXN/USD &    DAX &   BVSP &   KS11 &  VBTLX &  Momentum &  Value &   Size &  Market \\\\\n\\midrule\nmean &   0.007 &    0.043 &  0.095 &  0.070 &  0.034 &  0.037 &     0.045 & -0.023 & -0.004 &   0.133 \\\\\nstd  &   0.065 &    0.108 &  0.175 &  0.192 &  0.117 &  0.032 &     0.085 &  0.084 &  0.073 &   0.133 \\\\\nskew &   0.266 &    0.494 & -0.659 & -0.459 & -0.588 & -0.431 &    -0.172 &  1.424 & -0.396 &  -1.072 \\\\\nkurt &   3.093 &    3.470 &  4.358 &  2.223 &  3.652 &  2.937 &     3.786 &  7.291 &  2.998 &   4.298 \\\\\n\\bottomrule\n\\end{tabular}\n\n"
     ]
    }
   ],
   "source": [
    "# Quarterly 2019\n",
    "sub_table1q = pd.concat([HK_GBP_2019[\"Quarterly\"],peso_dollar_2019[\"Quarterly\"],DAX_2019[\"Quarterly\"], BSVP_2019[\"Quarterly\"], KS11_2019[\"Quarterly\"], VBTLX_2019[\"Quarterly\"], mom_2019[\"Quarterly\"], value_2019[\"Quarterly\"], size_2019[\"Quarterly\"],market_2019[\"Quarterly\"]], axis=1)\n",
    "sub_table1q = np.round(sub_table1q,3)\n",
    "sub_table1q.columns = [\"HK/GBP\", \"MXN/USD\", \"DAX\", \"BVSP\", \"KS11\", \"VBTLX\", \"Momentum\", \"Value\", \"Size\", \"Market\"]\n",
    "print(sub_table1q.to_latex())"
   ]
  },
  {
   "cell_type": "code",
   "execution_count": 32,
   "metadata": {},
   "outputs": [
    {
     "output_type": "stream",
     "name": "stdout",
     "text": [
      "\\begin{tabular}{lrrrrrrrrrr}\n\\toprule\n{} &  HK/GBP &  MXN/USD &    DAX &   BVSP &   KS11 &  VBTLX &  Momentum &  Value &   Size &  Market \\\\\n\\midrule\nmean &  -0.031 &    0.037 &  0.016 &  0.188 &  0.113 &  0.044 &     0.027 &  0.091 &  0.040 &  -0.014 \\\\\nstd  &   0.087 &    0.108 &  0.278 &  0.311 &  0.300 &  0.034 &     0.223 &  0.153 &  0.097 &   0.184 \\\\\nskew &  -1.037 &    2.543 & -0.366 & -0.046 &  0.314 &  0.111 &    -0.470 &  1.039 &  0.201 &  -0.275 \\\\\nkurt &   6.075 &   12.495 &  3.409 &  2.629 &  3.079 &  2.094 &     4.183 &  4.914 &  2.535 &   2.724 \\\\\n\\bottomrule\n\\end{tabular}\n\n"
     ]
    }
   ],
   "source": [
    "# Quarterly 2009\n",
    "sub_table2q = pd.concat([HK_GBP_2009[\"Quarterly\"],peso_dollar_2009[\"Quarterly\"],DAX_2009[\"Quarterly\"], BSVP_2009[\"Quarterly\"], KS11_2009[\"Quarterly\"], VBTLX_2009[\"Quarterly\"], mom_2009[\"Quarterly\"], value_2009[\"Quarterly\"], size_2009[\"Quarterly\"],market_2009[\"Quarterly\"]], axis=1)\n",
    "sub_table2q = np.round(sub_table2q,3)\n",
    "sub_table2q.columns = [\"HK/GBP\", \"MXN/USD\", \"DAX\", \"BVSP\", \"KS11\", \"VBTLX\", \"Momentum\", \"Value\", \"Size\", \"Market\"]\n",
    "print(sub_table2q.to_latex())"
   ]
  },
  {
   "cell_type": "code",
   "execution_count": 33,
   "metadata": {},
   "outputs": [
    {
     "output_type": "stream",
     "name": "stdout",
     "text": [
      "\\begin{tabular}{lrrrrrrrrrr}\n\\toprule\n{} &  HK/GBP &  MXN/USD &    DAX &   BVSP &   KS11 &  VBTLX &  Momentum &  Value &   Size &  Market \\\\\n\\midrule\nmean &   0.097 &    0.216 &  0.159 &  1.538 &  0.462 &    NaN &     0.143 &  0.007 & -0.022 &   0.138 \\\\\nstd  &   0.022 &    0.250 &  0.230 &  1.490 &  0.727 &    NaN &     0.129 &  0.117 &  0.111 &   0.146 \\\\\nskew &   0.019 &    2.143 & -0.486 &  2.056 &  0.217 &    NaN &     0.760 &  0.299 &  0.111 &  -0.212 \\\\\nkurt &   1.500 &    6.950 &  4.759 &  7.076 &  2.477 &    NaN &     4.011 &  4.041 &  2.565 &   4.136 \\\\\n\\bottomrule\n\\end{tabular}\n\n"
     ]
    }
   ],
   "source": [
    "# Quarterly 1999\n",
    "sub_table3q = pd.concat([HK_GBP_1999[\"Quarterly\"],peso_dollar_1999[\"Quarterly\"],DAX_1999[\"Quarterly\"], BSVP_1999[\"Quarterly\"], KS11_1999[\"Quarterly\"], VBTLX_1999[\"Quarterly\"], mom_1999[\"Quarterly\"], value_1999[\"Quarterly\"], size_1999[\"Quarterly\"],market_1999[\"Quarterly\"]], axis=1)\n",
    "sub_table3q = np.round(sub_table3q,3)\n",
    "sub_table3q.columns = [\"HK/GBP\", \"MXN/USD\", \"DAX\", \"BVSP\", \"KS11\", \"VBTLX\", \"Momentum\", \"Value\", \"Size\", \"Market\"]\n",
    "print(sub_table3q.to_latex())"
   ]
  },
  {
   "cell_type": "code",
   "execution_count": 34,
   "metadata": {},
   "outputs": [
    {
     "output_type": "stream",
     "name": "stdout",
     "text": [
      "\\begin{tabular}{lrrrrrrrrrr}\n\\toprule\n{} &  HK/GBP &  MXN/USD &    DAX &  BVSP &  KS11 &  VBTLX &  Momentum &  Value &   Size &  Market \\\\\n\\midrule\nmean &     NaN &      NaN &  0.299 &   NaN &   NaN &    NaN &     0.086 &  0.067 & -0.012 &   0.087 \\\\\nstd  &     NaN &      NaN &  0.083 &   NaN &   NaN &    NaN &     0.108 &  0.113 &  0.089 &   0.176 \\\\\nskew &     NaN &      NaN & -0.465 &   NaN &   NaN &    NaN &    -0.056 &  0.200 &  0.270 &  -0.559 \\\\\nkurt &     NaN &      NaN &  2.637 &   NaN &   NaN &    NaN &     2.653 &  3.199 &  2.727 &   3.530 \\\\\n\\bottomrule\n\\end{tabular}\n\n"
     ]
    }
   ],
   "source": [
    "# Quarterly 1989\n",
    "sub_table4q = pd.concat([HK_GBP_1989[\"Quarterly\"],peso_dollar_1989[\"Quarterly\"],DAX_1989[\"Quarterly\"], BSVP_1989[\"Quarterly\"], KS11_1989[\"Quarterly\"], VBTLX_1989[\"Quarterly\"], mom_1989[\"Quarterly\"], value_1989[\"Quarterly\"], size_1989[\"Quarterly\"],market_1989[\"Quarterly\"]], axis=1)\n",
    "sub_table4q = np.round(sub_table4q,3)\n",
    "sub_table4q.columns = [\"HK/GBP\", \"MXN/USD\", \"DAX\", \"BVSP\", \"KS11\", \"VBTLX\", \"Momentum\", \"Value\", \"Size\", \"Market\"]\n",
    "print(sub_table4q.to_latex())"
   ]
  },
  {
   "cell_type": "code",
   "execution_count": null,
   "metadata": {},
   "outputs": [],
   "source": []
  },
  {
   "cell_type": "code",
   "execution_count": null,
   "metadata": {},
   "outputs": [],
   "source": []
  },
  {
   "cell_type": "code",
   "execution_count": null,
   "metadata": {},
   "outputs": [],
   "source": []
  },
  {
   "cell_type": "code",
   "execution_count": null,
   "metadata": {},
   "outputs": [],
   "source": []
  },
  {
   "cell_type": "code",
   "execution_count": 35,
   "metadata": {},
   "outputs": [],
   "source": [
    "from matplotlib import pyplot"
   ]
  },
  {
   "cell_type": "code",
   "execution_count": 36,
   "metadata": {},
   "outputs": [
    {
     "output_type": "execute_result",
     "data": {
      "text/plain": [
       "(-0.1, 0.5)"
      ]
     },
     "metadata": {},
     "execution_count": 36
    },
    {
     "output_type": "display_data",
     "data": {
      "text/plain": "<Figure size 432x288 with 1 Axes>",
      "image/svg+xml": "<?xml version=\"1.0\" encoding=\"utf-8\" standalone=\"no\"?>\n<!DOCTYPE svg PUBLIC \"-//W3C//DTD SVG 1.1//EN\"\n  \"http://www.w3.org/Graphics/SVG/1.1/DTD/svg11.dtd\">\n<!-- Created with matplotlib (https://matplotlib.org/) -->\n<svg height=\"252.317344pt\" version=\"1.1\" viewBox=\"0 0 388.434375 252.317344\" width=\"388.434375pt\" xmlns=\"http://www.w3.org/2000/svg\" xmlns:xlink=\"http://www.w3.org/1999/xlink\">\n <metadata>\n  <rdf:RDF xmlns:cc=\"http://creativecommons.org/ns#\" xmlns:dc=\"http://purl.org/dc/elements/1.1/\" xmlns:rdf=\"http://www.w3.org/1999/02/22-rdf-syntax-ns#\">\n   <cc:Work>\n    <dc:type rdf:resource=\"http://purl.org/dc/dcmitype/StillImage\"/>\n    <dc:date>2020-11-26T04:37:59.601601</dc:date>\n    <dc:format>image/svg+xml</dc:format>\n    <dc:creator>\n     <cc:Agent>\n      <dc:title>Matplotlib v3.3.2, https://matplotlib.org/</dc:title>\n     </cc:Agent>\n    </dc:creator>\n   </cc:Work>\n  </rdf:RDF>\n </metadata>\n <defs>\n  <style type=\"text/css\">*{stroke-linecap:butt;stroke-linejoin:round;}</style>\n </defs>\n <g id=\"figure_1\">\n  <g id=\"patch_1\">\n   <path d=\"M -0 252.317344 \nL 388.434375 252.317344 \nL 388.434375 0 \nL -0 0 \nz\n\" style=\"fill:none;\"/>\n  </g>\n  <g id=\"axes_1\">\n   <g id=\"patch_2\">\n    <path d=\"M 38.482813 228.439219 \nL 373.282813 228.439219 \nL 373.282813 10.999219 \nL 38.482813 10.999219 \nz\n\" style=\"fill:#ffffff;\"/>\n   </g>\n   <g id=\"PathCollection_1\">\n    <defs>\n     <path d=\"M 0 3 \nC 0.795609 3 1.55874 2.683901 2.12132 2.12132 \nC 2.683901 1.55874 3 0.795609 3 0 \nC 3 -0.795609 2.683901 -1.55874 2.12132 -2.12132 \nC 1.55874 -2.683901 0.795609 -3 0 -3 \nC -0.795609 -3 -1.55874 -2.683901 -2.12132 -2.12132 \nC -2.683901 -1.55874 -3 -0.795609 -3 0 \nC -3 0.795609 -2.683901 1.55874 -2.12132 2.12132 \nC -1.55874 2.683901 -0.795609 3 0 3 \nz\n\" id=\"m2a26c10692\" style=\"stroke:#0000ff;\"/>\n    </defs>\n    <g clip-path=\"url(#p146b4ee9f8)\">\n     <use style=\"fill:#0000ff;stroke:#0000ff;\" x=\"98.446968\" xlink:href=\"#m2a26c10692\" y=\"165.240694\"/>\n    </g>\n   </g>\n   <g id=\"PathCollection_2\">\n    <g clip-path=\"url(#p146b4ee9f8)\">\n     <use style=\"fill:#0000ff;stroke:#0000ff;\" x=\"118.509425\" xlink:href=\"#m2a26c10692\" y=\"150.209504\"/>\n    </g>\n   </g>\n   <g id=\"PathCollection_3\">\n    <g clip-path=\"url(#p146b4ee9f8)\">\n     <use style=\"fill:#0000ff;stroke:#0000ff;\" x=\"150.063072\" xlink:href=\"#m2a26c10692\" y=\"134.206326\"/>\n    </g>\n   </g>\n   <g id=\"PathCollection_4\">\n    <g clip-path=\"url(#p146b4ee9f8)\">\n     <use style=\"fill:#0000ff;stroke:#0000ff;\" x=\"137.248813\" xlink:href=\"#m2a26c10692\" y=\"121.168819\"/>\n    </g>\n   </g>\n   <g id=\"PathCollection_5\">\n    <g clip-path=\"url(#p146b4ee9f8)\">\n     <use style=\"fill:#0000ff;stroke:#0000ff;\" x=\"116.602812\" xlink:href=\"#m2a26c10692\" y=\"145.087219\"/>\n    </g>\n   </g>\n   <g id=\"PathCollection_6\">\n    <g clip-path=\"url(#p146b4ee9f8)\">\n     <use style=\"fill:#0000ff;stroke:#0000ff;\" x=\"114.629608\" xlink:href=\"#m2a26c10692\" y=\"181.45039\"/>\n    </g>\n   </g>\n   <g id=\"PathCollection_7\">\n    <g clip-path=\"url(#p146b4ee9f8)\">\n     <use style=\"fill:#0000ff;stroke:#0000ff;\" x=\"120.815017\" xlink:href=\"#m2a26c10692\" y=\"151.752389\"/>\n    </g>\n   </g>\n   <g id=\"PathCollection_8\">\n    <g clip-path=\"url(#p146b4ee9f8)\">\n     <use style=\"fill:#0000ff;stroke:#0000ff;\" x=\"81.056628\" xlink:href=\"#m2a26c10692\" y=\"163.856424\"/>\n    </g>\n   </g>\n   <g id=\"PathCollection_9\">\n    <g clip-path=\"url(#p146b4ee9f8)\">\n     <use style=\"fill:#0000ff;stroke:#0000ff;\" x=\"92.437748\" xlink:href=\"#m2a26c10692\" y=\"164.397832\"/>\n    </g>\n   </g>\n   <g id=\"PathCollection_10\">\n    <g clip-path=\"url(#p146b4ee9f8)\">\n     <use style=\"fill:#0000ff;stroke:#0000ff;\" x=\"167.425942\" xlink:href=\"#m2a26c10692\" y=\"145.395096\"/>\n    </g>\n   </g>\n   <g id=\"matplotlib.axis_1\">\n    <g id=\"xtick_1\">\n     <g id=\"line2d_1\">\n      <defs>\n       <path d=\"M 0 0 \nL 0 3.5 \n\" id=\"mbb9af6585f\" style=\"stroke:#000000;stroke-width:0.8;\"/>\n      </defs>\n      <g>\n       <use style=\"stroke:#000000;stroke-width:0.8;\" x=\"38.482813\" xlink:href=\"#mbb9af6585f\" y=\"228.439219\"/>\n      </g>\n     </g>\n     <g id=\"text_1\">\n      <!-- −0.1 -->\n      <g transform=\"translate(26.341406 243.037656)scale(0.1 -0.1)\">\n       <defs>\n        <path d=\"M 10.59375 35.5 \nL 73.1875 35.5 \nL 73.1875 27.203125 \nL 10.59375 27.203125 \nz\n\" id=\"DejaVuSans-8722\"/>\n        <path d=\"M 31.78125 66.40625 \nQ 24.171875 66.40625 20.328125 58.90625 \nQ 16.5 51.421875 16.5 36.375 \nQ 16.5 21.390625 20.328125 13.890625 \nQ 24.171875 6.390625 31.78125 6.390625 \nQ 39.453125 6.390625 43.28125 13.890625 \nQ 47.125 21.390625 47.125 36.375 \nQ 47.125 51.421875 43.28125 58.90625 \nQ 39.453125 66.40625 31.78125 66.40625 \nz\nM 31.78125 74.21875 \nQ 44.046875 74.21875 50.515625 64.515625 \nQ 56.984375 54.828125 56.984375 36.375 \nQ 56.984375 17.96875 50.515625 8.265625 \nQ 44.046875 -1.421875 31.78125 -1.421875 \nQ 19.53125 -1.421875 13.0625 8.265625 \nQ 6.59375 17.96875 6.59375 36.375 \nQ 6.59375 54.828125 13.0625 64.515625 \nQ 19.53125 74.21875 31.78125 74.21875 \nz\n\" id=\"DejaVuSans-48\"/>\n        <path d=\"M 10.6875 12.40625 \nL 21 12.40625 \nL 21 0 \nL 10.6875 0 \nz\n\" id=\"DejaVuSans-46\"/>\n        <path d=\"M 12.40625 8.296875 \nL 28.515625 8.296875 \nL 28.515625 63.921875 \nL 10.984375 60.40625 \nL 10.984375 69.390625 \nL 28.421875 72.90625 \nL 38.28125 72.90625 \nL 38.28125 8.296875 \nL 54.390625 8.296875 \nL 54.390625 0 \nL 12.40625 0 \nz\n\" id=\"DejaVuSans-49\"/>\n       </defs>\n       <use xlink:href=\"#DejaVuSans-8722\"/>\n       <use x=\"83.789062\" xlink:href=\"#DejaVuSans-48\"/>\n       <use x=\"147.412109\" xlink:href=\"#DejaVuSans-46\"/>\n       <use x=\"179.199219\" xlink:href=\"#DejaVuSans-49\"/>\n      </g>\n     </g>\n    </g>\n    <g id=\"xtick_2\">\n     <g id=\"line2d_2\">\n      <g>\n       <use style=\"stroke:#000000;stroke-width:0.8;\" x=\"94.282813\" xlink:href=\"#mbb9af6585f\" y=\"228.439219\"/>\n      </g>\n     </g>\n     <g id=\"text_2\">\n      <!-- 0.0 -->\n      <g transform=\"translate(86.33125 243.037656)scale(0.1 -0.1)\">\n       <use xlink:href=\"#DejaVuSans-48\"/>\n       <use x=\"63.623047\" xlink:href=\"#DejaVuSans-46\"/>\n       <use x=\"95.410156\" xlink:href=\"#DejaVuSans-48\"/>\n      </g>\n     </g>\n    </g>\n    <g id=\"xtick_3\">\n     <g id=\"line2d_3\">\n      <g>\n       <use style=\"stroke:#000000;stroke-width:0.8;\" x=\"150.082813\" xlink:href=\"#mbb9af6585f\" y=\"228.439219\"/>\n      </g>\n     </g>\n     <g id=\"text_3\">\n      <!-- 0.1 -->\n      <g transform=\"translate(142.13125 243.037656)scale(0.1 -0.1)\">\n       <use xlink:href=\"#DejaVuSans-48\"/>\n       <use x=\"63.623047\" xlink:href=\"#DejaVuSans-46\"/>\n       <use x=\"95.410156\" xlink:href=\"#DejaVuSans-49\"/>\n      </g>\n     </g>\n    </g>\n    <g id=\"xtick_4\">\n     <g id=\"line2d_4\">\n      <g>\n       <use style=\"stroke:#000000;stroke-width:0.8;\" x=\"205.882813\" xlink:href=\"#mbb9af6585f\" y=\"228.439219\"/>\n      </g>\n     </g>\n     <g id=\"text_4\">\n      <!-- 0.2 -->\n      <g transform=\"translate(197.93125 243.037656)scale(0.1 -0.1)\">\n       <defs>\n        <path d=\"M 19.1875 8.296875 \nL 53.609375 8.296875 \nL 53.609375 0 \nL 7.328125 0 \nL 7.328125 8.296875 \nQ 12.9375 14.109375 22.625 23.890625 \nQ 32.328125 33.6875 34.8125 36.53125 \nQ 39.546875 41.84375 41.421875 45.53125 \nQ 43.3125 49.21875 43.3125 52.78125 \nQ 43.3125 58.59375 39.234375 62.25 \nQ 35.15625 65.921875 28.609375 65.921875 \nQ 23.96875 65.921875 18.8125 64.3125 \nQ 13.671875 62.703125 7.8125 59.421875 \nL 7.8125 69.390625 \nQ 13.765625 71.78125 18.9375 73 \nQ 24.125 74.21875 28.421875 74.21875 \nQ 39.75 74.21875 46.484375 68.546875 \nQ 53.21875 62.890625 53.21875 53.421875 \nQ 53.21875 48.921875 51.53125 44.890625 \nQ 49.859375 40.875 45.40625 35.40625 \nQ 44.1875 33.984375 37.640625 27.21875 \nQ 31.109375 20.453125 19.1875 8.296875 \nz\n\" id=\"DejaVuSans-50\"/>\n       </defs>\n       <use xlink:href=\"#DejaVuSans-48\"/>\n       <use x=\"63.623047\" xlink:href=\"#DejaVuSans-46\"/>\n       <use x=\"95.410156\" xlink:href=\"#DejaVuSans-50\"/>\n      </g>\n     </g>\n    </g>\n    <g id=\"xtick_5\">\n     <g id=\"line2d_5\">\n      <g>\n       <use style=\"stroke:#000000;stroke-width:0.8;\" x=\"261.682813\" xlink:href=\"#mbb9af6585f\" y=\"228.439219\"/>\n      </g>\n     </g>\n     <g id=\"text_5\">\n      <!-- 0.3 -->\n      <g transform=\"translate(253.73125 243.037656)scale(0.1 -0.1)\">\n       <defs>\n        <path d=\"M 40.578125 39.3125 \nQ 47.65625 37.796875 51.625 33 \nQ 55.609375 28.21875 55.609375 21.1875 \nQ 55.609375 10.40625 48.1875 4.484375 \nQ 40.765625 -1.421875 27.09375 -1.421875 \nQ 22.515625 -1.421875 17.65625 -0.515625 \nQ 12.796875 0.390625 7.625 2.203125 \nL 7.625 11.71875 \nQ 11.71875 9.328125 16.59375 8.109375 \nQ 21.484375 6.890625 26.8125 6.890625 \nQ 36.078125 6.890625 40.9375 10.546875 \nQ 45.796875 14.203125 45.796875 21.1875 \nQ 45.796875 27.640625 41.28125 31.265625 \nQ 36.765625 34.90625 28.71875 34.90625 \nL 20.21875 34.90625 \nL 20.21875 43.015625 \nL 29.109375 43.015625 \nQ 36.375 43.015625 40.234375 45.921875 \nQ 44.09375 48.828125 44.09375 54.296875 \nQ 44.09375 59.90625 40.109375 62.90625 \nQ 36.140625 65.921875 28.71875 65.921875 \nQ 24.65625 65.921875 20.015625 65.03125 \nQ 15.375 64.15625 9.8125 62.3125 \nL 9.8125 71.09375 \nQ 15.4375 72.65625 20.34375 73.4375 \nQ 25.25 74.21875 29.59375 74.21875 \nQ 40.828125 74.21875 47.359375 69.109375 \nQ 53.90625 64.015625 53.90625 55.328125 \nQ 53.90625 49.265625 50.4375 45.09375 \nQ 46.96875 40.921875 40.578125 39.3125 \nz\n\" id=\"DejaVuSans-51\"/>\n       </defs>\n       <use xlink:href=\"#DejaVuSans-48\"/>\n       <use x=\"63.623047\" xlink:href=\"#DejaVuSans-46\"/>\n       <use x=\"95.410156\" xlink:href=\"#DejaVuSans-51\"/>\n      </g>\n     </g>\n    </g>\n    <g id=\"xtick_6\">\n     <g id=\"line2d_6\">\n      <g>\n       <use style=\"stroke:#000000;stroke-width:0.8;\" x=\"317.482813\" xlink:href=\"#mbb9af6585f\" y=\"228.439219\"/>\n      </g>\n     </g>\n     <g id=\"text_6\">\n      <!-- 0.4 -->\n      <g transform=\"translate(309.53125 243.037656)scale(0.1 -0.1)\">\n       <defs>\n        <path d=\"M 37.796875 64.3125 \nL 12.890625 25.390625 \nL 37.796875 25.390625 \nz\nM 35.203125 72.90625 \nL 47.609375 72.90625 \nL 47.609375 25.390625 \nL 58.015625 25.390625 \nL 58.015625 17.1875 \nL 47.609375 17.1875 \nL 47.609375 0 \nL 37.796875 0 \nL 37.796875 17.1875 \nL 4.890625 17.1875 \nL 4.890625 26.703125 \nz\n\" id=\"DejaVuSans-52\"/>\n       </defs>\n       <use xlink:href=\"#DejaVuSans-48\"/>\n       <use x=\"63.623047\" xlink:href=\"#DejaVuSans-46\"/>\n       <use x=\"95.410156\" xlink:href=\"#DejaVuSans-52\"/>\n      </g>\n     </g>\n    </g>\n    <g id=\"xtick_7\">\n     <g id=\"line2d_7\">\n      <g>\n       <use style=\"stroke:#000000;stroke-width:0.8;\" x=\"373.282813\" xlink:href=\"#mbb9af6585f\" y=\"228.439219\"/>\n      </g>\n     </g>\n     <g id=\"text_7\">\n      <!-- 0.5 -->\n      <g transform=\"translate(365.33125 243.037656)scale(0.1 -0.1)\">\n       <defs>\n        <path d=\"M 10.796875 72.90625 \nL 49.515625 72.90625 \nL 49.515625 64.59375 \nL 19.828125 64.59375 \nL 19.828125 46.734375 \nQ 21.96875 47.46875 24.109375 47.828125 \nQ 26.265625 48.1875 28.421875 48.1875 \nQ 40.625 48.1875 47.75 41.5 \nQ 54.890625 34.8125 54.890625 23.390625 \nQ 54.890625 11.625 47.5625 5.09375 \nQ 40.234375 -1.421875 26.90625 -1.421875 \nQ 22.3125 -1.421875 17.546875 -0.640625 \nQ 12.796875 0.140625 7.71875 1.703125 \nL 7.71875 11.625 \nQ 12.109375 9.234375 16.796875 8.0625 \nQ 21.484375 6.890625 26.703125 6.890625 \nQ 35.15625 6.890625 40.078125 11.328125 \nQ 45.015625 15.765625 45.015625 23.390625 \nQ 45.015625 31 40.078125 35.4375 \nQ 35.15625 39.890625 26.703125 39.890625 \nQ 22.75 39.890625 18.8125 39.015625 \nQ 14.890625 38.140625 10.796875 36.28125 \nz\n\" id=\"DejaVuSans-53\"/>\n       </defs>\n       <use xlink:href=\"#DejaVuSans-48\"/>\n       <use x=\"63.623047\" xlink:href=\"#DejaVuSans-46\"/>\n       <use x=\"95.410156\" xlink:href=\"#DejaVuSans-53\"/>\n      </g>\n     </g>\n    </g>\n   </g>\n   <g id=\"matplotlib.axis_2\">\n    <g id=\"ytick_1\">\n     <g id=\"line2d_8\">\n      <defs>\n       <path d=\"M 0 0 \nL -3.5 0 \n\" id=\"ma0639dcab0\" style=\"stroke:#000000;stroke-width:0.8;\"/>\n      </defs>\n      <g>\n       <use style=\"stroke:#000000;stroke-width:0.8;\" x=\"38.482813\" xlink:href=\"#ma0639dcab0\" y=\"228.439219\"/>\n      </g>\n     </g>\n     <g id=\"text_8\">\n      <!-- −0.1 -->\n      <g transform=\"translate(7.2 232.238438)scale(0.1 -0.1)\">\n       <use xlink:href=\"#DejaVuSans-8722\"/>\n       <use x=\"83.789062\" xlink:href=\"#DejaVuSans-48\"/>\n       <use x=\"147.412109\" xlink:href=\"#DejaVuSans-46\"/>\n       <use x=\"179.199219\" xlink:href=\"#DejaVuSans-49\"/>\n      </g>\n     </g>\n    </g>\n    <g id=\"ytick_2\">\n     <g id=\"line2d_9\">\n      <g>\n       <use style=\"stroke:#000000;stroke-width:0.8;\" x=\"38.482813\" xlink:href=\"#ma0639dcab0\" y=\"192.199219\"/>\n      </g>\n     </g>\n     <g id=\"text_9\">\n      <!-- 0.0 -->\n      <g transform=\"translate(15.579688 195.998438)scale(0.1 -0.1)\">\n       <use xlink:href=\"#DejaVuSans-48\"/>\n       <use x=\"63.623047\" xlink:href=\"#DejaVuSans-46\"/>\n       <use x=\"95.410156\" xlink:href=\"#DejaVuSans-48\"/>\n      </g>\n     </g>\n    </g>\n    <g id=\"ytick_3\">\n     <g id=\"line2d_10\">\n      <g>\n       <use style=\"stroke:#000000;stroke-width:0.8;\" x=\"38.482813\" xlink:href=\"#ma0639dcab0\" y=\"155.959219\"/>\n      </g>\n     </g>\n     <g id=\"text_10\">\n      <!-- 0.1 -->\n      <g transform=\"translate(15.579688 159.758438)scale(0.1 -0.1)\">\n       <use xlink:href=\"#DejaVuSans-48\"/>\n       <use x=\"63.623047\" xlink:href=\"#DejaVuSans-46\"/>\n       <use x=\"95.410156\" xlink:href=\"#DejaVuSans-49\"/>\n      </g>\n     </g>\n    </g>\n    <g id=\"ytick_4\">\n     <g id=\"line2d_11\">\n      <g>\n       <use style=\"stroke:#000000;stroke-width:0.8;\" x=\"38.482813\" xlink:href=\"#ma0639dcab0\" y=\"119.719219\"/>\n      </g>\n     </g>\n     <g id=\"text_11\">\n      <!-- 0.2 -->\n      <g transform=\"translate(15.579688 123.518438)scale(0.1 -0.1)\">\n       <use xlink:href=\"#DejaVuSans-48\"/>\n       <use x=\"63.623047\" xlink:href=\"#DejaVuSans-46\"/>\n       <use x=\"95.410156\" xlink:href=\"#DejaVuSans-50\"/>\n      </g>\n     </g>\n    </g>\n    <g id=\"ytick_5\">\n     <g id=\"line2d_12\">\n      <g>\n       <use style=\"stroke:#000000;stroke-width:0.8;\" x=\"38.482813\" xlink:href=\"#ma0639dcab0\" y=\"83.479219\"/>\n      </g>\n     </g>\n     <g id=\"text_12\">\n      <!-- 0.3 -->\n      <g transform=\"translate(15.579688 87.278438)scale(0.1 -0.1)\">\n       <use xlink:href=\"#DejaVuSans-48\"/>\n       <use x=\"63.623047\" xlink:href=\"#DejaVuSans-46\"/>\n       <use x=\"95.410156\" xlink:href=\"#DejaVuSans-51\"/>\n      </g>\n     </g>\n    </g>\n    <g id=\"ytick_6\">\n     <g id=\"line2d_13\">\n      <g>\n       <use style=\"stroke:#000000;stroke-width:0.8;\" x=\"38.482813\" xlink:href=\"#ma0639dcab0\" y=\"47.239219\"/>\n      </g>\n     </g>\n     <g id=\"text_13\">\n      <!-- 0.4 -->\n      <g transform=\"translate(15.579688 51.038438)scale(0.1 -0.1)\">\n       <use xlink:href=\"#DejaVuSans-48\"/>\n       <use x=\"63.623047\" xlink:href=\"#DejaVuSans-46\"/>\n       <use x=\"95.410156\" xlink:href=\"#DejaVuSans-52\"/>\n      </g>\n     </g>\n    </g>\n    <g id=\"ytick_7\">\n     <g id=\"line2d_14\">\n      <g>\n       <use style=\"stroke:#000000;stroke-width:0.8;\" x=\"38.482813\" xlink:href=\"#ma0639dcab0\" y=\"10.999219\"/>\n      </g>\n     </g>\n     <g id=\"text_14\">\n      <!-- 0.5 -->\n      <g transform=\"translate(15.579688 14.798438)scale(0.1 -0.1)\">\n       <use xlink:href=\"#DejaVuSans-48\"/>\n       <use x=\"63.623047\" xlink:href=\"#DejaVuSans-46\"/>\n       <use x=\"95.410156\" xlink:href=\"#DejaVuSans-53\"/>\n      </g>\n     </g>\n    </g>\n   </g>\n   <g id=\"patch_3\">\n    <path d=\"M 38.482813 228.439219 \nL 38.482813 10.999219 \n\" style=\"fill:none;stroke:#000000;stroke-linecap:square;stroke-linejoin:miter;stroke-width:0.8;\"/>\n   </g>\n   <g id=\"patch_4\">\n    <path d=\"M 373.282813 228.439219 \nL 373.282813 10.999219 \n\" style=\"fill:none;stroke:#000000;stroke-linecap:square;stroke-linejoin:miter;stroke-width:0.8;\"/>\n   </g>\n   <g id=\"patch_5\">\n    <path d=\"M 38.482813 228.439219 \nL 373.282812 228.439219 \n\" style=\"fill:none;stroke:#000000;stroke-linecap:square;stroke-linejoin:miter;stroke-width:0.8;\"/>\n   </g>\n   <g id=\"patch_6\">\n    <path d=\"M 38.482813 10.999219 \nL 373.282812 10.999219 \n\" style=\"fill:none;stroke:#000000;stroke-linecap:square;stroke-linejoin:miter;stroke-width:0.8;\"/>\n   </g>\n  </g>\n </g>\n <defs>\n  <clipPath id=\"p146b4ee9f8\">\n   <rect height=\"217.44\" width=\"334.8\" x=\"38.482813\" y=\"10.999219\"/>\n  </clipPath>\n </defs>\n</svg>\n",
      "image/png": "[encoded data removed]"
     },
     "metadata": {
      "needs_background": "light"
     }
    }
   ],
   "source": [
    "\n",
    "\n",
    "ax = plt.gca()\n",
    "\n",
    "ax.scatter([HK_GBP_2019[\"Monthly\"][\"mean\"]], [HK_GBP_2019[\"Monthly\"][\"std\"]], color=\"b\")\n",
    "ax.scatter([peso_dollar_2019[\"Monthly\"][\"mean\"]], [peso_dollar_2019[\"Monthly\"][\"std\"]], color=\"b\")\n",
    "ax.scatter([DAX_2019[\"Monthly\"][\"mean\"]], [DAX_2019[\"Monthly\"][\"std\"]], color=\"b\")\n",
    "ax.scatter([BSVP_2019[\"Monthly\"][\"mean\"]], [BSVP_2019[\"Monthly\"][\"std\"]], color=\"b\")\n",
    "ax.scatter([KS11_2019[\"Monthly\"][\"mean\"]], [KS11_2019[\"Monthly\"][\"std\"]], color=\"b\")\n",
    "ax.scatter([VBTLX_2019[\"Monthly\"][\"mean\"]], [VBTLX_2019[\"Monthly\"][\"std\"]], color=\"b\")\n",
    "ax.scatter([mom_2019[\"Monthly\"][\"mean\"]], [mom_2019[\"Monthly\"][\"std\"]], color=\"b\")\n",
    "ax.scatter([value_2019[\"Monthly\"][\"mean\"]], [value_2019[\"Monthly\"][\"std\"]], color=\"b\")\n",
    "ax.scatter([size_2019[\"Monthly\"][\"mean\"]], [size_2019[\"Monthly\"][\"std\"]], color=\"b\")\n",
    "ax.scatter([market_2019[\"Monthly\"][\"mean\"]], [market_2019[\"Monthly\"][\"std\"]], color=\"b\")\n",
    "\n",
    "x_2019 = np.array([HK_GBP_2019[\"Monthly\"][\"mean\"],peso_dollar_2019[\"Monthly\"][\"mean\"],DAX_2019[\"Monthly\"][\"mean\"],BSVP_2019[\"Monthly\"][\"mean\"],KS11_2019[\"Monthly\"][\"mean\"],VBTLX_2019[\"Monthly\"][\"mean\"],mom_2019[\"Monthly\"][\"mean\"],value_2019[\"Monthly\"][\"mean\"],size_2019[\"Monthly\"][\"mean\"],market_2019[\"Monthly\"][\"mean\"]])\n",
    "\n",
    "plt.xlim(-0.1, 0.5)\n",
    "plt.ylim(-0.1, 0.50)"
   ]
  },
  {
   "cell_type": "code",
   "execution_count": 37,
   "metadata": {},
   "outputs": [
    {
     "output_type": "execute_result",
     "data": {
      "text/plain": [
       "0.078"
      ]
     },
     "metadata": {},
     "execution_count": 37
    }
   ],
   "source": [
    "a[\"Monthly\"][\"std\"]"
   ]
  },
  {
   "cell_type": "code",
   "execution_count": 39,
   "metadata": {},
   "outputs": [
    {
     "output_type": "display_data",
     "data": {
      "text/plain": "<Figure size 432x288 with 1 Axes>",
      "image/svg+xml": "<?xml version=\"1.0\" encoding=\"utf-8\" standalone=\"no\"?>\n<!DOCTYPE svg PUBLIC \"-//W3C//DTD SVG 1.1//EN\"\n  \"http://www.w3.org/Graphics/SVG/1.1/DTD/svg11.dtd\">\n<!-- Created with matplotlib (https://matplotlib.org/) -->\n<svg height=\"252.317344pt\" version=\"1.1\" viewBox=\"0 0 380.054687 252.317344\" width=\"380.054687pt\" xmlns=\"http://www.w3.org/2000/svg\" xmlns:xlink=\"http://www.w3.org/1999/xlink\">\n <metadata>\n  <rdf:RDF xmlns:cc=\"http://creativecommons.org/ns#\" xmlns:dc=\"http://purl.org/dc/elements/1.1/\" xmlns:rdf=\"http://www.w3.org/1999/02/22-rdf-syntax-ns#\">\n   <cc:Work>\n    <dc:type rdf:resource=\"http://purl.org/dc/dcmitype/StillImage\"/>\n    <dc:date>2020-11-26T04:42:05.719874</dc:date>\n    <dc:format>image/svg+xml</dc:format>\n    <dc:creator>\n     <cc:Agent>\n      <dc:title>Matplotlib v3.3.2, https://matplotlib.org/</dc:title>\n     </cc:Agent>\n    </dc:creator>\n   </cc:Work>\n  </rdf:RDF>\n </metadata>\n <defs>\n  <style type=\"text/css\">*{stroke-linecap:butt;stroke-linejoin:round;}</style>\n </defs>\n <g id=\"figure_1\">\n  <g id=\"patch_1\">\n   <path d=\"M 0 252.317344 \nL 380.054687 252.317344 \nL 380.054687 0 \nL 0 0 \nz\n\" style=\"fill:none;\"/>\n  </g>\n  <g id=\"axes_1\">\n   <g id=\"patch_2\">\n    <path d=\"M 30.103125 228.439219 \nL 364.903125 228.439219 \nL 364.903125 10.999219 \nL 30.103125 10.999219 \nz\n\" style=\"fill:#ffffff;\"/>\n   </g>\n   <g id=\"PathCollection_1\">\n    <defs>\n     <path d=\"M 0 3 \nC 0.795609 3 1.55874 2.683901 2.12132 2.12132 \nC 2.683901 1.55874 3 0.795609 3 0 \nC 3 -0.795609 2.683901 -1.55874 2.12132 -2.12132 \nC 1.55874 -2.683901 0.795609 -3 0 -3 \nC -0.795609 -3 -1.55874 -2.683901 -2.12132 -2.12132 \nC -2.683901 -1.55874 -3 -0.795609 -3 0 \nC -3 0.795609 -2.683901 1.55874 -2.12132 2.12132 \nC -1.55874 2.683901 -0.795609 3 0 3 \nz\n\" id=\"mcd7e215a61\" style=\"stroke:#1f77b4;\"/>\n    </defs>\n    <g clip-path=\"url(#p47d63c26ca)\">\n     <use style=\"fill:#1f77b4;stroke:#1f77b4;\" x=\"79.913908\" xlink:href=\"#mcd7e215a61\" y=\"205.721624\"/>\n     <use style=\"fill:#1f77b4;stroke:#1f77b4;\" x=\"107.68677\" xlink:href=\"#mcd7e215a61\" y=\"191.507285\"/>\n     <use style=\"fill:#1f77b4;stroke:#1f77b4;\" x=\"137.255556\" xlink:href=\"#mcd7e215a61\" y=\"169.151387\"/>\n     <use style=\"fill:#1f77b4;stroke:#1f77b4;\" x=\"81.662325\" xlink:href=\"#mcd7e215a61\" y=\"178.230346\"/>\n     <use style=\"fill:#1f77b4;stroke:#1f77b4;\" x=\"117.151125\" xlink:href=\"#mcd7e215a61\" y=\"192.858128\"/>\n     <use style=\"fill:#1f77b4;stroke:#1f77b4;\" x=\"49.963545\" xlink:href=\"#mcd7e215a61\" y=\"194.256152\"/>\n     <use style=\"fill:#1f77b4;stroke:#1f77b4;\" x=\"104.836009\" xlink:href=\"#mcd7e215a61\" y=\"189.873762\"/>\n     <use style=\"fill:#1f77b4;stroke:#1f77b4;\" x=\"82.471601\" xlink:href=\"#mcd7e215a61\" y=\"218.042756\"/>\n     <use style=\"fill:#1f77b4;stroke:#1f77b4;\" x=\"81.471251\" xlink:href=\"#mcd7e215a61\" y=\"209.979183\"/>\n     <use style=\"fill:#1f77b4;stroke:#1f77b4;\" x=\"116.582266\" xlink:href=\"#mcd7e215a61\" y=\"156.849717\"/>\n    </g>\n   </g>\n   <g id=\"PathCollection_2\">\n    <defs>\n     <path d=\"M 0 3 \nC 0.795609 3 1.55874 2.683901 2.12132 2.12132 \nC 2.683901 1.55874 3 0.795609 3 0 \nC 3 -0.795609 2.683901 -1.55874 2.12132 -2.12132 \nC 1.55874 -2.683901 0.795609 -3 0 -3 \nC -0.795609 -3 -1.55874 -2.683901 -2.12132 -2.12132 \nC -2.683901 -1.55874 -3 -0.795609 -3 0 \nC -3 0.795609 -2.683901 1.55874 -2.12132 2.12132 \nC -1.55874 2.683901 -0.795609 3 0 3 \nz\n\" id=\"m082202ef99\" style=\"stroke:#ff7f0e;\"/>\n    </defs>\n    <g clip-path=\"url(#p47d63c26ca)\">\n     <use style=\"fill:#ff7f0e;stroke:#ff7f0e;\" x=\"86.024185\" xlink:href=\"#m082202ef99\" y=\"221.158402\"/>\n     <use style=\"fill:#ff7f0e;stroke:#ff7f0e;\" x=\"90.489651\" xlink:href=\"#m082202ef99\" y=\"194.436424\"/>\n     <use style=\"fill:#ff7f0e;stroke:#ff7f0e;\" x=\"189.044761\" xlink:href=\"#m082202ef99\" y=\"202.673364\"/>\n     <use style=\"fill:#ff7f0e;stroke:#ff7f0e;\" x=\"153.309525\" xlink:href=\"#m082202ef99\" y=\"135.928382\"/>\n     <use style=\"fill:#ff7f0e;stroke:#ff7f0e;\" x=\"212.234325\" xlink:href=\"#m082202ef99\" y=\"170.718782\"/>\n     <use style=\"fill:#ff7f0e;stroke:#ff7f0e;\" x=\"56.473668\" xlink:href=\"#m082202ef99\" y=\"192.147232\"/>\n     <use style=\"fill:#ff7f0e;stroke:#ff7f0e;\" x=\"183.86646\" xlink:href=\"#m082202ef99\" y=\"197.394853\"/>\n     <use style=\"fill:#ff7f0e;stroke:#ff7f0e;\" x=\"118.451868\" xlink:href=\"#m082202ef99\" y=\"173.76052\"/>\n     <use style=\"fill:#ff7f0e;stroke:#ff7f0e;\" x=\"121.425445\" xlink:href=\"#m082202ef99\" y=\"191.103432\"/>\n     <use style=\"fill:#ff7f0e;stroke:#ff7f0e;\" x=\"141.076974\" xlink:href=\"#m082202ef99\" y=\"215.595425\"/>\n    </g>\n   </g>\n   <g id=\"PathCollection_3\">\n    <defs>\n     <path d=\"M 0 3 \nC 0.795609 3 1.55874 2.683901 2.12132 2.12132 \nC 2.683901 1.55874 3 0.795609 3 0 \nC 3 -0.795609 2.683901 -1.55874 2.12132 -2.12132 \nC 1.55874 -2.683901 0.795609 -3 0 -3 \nC -0.795609 -3 -1.55874 -2.683901 -2.12132 -2.12132 \nC -2.683901 -1.55874 -3 -0.795609 -3 0 \nC -3 0.795609 -2.683901 1.55874 -2.12132 2.12132 \nC -1.55874 2.683901 -0.795609 3 0 3 \nz\n\" id=\"m966fa44df4\" style=\"stroke:#2ca02c;\"/>\n    </defs>\n    <g clip-path=\"url(#p47d63c26ca)\">\n     <use style=\"fill:#2ca02c;stroke:#2ca02c;\" x=\"52.272808\" xlink:href=\"#m966fa44df4\" y=\"163.822061\"/>\n     <use style=\"fill:#2ca02c;stroke:#2ca02c;\" x=\"182.460711\" xlink:href=\"#m966fa44df4\" y=\"126.936507\"/>\n     <use style=\"fill:#2ca02c;stroke:#2ca02c;\" x=\"166.655377\" xlink:href=\"#m966fa44df4\" y=\"146.570311\"/>\n     <use style=\"fill:#2ca02c;stroke:#2ca02c;\" x=\"104.016952\" xlink:href=\"#m966fa44df4\" y=\"153.520681\"/>\n     <use style=\"fill:#2ca02c;stroke:#2ca02c;\" x=\"90.807495\" xlink:href=\"#m966fa44df4\" y=\"208.029995\"/>\n     <use style=\"fill:#2ca02c;stroke:#2ca02c;\" x=\"98.943963\" xlink:href=\"#m966fa44df4\" y=\"216.594047\"/>\n     <use style=\"fill:#2ca02c;stroke:#2ca02c;\" x=\"120.462346\" xlink:href=\"#m966fa44df4\" y=\"154.689664\"/>\n    </g>\n   </g>\n   <g id=\"PathCollection_4\">\n    <defs>\n     <path d=\"M 0 3 \nC 0.795609 3 1.55874 2.683901 2.12132 2.12132 \nC 2.683901 1.55874 3 0.795609 3 0 \nC 3 -0.795609 2.683901 -1.55874 2.12132 -2.12132 \nC 1.55874 -2.683901 0.795609 -3 0 -3 \nC -0.795609 -3 -1.55874 -2.683901 -2.12132 -2.12132 \nC -2.683901 -1.55874 -3 -0.795609 -3 0 \nC -3 0.795609 -2.683901 1.55874 -2.12132 2.12132 \nC -1.55874 2.683901 -0.795609 3 0 3 \nz\n\" id=\"m4536197921\" style=\"stroke:#d62728;\"/>\n    </defs>\n    <g clip-path=\"url(#p47d63c26ca)\">\n     <use style=\"fill:#d62728;stroke:#d62728;\" x=\"153.252033\" xlink:href=\"#m4536197921\" y=\"88.148768\"/>\n     <use style=\"fill:#d62728;stroke:#d62728;\" x=\"111.731185\" xlink:href=\"#m4536197921\" y=\"174.072658\"/>\n     <use style=\"fill:#d62728;stroke:#d62728;\" x=\"94.30597\" xlink:href=\"#m4536197921\" y=\"182.862973\"/>\n     <use style=\"fill:#d62728;stroke:#d62728;\" x=\"87.515492\" xlink:href=\"#m4536197921\" y=\"213.421744\"/>\n     <use style=\"fill:#d62728;stroke:#d62728;\" x=\"142.105058\" xlink:href=\"#m4536197921\" y=\"175.20658\"/>\n    </g>\n   </g>\n   <g id=\"matplotlib.axis_1\">\n    <g id=\"xtick_1\">\n     <g id=\"line2d_1\">\n      <defs>\n       <path d=\"M 0 0 \nL 0 3.5 \n\" id=\"mc31604e4f4\" style=\"stroke:#000000;stroke-width:0.8;\"/>\n      </defs>\n      <g>\n       <use style=\"stroke:#000000;stroke-width:0.8;\" x=\"30.103125\" xlink:href=\"#mc31604e4f4\" y=\"228.439219\"/>\n      </g>\n     </g>\n     <g id=\"text_1\">\n      <!-- 0.0 -->\n      <g transform=\"translate(22.151563 243.037656)scale(0.1 -0.1)\">\n       <defs>\n        <path d=\"M 31.78125 66.40625 \nQ 24.171875 66.40625 20.328125 58.90625 \nQ 16.5 51.421875 16.5 36.375 \nQ 16.5 21.390625 20.328125 13.890625 \nQ 24.171875 6.390625 31.78125 6.390625 \nQ 39.453125 6.390625 43.28125 13.890625 \nQ 47.125 21.390625 47.125 36.375 \nQ 47.125 51.421875 43.28125 58.90625 \nQ 39.453125 66.40625 31.78125 66.40625 \nz\nM 31.78125 74.21875 \nQ 44.046875 74.21875 50.515625 64.515625 \nQ 56.984375 54.828125 56.984375 36.375 \nQ 56.984375 17.96875 50.515625 8.265625 \nQ 44.046875 -1.421875 31.78125 -1.421875 \nQ 19.53125 -1.421875 13.0625 8.265625 \nQ 6.59375 17.96875 6.59375 36.375 \nQ 6.59375 54.828125 13.0625 64.515625 \nQ 19.53125 74.21875 31.78125 74.21875 \nz\n\" id=\"DejaVuSans-48\"/>\n        <path d=\"M 10.6875 12.40625 \nL 21 12.40625 \nL 21 0 \nL 10.6875 0 \nz\n\" id=\"DejaVuSans-46\"/>\n       </defs>\n       <use xlink:href=\"#DejaVuSans-48\"/>\n       <use x=\"63.623047\" xlink:href=\"#DejaVuSans-46\"/>\n       <use x=\"95.410156\" xlink:href=\"#DejaVuSans-48\"/>\n      </g>\n     </g>\n    </g>\n    <g id=\"xtick_2\">\n     <g id=\"line2d_2\">\n      <g>\n       <use style=\"stroke:#000000;stroke-width:0.8;\" x=\"97.063125\" xlink:href=\"#mc31604e4f4\" y=\"228.439219\"/>\n      </g>\n     </g>\n     <g id=\"text_2\">\n      <!-- 0.1 -->\n      <g transform=\"translate(89.111563 243.037656)scale(0.1 -0.1)\">\n       <defs>\n        <path d=\"M 12.40625 8.296875 \nL 28.515625 8.296875 \nL 28.515625 63.921875 \nL 10.984375 60.40625 \nL 10.984375 69.390625 \nL 28.421875 72.90625 \nL 38.28125 72.90625 \nL 38.28125 8.296875 \nL 54.390625 8.296875 \nL 54.390625 0 \nL 12.40625 0 \nz\n\" id=\"DejaVuSans-49\"/>\n       </defs>\n       <use xlink:href=\"#DejaVuSans-48\"/>\n       <use x=\"63.623047\" xlink:href=\"#DejaVuSans-46\"/>\n       <use x=\"95.410156\" xlink:href=\"#DejaVuSans-49\"/>\n      </g>\n     </g>\n    </g>\n    <g id=\"xtick_3\">\n     <g id=\"line2d_3\">\n      <g>\n       <use style=\"stroke:#000000;stroke-width:0.8;\" x=\"164.023125\" xlink:href=\"#mc31604e4f4\" y=\"228.439219\"/>\n      </g>\n     </g>\n     <g id=\"text_3\">\n      <!-- 0.2 -->\n      <g transform=\"translate(156.071563 243.037656)scale(0.1 -0.1)\">\n       <defs>\n        <path d=\"M 19.1875 8.296875 \nL 53.609375 8.296875 \nL 53.609375 0 \nL 7.328125 0 \nL 7.328125 8.296875 \nQ 12.9375 14.109375 22.625 23.890625 \nQ 32.328125 33.6875 34.8125 36.53125 \nQ 39.546875 41.84375 41.421875 45.53125 \nQ 43.3125 49.21875 43.3125 52.78125 \nQ 43.3125 58.59375 39.234375 62.25 \nQ 35.15625 65.921875 28.609375 65.921875 \nQ 23.96875 65.921875 18.8125 64.3125 \nQ 13.671875 62.703125 7.8125 59.421875 \nL 7.8125 69.390625 \nQ 13.765625 71.78125 18.9375 73 \nQ 24.125 74.21875 28.421875 74.21875 \nQ 39.75 74.21875 46.484375 68.546875 \nQ 53.21875 62.890625 53.21875 53.421875 \nQ 53.21875 48.921875 51.53125 44.890625 \nQ 49.859375 40.875 45.40625 35.40625 \nQ 44.1875 33.984375 37.640625 27.21875 \nQ 31.109375 20.453125 19.1875 8.296875 \nz\n\" id=\"DejaVuSans-50\"/>\n       </defs>\n       <use xlink:href=\"#DejaVuSans-48\"/>\n       <use x=\"63.623047\" xlink:href=\"#DejaVuSans-46\"/>\n       <use x=\"95.410156\" xlink:href=\"#DejaVuSans-50\"/>\n      </g>\n     </g>\n    </g>\n    <g id=\"xtick_4\">\n     <g id=\"line2d_4\">\n      <g>\n       <use style=\"stroke:#000000;stroke-width:0.8;\" x=\"230.983125\" xlink:href=\"#mc31604e4f4\" y=\"228.439219\"/>\n      </g>\n     </g>\n     <g id=\"text_4\">\n      <!-- 0.3 -->\n      <g transform=\"translate(223.031563 243.037656)scale(0.1 -0.1)\">\n       <defs>\n        <path d=\"M 40.578125 39.3125 \nQ 47.65625 37.796875 51.625 33 \nQ 55.609375 28.21875 55.609375 21.1875 \nQ 55.609375 10.40625 48.1875 4.484375 \nQ 40.765625 -1.421875 27.09375 -1.421875 \nQ 22.515625 -1.421875 17.65625 -0.515625 \nQ 12.796875 0.390625 7.625 2.203125 \nL 7.625 11.71875 \nQ 11.71875 9.328125 16.59375 8.109375 \nQ 21.484375 6.890625 26.8125 6.890625 \nQ 36.078125 6.890625 40.9375 10.546875 \nQ 45.796875 14.203125 45.796875 21.1875 \nQ 45.796875 27.640625 41.28125 31.265625 \nQ 36.765625 34.90625 28.71875 34.90625 \nL 20.21875 34.90625 \nL 20.21875 43.015625 \nL 29.109375 43.015625 \nQ 36.375 43.015625 40.234375 45.921875 \nQ 44.09375 48.828125 44.09375 54.296875 \nQ 44.09375 59.90625 40.109375 62.90625 \nQ 36.140625 65.921875 28.71875 65.921875 \nQ 24.65625 65.921875 20.015625 65.03125 \nQ 15.375 64.15625 9.8125 62.3125 \nL 9.8125 71.09375 \nQ 15.4375 72.65625 20.34375 73.4375 \nQ 25.25 74.21875 29.59375 74.21875 \nQ 40.828125 74.21875 47.359375 69.109375 \nQ 53.90625 64.015625 53.90625 55.328125 \nQ 53.90625 49.265625 50.4375 45.09375 \nQ 46.96875 40.921875 40.578125 39.3125 \nz\n\" id=\"DejaVuSans-51\"/>\n       </defs>\n       <use xlink:href=\"#DejaVuSans-48\"/>\n       <use x=\"63.623047\" xlink:href=\"#DejaVuSans-46\"/>\n       <use x=\"95.410156\" xlink:href=\"#DejaVuSans-51\"/>\n      </g>\n     </g>\n    </g>\n    <g id=\"xtick_5\">\n     <g id=\"line2d_5\">\n      <g>\n       <use style=\"stroke:#000000;stroke-width:0.8;\" x=\"297.943125\" xlink:href=\"#mc31604e4f4\" y=\"228.439219\"/>\n      </g>\n     </g>\n     <g id=\"text_5\">\n      <!-- 0.4 -->\n      <g transform=\"translate(289.991563 243.037656)scale(0.1 -0.1)\">\n       <defs>\n        <path d=\"M 37.796875 64.3125 \nL 12.890625 25.390625 \nL 37.796875 25.390625 \nz\nM 35.203125 72.90625 \nL 47.609375 72.90625 \nL 47.609375 25.390625 \nL 58.015625 25.390625 \nL 58.015625 17.1875 \nL 47.609375 17.1875 \nL 47.609375 0 \nL 37.796875 0 \nL 37.796875 17.1875 \nL 4.890625 17.1875 \nL 4.890625 26.703125 \nz\n\" id=\"DejaVuSans-52\"/>\n       </defs>\n       <use xlink:href=\"#DejaVuSans-48\"/>\n       <use x=\"63.623047\" xlink:href=\"#DejaVuSans-46\"/>\n       <use x=\"95.410156\" xlink:href=\"#DejaVuSans-52\"/>\n      </g>\n     </g>\n    </g>\n    <g id=\"xtick_6\">\n     <g id=\"line2d_6\">\n      <g>\n       <use style=\"stroke:#000000;stroke-width:0.8;\" x=\"364.903125\" xlink:href=\"#mc31604e4f4\" y=\"228.439219\"/>\n      </g>\n     </g>\n     <g id=\"text_6\">\n      <!-- 0.5 -->\n      <g transform=\"translate(356.951563 243.037656)scale(0.1 -0.1)\">\n       <defs>\n        <path d=\"M 10.796875 72.90625 \nL 49.515625 72.90625 \nL 49.515625 64.59375 \nL 19.828125 64.59375 \nL 19.828125 46.734375 \nQ 21.96875 47.46875 24.109375 47.828125 \nQ 26.265625 48.1875 28.421875 48.1875 \nQ 40.625 48.1875 47.75 41.5 \nQ 54.890625 34.8125 54.890625 23.390625 \nQ 54.890625 11.625 47.5625 5.09375 \nQ 40.234375 -1.421875 26.90625 -1.421875 \nQ 22.3125 -1.421875 17.546875 -0.640625 \nQ 12.796875 0.140625 7.71875 1.703125 \nL 7.71875 11.625 \nQ 12.109375 9.234375 16.796875 8.0625 \nQ 21.484375 6.890625 26.703125 6.890625 \nQ 35.15625 6.890625 40.078125 11.328125 \nQ 45.015625 15.765625 45.015625 23.390625 \nQ 45.015625 31 40.078125 35.4375 \nQ 35.15625 39.890625 26.703125 39.890625 \nQ 22.75 39.890625 18.8125 39.015625 \nQ 14.890625 38.140625 10.796875 36.28125 \nz\n\" id=\"DejaVuSans-53\"/>\n       </defs>\n       <use xlink:href=\"#DejaVuSans-48\"/>\n       <use x=\"63.623047\" xlink:href=\"#DejaVuSans-46\"/>\n       <use x=\"95.410156\" xlink:href=\"#DejaVuSans-53\"/>\n      </g>\n     </g>\n    </g>\n   </g>\n   <g id=\"matplotlib.axis_2\">\n    <g id=\"ytick_1\">\n     <g id=\"line2d_7\">\n      <defs>\n       <path d=\"M 0 0 \nL -3.5 0 \n\" id=\"m136e43328e\" style=\"stroke:#000000;stroke-width:0.8;\"/>\n      </defs>\n      <g>\n       <use style=\"stroke:#000000;stroke-width:0.8;\" x=\"30.103125\" xlink:href=\"#m136e43328e\" y=\"208.671946\"/>\n      </g>\n     </g>\n     <g id=\"text_7\">\n      <!-- 0.0 -->\n      <g transform=\"translate(7.2 212.471165)scale(0.1 -0.1)\">\n       <use xlink:href=\"#DejaVuSans-48\"/>\n       <use x=\"63.623047\" xlink:href=\"#DejaVuSans-46\"/>\n       <use x=\"95.410156\" xlink:href=\"#DejaVuSans-48\"/>\n      </g>\n     </g>\n    </g>\n    <g id=\"ytick_2\">\n     <g id=\"line2d_8\">\n      <g>\n       <use style=\"stroke:#000000;stroke-width:0.8;\" x=\"30.103125\" xlink:href=\"#m136e43328e\" y=\"169.137401\"/>\n      </g>\n     </g>\n     <g id=\"text_8\">\n      <!-- 0.1 -->\n      <g transform=\"translate(7.2 172.936619)scale(0.1 -0.1)\">\n       <use xlink:href=\"#DejaVuSans-48\"/>\n       <use x=\"63.623047\" xlink:href=\"#DejaVuSans-46\"/>\n       <use x=\"95.410156\" xlink:href=\"#DejaVuSans-49\"/>\n      </g>\n     </g>\n    </g>\n    <g id=\"ytick_3\">\n     <g id=\"line2d_9\">\n      <g>\n       <use style=\"stroke:#000000;stroke-width:0.8;\" x=\"30.103125\" xlink:href=\"#m136e43328e\" y=\"129.602855\"/>\n      </g>\n     </g>\n     <g id=\"text_9\">\n      <!-- 0.2 -->\n      <g transform=\"translate(7.2 133.402074)scale(0.1 -0.1)\">\n       <use xlink:href=\"#DejaVuSans-48\"/>\n       <use x=\"63.623047\" xlink:href=\"#DejaVuSans-46\"/>\n       <use x=\"95.410156\" xlink:href=\"#DejaVuSans-50\"/>\n      </g>\n     </g>\n    </g>\n    <g id=\"ytick_4\">\n     <g id=\"line2d_10\">\n      <g>\n       <use style=\"stroke:#000000;stroke-width:0.8;\" x=\"30.103125\" xlink:href=\"#m136e43328e\" y=\"90.06831\"/>\n      </g>\n     </g>\n     <g id=\"text_10\">\n      <!-- 0.3 -->\n      <g transform=\"translate(7.2 93.867528)scale(0.1 -0.1)\">\n       <use xlink:href=\"#DejaVuSans-48\"/>\n       <use x=\"63.623047\" xlink:href=\"#DejaVuSans-46\"/>\n       <use x=\"95.410156\" xlink:href=\"#DejaVuSans-51\"/>\n      </g>\n     </g>\n    </g>\n    <g id=\"ytick_5\">\n     <g id=\"line2d_11\">\n      <g>\n       <use style=\"stroke:#000000;stroke-width:0.8;\" x=\"30.103125\" xlink:href=\"#m136e43328e\" y=\"50.533764\"/>\n      </g>\n     </g>\n     <g id=\"text_11\">\n      <!-- 0.4 -->\n      <g transform=\"translate(7.2 54.332983)scale(0.1 -0.1)\">\n       <use xlink:href=\"#DejaVuSans-48\"/>\n       <use x=\"63.623047\" xlink:href=\"#DejaVuSans-46\"/>\n       <use x=\"95.410156\" xlink:href=\"#DejaVuSans-52\"/>\n      </g>\n     </g>\n    </g>\n    <g id=\"ytick_6\">\n     <g id=\"line2d_12\">\n      <g>\n       <use style=\"stroke:#000000;stroke-width:0.8;\" x=\"30.103125\" xlink:href=\"#m136e43328e\" y=\"10.999219\"/>\n      </g>\n     </g>\n     <g id=\"text_12\">\n      <!-- 0.5 -->\n      <g transform=\"translate(7.2 14.798438)scale(0.1 -0.1)\">\n       <use xlink:href=\"#DejaVuSans-48\"/>\n       <use x=\"63.623047\" xlink:href=\"#DejaVuSans-46\"/>\n       <use x=\"95.410156\" xlink:href=\"#DejaVuSans-53\"/>\n      </g>\n     </g>\n    </g>\n   </g>\n   <g id=\"line2d_13\">\n    <path clip-path=\"url(#p47d63c26ca)\" d=\"M 79.913908 197.341844 \nL 107.68677 185.710446 \nL 137.255556 173.326905 \nL 81.662325 196.6096 \nL 117.151125 181.746731 \nL 49.963545 209.885191 \nL 104.836009 186.904357 \nL 82.471601 196.270671 \nL 81.471251 196.689622 \nL 116.582266 181.984972 \n\" style=\"fill:none;stroke:#1f77b4;stroke-linecap:square;stroke-width:1.5;\"/>\n   </g>\n   <g id=\"line2d_14\">\n    <path clip-path=\"url(#p47d63c26ca)\" d=\"M 86.024185 195.824528 \nL 90.489651 195.24993 \nL 189.044761 182.568268 \nL 153.309525 187.16653 \nL 212.234325 179.584332 \nL 56.473668 199.626965 \nL 183.86646 183.23459 \nL 118.451868 191.651868 \nL 121.425445 191.269241 \nL 141.076974 188.740564 \n\" style=\"fill:none;stroke:#ff7f0e;stroke-linecap:square;stroke-width:1.5;\"/>\n   </g>\n   <g id=\"line2d_15\">\n    <path clip-path=\"url(#p47d63c26ca)\" d=\"M 52.272808 195.066899 \nL 182.460711 138.527458 \nL 166.655377 145.391573 \nL 104.016952 172.59488 \nL 90.807495 178.331629 \nL 98.943963 174.798034 \nL 120.462346 165.452793 \n\" style=\"fill:none;stroke:#2ca02c;stroke-linecap:square;stroke-width:1.5;\"/>\n   </g>\n   <g id=\"line2d_16\">\n    <path clip-path=\"url(#p47d63c26ca)\" d=\"M 153.252033 120.019305 \nL 111.731185 174.712958 \nL 94.30597 197.666454 \nL 87.515492 206.611263 \nL 142.105058 134.702743 \n\" style=\"fill:none;stroke:#d62728;stroke-linecap:square;stroke-width:1.5;\"/>\n   </g>\n   <g id=\"patch_3\">\n    <path d=\"M 30.103125 228.439219 \nL 30.103125 10.999219 \n\" style=\"fill:none;stroke:#000000;stroke-linecap:square;stroke-linejoin:miter;stroke-width:0.8;\"/>\n   </g>\n   <g id=\"patch_4\">\n    <path d=\"M 364.903125 228.439219 \nL 364.903125 10.999219 \n\" style=\"fill:none;stroke:#000000;stroke-linecap:square;stroke-linejoin:miter;stroke-width:0.8;\"/>\n   </g>\n   <g id=\"patch_5\">\n    <path d=\"M 30.103125 228.439219 \nL 364.903125 228.439219 \n\" style=\"fill:none;stroke:#000000;stroke-linecap:square;stroke-linejoin:miter;stroke-width:0.8;\"/>\n   </g>\n   <g id=\"patch_6\">\n    <path d=\"M 30.103125 10.999219 \nL 364.903125 10.999219 \n\" style=\"fill:none;stroke:#000000;stroke-linecap:square;stroke-linejoin:miter;stroke-width:0.8;\"/>\n   </g>\n   <g id=\"legend_1\">\n    <g id=\"patch_7\">\n     <path d=\"M 295.24375 77.711719 \nL 357.903125 77.711719 \nQ 359.903125 77.711719 359.903125 75.711719 \nL 359.903125 17.999219 \nQ 359.903125 15.999219 357.903125 15.999219 \nL 295.24375 15.999219 \nQ 293.24375 15.999219 293.24375 17.999219 \nL 293.24375 75.711719 \nQ 293.24375 77.711719 295.24375 77.711719 \nz\n\" style=\"fill:#ffffff;opacity:0.8;stroke:#cccccc;stroke-linejoin:miter;\"/>\n    </g>\n    <g id=\"patch_8\">\n     <path d=\"M 297.24375 27.597656 \nL 317.24375 27.597656 \nL 317.24375 20.597656 \nL 297.24375 20.597656 \nz\n\" style=\"fill:#ff0000;stroke:#ff0000;stroke-linejoin:miter;\"/>\n    </g>\n    <g id=\"text_13\">\n     <!-- 1980s -->\n     <g transform=\"translate(325.24375 27.597656)scale(0.1 -0.1)\">\n      <defs>\n       <path d=\"M 10.984375 1.515625 \nL 10.984375 10.5 \nQ 14.703125 8.734375 18.5 7.8125 \nQ 22.3125 6.890625 25.984375 6.890625 \nQ 35.75 6.890625 40.890625 13.453125 \nQ 46.046875 20.015625 46.78125 33.40625 \nQ 43.953125 29.203125 39.59375 26.953125 \nQ 35.25 24.703125 29.984375 24.703125 \nQ 19.046875 24.703125 12.671875 31.3125 \nQ 6.296875 37.9375 6.296875 49.421875 \nQ 6.296875 60.640625 12.9375 67.421875 \nQ 19.578125 74.21875 30.609375 74.21875 \nQ 43.265625 74.21875 49.921875 64.515625 \nQ 56.59375 54.828125 56.59375 36.375 \nQ 56.59375 19.140625 48.40625 8.859375 \nQ 40.234375 -1.421875 26.421875 -1.421875 \nQ 22.703125 -1.421875 18.890625 -0.6875 \nQ 15.09375 0.046875 10.984375 1.515625 \nz\nM 30.609375 32.421875 \nQ 37.25 32.421875 41.125 36.953125 \nQ 45.015625 41.5 45.015625 49.421875 \nQ 45.015625 57.28125 41.125 61.84375 \nQ 37.25 66.40625 30.609375 66.40625 \nQ 23.96875 66.40625 20.09375 61.84375 \nQ 16.21875 57.28125 16.21875 49.421875 \nQ 16.21875 41.5 20.09375 36.953125 \nQ 23.96875 32.421875 30.609375 32.421875 \nz\n\" id=\"DejaVuSans-57\"/>\n       <path d=\"M 31.78125 34.625 \nQ 24.75 34.625 20.71875 30.859375 \nQ 16.703125 27.09375 16.703125 20.515625 \nQ 16.703125 13.921875 20.71875 10.15625 \nQ 24.75 6.390625 31.78125 6.390625 \nQ 38.8125 6.390625 42.859375 10.171875 \nQ 46.921875 13.96875 46.921875 20.515625 \nQ 46.921875 27.09375 42.890625 30.859375 \nQ 38.875 34.625 31.78125 34.625 \nz\nM 21.921875 38.8125 \nQ 15.578125 40.375 12.03125 44.71875 \nQ 8.5 49.078125 8.5 55.328125 \nQ 8.5 64.0625 14.71875 69.140625 \nQ 20.953125 74.21875 31.78125 74.21875 \nQ 42.671875 74.21875 48.875 69.140625 \nQ 55.078125 64.0625 55.078125 55.328125 \nQ 55.078125 49.078125 51.53125 44.71875 \nQ 48 40.375 41.703125 38.8125 \nQ 48.828125 37.15625 52.796875 32.3125 \nQ 56.78125 27.484375 56.78125 20.515625 \nQ 56.78125 9.90625 50.3125 4.234375 \nQ 43.84375 -1.421875 31.78125 -1.421875 \nQ 19.734375 -1.421875 13.25 4.234375 \nQ 6.78125 9.90625 6.78125 20.515625 \nQ 6.78125 27.484375 10.78125 32.3125 \nQ 14.796875 37.15625 21.921875 38.8125 \nz\nM 18.3125 54.390625 \nQ 18.3125 48.734375 21.84375 45.5625 \nQ 25.390625 42.390625 31.78125 42.390625 \nQ 38.140625 42.390625 41.71875 45.5625 \nQ 45.3125 48.734375 45.3125 54.390625 \nQ 45.3125 60.0625 41.71875 63.234375 \nQ 38.140625 66.40625 31.78125 66.40625 \nQ 25.390625 66.40625 21.84375 63.234375 \nQ 18.3125 60.0625 18.3125 54.390625 \nz\n\" id=\"DejaVuSans-56\"/>\n       <path d=\"M 44.28125 53.078125 \nL 44.28125 44.578125 \nQ 40.484375 46.53125 36.375 47.5 \nQ 32.28125 48.484375 27.875 48.484375 \nQ 21.1875 48.484375 17.84375 46.4375 \nQ 14.5 44.390625 14.5 40.28125 \nQ 14.5 37.15625 16.890625 35.375 \nQ 19.28125 33.59375 26.515625 31.984375 \nL 29.59375 31.296875 \nQ 39.15625 29.25 43.1875 25.515625 \nQ 47.21875 21.78125 47.21875 15.09375 \nQ 47.21875 7.46875 41.1875 3.015625 \nQ 35.15625 -1.421875 24.609375 -1.421875 \nQ 20.21875 -1.421875 15.453125 -0.5625 \nQ 10.6875 0.296875 5.421875 2 \nL 5.421875 11.28125 \nQ 10.40625 8.6875 15.234375 7.390625 \nQ 20.0625 6.109375 24.8125 6.109375 \nQ 31.15625 6.109375 34.5625 8.28125 \nQ 37.984375 10.453125 37.984375 14.40625 \nQ 37.984375 18.0625 35.515625 20.015625 \nQ 33.0625 21.96875 24.703125 23.78125 \nL 21.578125 24.515625 \nQ 13.234375 26.265625 9.515625 29.90625 \nQ 5.8125 33.546875 5.8125 39.890625 \nQ 5.8125 47.609375 11.28125 51.796875 \nQ 16.75 56 26.8125 56 \nQ 31.78125 56 36.171875 55.265625 \nQ 40.578125 54.546875 44.28125 53.078125 \nz\n\" id=\"DejaVuSans-115\"/>\n      </defs>\n      <use xlink:href=\"#DejaVuSans-49\"/>\n      <use x=\"63.623047\" xlink:href=\"#DejaVuSans-57\"/>\n      <use x=\"127.246094\" xlink:href=\"#DejaVuSans-56\"/>\n      <use x=\"190.869141\" xlink:href=\"#DejaVuSans-48\"/>\n      <use x=\"254.492188\" xlink:href=\"#DejaVuSans-115\"/>\n     </g>\n    </g>\n    <g id=\"patch_9\">\n     <path d=\"M 297.24375 42.275781 \nL 317.24375 42.275781 \nL 317.24375 35.275781 \nL 297.24375 35.275781 \nz\n\" style=\"fill:#008000;stroke:#008000;stroke-linejoin:miter;\"/>\n    </g>\n    <g id=\"text_14\">\n     <!-- 1990s -->\n     <g transform=\"translate(325.24375 42.275781)scale(0.1 -0.1)\">\n      <use xlink:href=\"#DejaVuSans-49\"/>\n      <use x=\"63.623047\" xlink:href=\"#DejaVuSans-57\"/>\n      <use x=\"127.246094\" xlink:href=\"#DejaVuSans-57\"/>\n      <use x=\"190.869141\" xlink:href=\"#DejaVuSans-48\"/>\n      <use x=\"254.492188\" xlink:href=\"#DejaVuSans-115\"/>\n     </g>\n    </g>\n    <g id=\"patch_10\">\n     <path d=\"M 297.24375 56.953906 \nL 317.24375 56.953906 \nL 317.24375 49.953906 \nL 297.24375 49.953906 \nz\n\" style=\"fill:#ffa500;stroke:#ffa500;stroke-linejoin:miter;\"/>\n    </g>\n    <g id=\"text_15\">\n     <!-- 2000s -->\n     <g transform=\"translate(325.24375 56.953906)scale(0.1 -0.1)\">\n      <use xlink:href=\"#DejaVuSans-50\"/>\n      <use x=\"63.623047\" xlink:href=\"#DejaVuSans-48\"/>\n      <use x=\"127.246094\" xlink:href=\"#DejaVuSans-48\"/>\n      <use x=\"190.869141\" xlink:href=\"#DejaVuSans-48\"/>\n      <use x=\"254.492188\" xlink:href=\"#DejaVuSans-115\"/>\n     </g>\n    </g>\n    <g id=\"patch_11\">\n     <path d=\"M 297.24375 71.632031 \nL 317.24375 71.632031 \nL 317.24375 64.632031 \nL 297.24375 64.632031 \nz\n\" style=\"fill:#0000ff;stroke:#0000ff;stroke-linejoin:miter;\"/>\n    </g>\n    <g id=\"text_16\">\n     <!-- 2010s -->\n     <g transform=\"translate(325.24375 71.632031)scale(0.1 -0.1)\">\n      <use xlink:href=\"#DejaVuSans-50\"/>\n      <use x=\"63.623047\" xlink:href=\"#DejaVuSans-48\"/>\n      <use x=\"127.246094\" xlink:href=\"#DejaVuSans-49\"/>\n      <use x=\"190.869141\" xlink:href=\"#DejaVuSans-48\"/>\n      <use x=\"254.492188\" xlink:href=\"#DejaVuSans-115\"/>\n     </g>\n    </g>\n   </g>\n  </g>\n </g>\n <defs>\n  <clipPath id=\"p47d63c26ca\">\n   <rect height=\"217.44\" width=\"334.8\" x=\"30.103125\" y=\"10.999219\"/>\n  </clipPath>\n </defs>\n</svg>\n",
      "image/png": "[encoded data removed]"
     },
     "metadata": {
      "needs_background": "light"
     }
    }
   ],
   "source": [
    "y_2019 = np.array([HK_GBP_2019[\"Monthly\"][\"mean\"],peso_dollar_2019[\"Monthly\"][\"mean\"],DAX_2019[\"Monthly\"][\"mean\"],BSVP_2019[\"Monthly\"][\"mean\"],KS11_2019[\"Monthly\"][\"mean\"],VBTLX_2019[\"Monthly\"][\"mean\"],mom_2019[\"Monthly\"][\"mean\"],value_2019[\"Monthly\"][\"mean\"],size_2019[\"Monthly\"][\"mean\"],market_2019[\"Monthly\"][\"mean\"]])\n",
    "\n",
    "x_2019 = np.array([HK_GBP_2019[\"Monthly\"][\"std\"],peso_dollar_2019[\"Monthly\"][\"std\"],DAX_2019[\"Monthly\"][\"std\"],BSVP_2019[\"Monthly\"][\"mean\"],KS11_2019[\"Monthly\"][\"std\"],VBTLX_2019[\"Monthly\"][\"std\"],mom_2019[\"Monthly\"][\"std\"],value_2019[\"Monthly\"][\"std\"],size_2019[\"Monthly\"][\"std\"],market_2019[\"Monthly\"][\"std\"]])\n",
    "\n",
    "y_2009 = np.array([HK_GBP_2009[\"Monthly\"][\"mean\"],peso_dollar_2009[\"Monthly\"][\"mean\"],DAX_2009[\"Monthly\"][\"mean\"],BSVP_2009[\"Monthly\"][\"mean\"],KS11_2009[\"Monthly\"][\"mean\"],VBTLX_2009[\"Monthly\"][\"mean\"],mom_2009[\"Monthly\"][\"mean\"],value_2009[\"Monthly\"][\"mean\"],size_2009[\"Monthly\"][\"mean\"],market_2009[\"Monthly\"][\"mean\"]])\n",
    "\n",
    "x_2009 = np.array([HK_GBP_2009[\"Monthly\"][\"std\"],peso_dollar_2009[\"Monthly\"][\"std\"],DAX_2009[\"Monthly\"][\"std\"],BSVP_2009[\"Monthly\"][\"mean\"],KS11_2009[\"Monthly\"][\"std\"],VBTLX_2009[\"Monthly\"][\"std\"],mom_2009[\"Monthly\"][\"std\"],value_2009[\"Monthly\"][\"std\"],size_2009[\"Monthly\"][\"std\"],market_2009[\"Monthly\"][\"std\"]])\n",
    "\n",
    "y_1999 = np.array([HK_GBP_1999[\"Monthly\"][\"mean\"],peso_dollar_1999[\"Monthly\"][\"mean\"],DAX_1999[\"Monthly\"][\"mean\"],mom_1999[\"Monthly\"][\"mean\"],value_1999[\"Monthly\"][\"mean\"],size_1999[\"Monthly\"][\"mean\"],market_1999[\"Monthly\"][\"mean\"]])\n",
    "\n",
    "x_1999 = np.array([HK_GBP_1999[\"Monthly\"][\"std\"],peso_dollar_1999[\"Monthly\"][\"std\"],DAX_1999[\"Monthly\"][\"std\"],mom_1999[\"Monthly\"][\"std\"],value_1999[\"Monthly\"][\"std\"],size_1999[\"Monthly\"][\"std\"],market_1999[\"Monthly\"][\"std\"]])\n",
    "\n",
    "y_1989 = np.array([DAX_1989[\"Monthly\"][\"mean\"],mom_1989[\"Monthly\"][\"mean\"],value_1989[\"Monthly\"][\"mean\"],size_1989[\"Monthly\"][\"mean\"],market_1989[\"Monthly\"][\"mean\"]])\n",
    "\n",
    "x_1989 = np.array([DAX_1989[\"Monthly\"][\"std\"],mom_1989[\"Monthly\"][\"std\"],value_1989[\"Monthly\"][\"std\"],size_1989[\"Monthly\"][\"std\"],market_1989[\"Monthly\"][\"std\"]])\n",
    "\n",
    "\n",
    "ax1 = plt.gca()\n",
    "\n",
    "ax1.scatter([x_2019],[y_2019] )\n",
    "ax1.scatter([x_2009],[y_2009])\n",
    "ax1.scatter([x_1999],[y_1999])\n",
    "ax1.scatter([x_1989],[y_1989])\n",
    "\n",
    "plt.xlim(-0, .5)\n",
    "plt.ylim(-0.05, .5)\n",
    "\n",
    "\n",
    "m_2019, b_2019 = np.polyfit(x_2019, y_2019, 1)\n",
    "plt.plot(x_2019, m_2019*x_2019 + b_2019)\n",
    "\n",
    "m_2009, b_2009 = np.polyfit(x_2009, y_2009, 1)\n",
    "plt.plot(x_2009, m_2009*x_2009 + b_2009)\n",
    "\n",
    "m_1999, b_1999 = np.polyfit(x_1999, y_1999, 1)\n",
    "plt.plot(x_1999, m_1999*x_1999 + b_1999)\n",
    "\n",
    "m_1989, b_1989 = np.polyfit(x_1989, y_1989, 1)\n",
    "plt.plot(x_1989, m_1989*x_1989 + b_1989)\n",
    "\n",
    "import matplotlib.patches as mpatches\n",
    "\n",
    "red_patch = mpatches.Patch(color='red', label='1980s')\n",
    "green_patch = mpatches.Patch(color='green', label='1990s')\n",
    "orange_patch = mpatches.Patch(color='orange', label='2000s')\n",
    "blue_patch = mpatches.Patch(color='blue', label='2010s')\n",
    "plt.legend(handles=[red_patch, green_patch,orange_patch,blue_patch])\n",
    "\n",
    "graph_1 = ax1\n"
   ]
  },
  {
   "cell_type": "code",
   "execution_count": 39,
   "metadata": {},
   "outputs": [
    {
     "output_type": "execute_result",
     "data": {
      "text/plain": [
       "array([ 0.00839661,  0.30485535,  0.0875166 ,  0.06528208, -0.0120143 ,\n",
       "        0.08464841])"
      ]
     },
     "metadata": {},
     "execution_count": 39
    }
   ],
   "source": [
    "y_1989"
   ]
  },
  {
   "cell_type": "code",
   "execution_count": 40,
   "metadata": {},
   "outputs": [
    {
     "output_type": "stream",
     "name": "stdout",
     "text": [
      "\\begin{tabular}{lrrrr}\n\\toprule\n{} &  Daily &  Weekly &  Monthly &  Quarterly \\\\\n\\midrule\nmean &  0.038 &   0.036 &    0.040 &      0.034 \\\\\nstd  &  0.148 &   0.142 &    0.130 &      0.117 \\\\\nskew & -0.375 &  -0.628 &   -0.545 &     -0.588 \\\\\nkurt &  6.891 &   5.081 &    4.341 &      3.652 \\\\\n\\bottomrule\n\\end{tabular}\n\n"
     ]
    }
   ],
   "source": [
    "print(KS11_2019.to_latex())"
   ]
  },
  {
   "cell_type": "code",
   "execution_count": null,
   "metadata": {},
   "outputs": [],
   "source": []
  },
  {
   "source": [
    "from scipy.special import gammaln\n",
    "from scipy.optimize import minimize\n",
    "\n",
    "def students_dof(prices):\n",
    "    def std_t_loglik(nu, x):\n",
    "        # These are fixed for now\n",
    "        mu = 0\n",
    "        sigma2 = 1\n",
    "        sigma = np.sqrt(sigma2)\n",
    "\n",
    "        a = gammaln((nu + 1) / 2)\n",
    "        b = gammaln(nu / 2)\n",
    "        c = np.sqrt(np.pi * (nu-2))\n",
    "        d = ((nu + 1) / 2)\n",
    "        e = (x - mu) **2\n",
    "        f = sigma2 * (nu - 2)\n",
    "\n",
    "        loglik = a - b - np.log(c) - np.log(sigma) - d * np.log(1 + e / f)\n",
    "        return -(loglik.sum())\n",
    "    \n",
    "    d_returns = prices.pct_change().dropna()\n",
    "    w_returns = prices.resample(\"W-FRI\").last().pct_change().dropna()\n",
    "    m_returns = prices.resample(\"M\").last().pct_change().dropna()\n",
    "    q_returns = prices.resample(\"Q\").last().pct_change().dropna()\n",
    "\n",
    "    std_d = (d_returns - d_returns.mean())/ d_returns.std()\n",
    "\n",
    "    starting_val = np.array([10]) \n",
    "    opt = minimize(std_t_loglik, starting_val, args=(std_d), bounds=[(2.01, 100)], options={\"disp\": True})\n",
    "    mle = opt.x[0]   \n",
    "    return mle"
   ],
   "cell_type": "code",
   "metadata": {},
   "execution_count": 41,
   "outputs": []
  },
  {
   "cell_type": "code",
   "execution_count": 42,
   "metadata": {},
   "outputs": [],
   "source": [
    "def dof(prices):\n",
    "    def full_std_t_loglik(parameters, x):\n",
    "        # These are fixed for now\n",
    "        mu = parameters[0]\n",
    "        sigma2 = parameters[1]\n",
    "        nu = parameters[2]\n",
    "        sigma = np.sqrt(sigma2)\n",
    "   \n",
    "        a = gammaln((nu + 1) / 2)\n",
    "        b = gammaln(nu / 2)\n",
    "        c = np.sqrt(np.pi * (nu-2))\n",
    "        d = ((nu + 1) / 2)\n",
    "        e = (x - mu) **2\n",
    "        f = sigma2 * (nu - 2)\n",
    "    \n",
    "        loglik = a - b - np.log(c) - np.log(sigma) - d * np.log(1 + e / f)\n",
    "        return -(loglik.sum())\n",
    "\n",
    "    \n",
    "    d = prices.pct_change().dropna()\n",
    "    w = prices.resample(\"W-FRI\").last().pct_change().dropna()\n",
    "    m = prices.resample(\"M\").last().pct_change().dropna()\n",
    "    q = prices.resample(\"Q\").last().pct_change().dropna()\n",
    "    \n",
    "    dmean = d.mean()\n",
    "    dvar = d.var()\n",
    "    dstarting_val = np.array([dmean, dvar, 0])\n",
    "    dbounds = [(-10*np.abs(dmean), 10*np.abs(dmean)), \n",
    "          (dvar / 1000, 100 * dvar),\n",
    "          (2.000001, 500)]\n",
    "    dopt = minimize(full_std_t_loglik, dstarting_val, args=(d), bounds=dbounds, options={\"disp\": True})\n",
    "    dOOF = (dopt.x[2])\n",
    "\n",
    "    wmean = w.mean()\n",
    "    wvar = w.var()\n",
    "    wstarting_val = np.array([wmean, wvar, 0])\n",
    "    wbounds = [(-10*np.abs(wmean), 10*np.abs(wmean)), \n",
    "          (wvar / 1000, 100 * wvar),\n",
    "          (2.000001, 500)]\n",
    "    wopt = minimize(full_std_t_loglik, wstarting_val, args=(w), bounds=wbounds, options={\"disp\": True})\n",
    "    wOOF = (wopt.x[2])\n",
    "\n",
    "    mmean = m.mean()\n",
    "    mvar = m.var()\n",
    "    mstarting_val = np.array([mmean, mvar, 0])\n",
    "    mbounds = [(-10*np.abs(mmean), 10*np.abs(mmean)), \n",
    "          (mvar / 1000, 100 * mvar),\n",
    "          (2.000001, 500)]\n",
    "    mopt = minimize(full_std_t_loglik, mstarting_val, args=(m), bounds=mbounds, options={\"disp\": True})\n",
    "    mOOF = (mopt.x[2])\n",
    "\n",
    "    qmean = q.mean()\n",
    "    qvar = q.var()\n",
    "    qstarting_val = np.array([qmean, qvar, 0])\n",
    "    qbounds = [(-10*np.abs(qmean), 10*np.abs(qmean)), \n",
    "          (qvar / 1000, 100 * qvar),\n",
    "          (2.000001, 500)]\n",
    "    qopt = minimize(full_std_t_loglik, qstarting_val, args=(q), bounds=qbounds, options={\"disp\": True})\n",
    "    qOOF = (qopt.x[2])\n",
    "\n",
    "    freedom = pd.Series([dOOF, wOOF,mOOF,qOOF], index = [\"Daily\", \"Weekly\", \"Monthly\", \"Quarterly\"])\n",
    "    return freedom"
   ]
  },
  {
   "cell_type": "code",
   "execution_count": null,
   "metadata": {},
   "outputs": [],
   "source": []
  },
  {
   "cell_type": "code",
   "execution_count": 43,
   "metadata": {},
   "outputs": [
    {
     "output_type": "execute_result",
     "data": {
      "text/plain": [
       "Daily        2.239134\n",
       "Weekly       2.782017\n",
       "Monthly      2.989732\n",
       "Quarterly    2.004770\n",
       "dtype: float64"
      ]
     },
     "metadata": {},
     "execution_count": 43
    }
   ],
   "source": [
    "dof(KS11)"
   ]
  },
  {
   "cell_type": "code",
   "execution_count": 44,
   "metadata": {},
   "outputs": [],
   "source": [
    "def dff(prices):\n",
    "    \n",
    "    def calc_kurt(series):\n",
    "        mu = series.mean()\n",
    "        err = series - mu\n",
    "        var = (err**2).mean()\n",
    "        mom4 = (err**4).mean()\n",
    "        kurt = mom4 / var ** (4/2)\n",
    "        return kurt\n",
    "    \n",
    "    d_k = calc_kurt(prices.pct_change())\n",
    "    w_k = calc_kurt(prices.resample(\"W-FRI\").last().pct_change())\n",
    "    m_k = calc_kurt(prices.resample(\"M\").last().pct_change())\n",
    "    q_k = calc_kurt(prices.resample(\"Q\").last().pct_change())\n",
    "\n",
    "    def df(k):\n",
    "        a = k - 2\n",
    "        b = k - 4\n",
    "        df = 3 * (a/b)\n",
    "        if k > 4:\n",
    "            df=df\n",
    "        else:\n",
    "            df = float(\"inf\")\n",
    "        return df\n",
    "    \n",
    "    df_d = df(d_k)\n",
    "    df_w = df(w_k)\n",
    "    df_m = df(m_k)\n",
    "    df_q = df(q_k)\n",
    "\n",
    "    freedom = pd.Series([df_d, df_w, df_m, df_q], index = [\"Daily\", \"Weekly\", \"Monthly\", \"Quarterly\"])\n",
    "    return freedom\n",
    "\n",
    "\n"
   ]
  },
  {
   "cell_type": "code",
   "execution_count": 45,
   "metadata": {},
   "outputs": [],
   "source": [
    "df_DAX = dff(DAX)\n",
    "dfm_DAX = dof(DAX)"
   ]
  },
  {
   "cell_type": "code",
   "execution_count": 46,
   "metadata": {},
   "outputs": [],
   "source": [
    "df_BVSP = dff(BVSP)\n",
    "dfm_BVSP = dof(BVSP)"
   ]
  },
  {
   "cell_type": "code",
   "execution_count": 47,
   "metadata": {},
   "outputs": [],
   "source": [
    "df_HK = dff(HK_GBP)\n",
    "dfm_HK = dof(HK_GBP)"
   ]
  },
  {
   "cell_type": "code",
   "execution_count": 48,
   "metadata": {},
   "outputs": [],
   "source": [
    "df_KS11 = dff(KS11)\n",
    "dfm_KS11 = dof(KS11)"
   ]
  },
  {
   "cell_type": "code",
   "execution_count": 49,
   "metadata": {},
   "outputs": [],
   "source": [
    "df_VBTLX = dff(VBTLX)\n",
    "dfm_VBTLX = dof(VBTLX)"
   ]
  },
  {
   "cell_type": "code",
   "execution_count": 50,
   "metadata": {},
   "outputs": [],
   "source": [
    "df_peso = dff(peso_dollar)\n",
    "dfm_peso = dof(peso_dollar)"
   ]
  },
  {
   "cell_type": "code",
   "execution_count": 51,
   "metadata": {},
   "outputs": [],
   "source": [
    "df_mom = dff(ff_factors_price[\"Mom\"])\n",
    "dfm_mom = dof(ff_factors_price[\"Mom\"])"
   ]
  },
  {
   "cell_type": "code",
   "execution_count": 52,
   "metadata": {},
   "outputs": [],
   "source": [
    "df_hml = dff(ff_factors_price[\"HML\"])\n",
    "dfm_hml = dof(ff_factors_price[\"HML\"])"
   ]
  },
  {
   "cell_type": "code",
   "execution_count": 53,
   "metadata": {},
   "outputs": [],
   "source": [
    "df_smb = dff(ff_factors_price[\"SMB\"])\n",
    "dfm_smb = dof(ff_factors_price[\"SMB\"])"
   ]
  },
  {
   "cell_type": "code",
   "execution_count": 54,
   "metadata": {},
   "outputs": [],
   "source": [
    "df_mkt= dff(ff_factors_price[\"Mkt-RF\"])\n",
    "dfm_mkt= dof(ff_factors_price[\"Mkt-RF\"])"
   ]
  },
  {
   "cell_type": "code",
   "execution_count": 55,
   "metadata": {},
   "outputs": [
    {
     "output_type": "stream",
     "name": "stdout",
     "text": [
      "\\begin{tabular}{lrrrrrrrrrr}\n\\toprule\n{} &  HK/GBP &  MXN/USD &     DAX &   BSVP &   KS11 &   VBTLX &  Momentum &  Value &   Size &  Market \\\\\n\\midrule\nDaily     &   5.851 &    3.041 &   4.252 &  3.436 &  4.228 &  19.706 &     3.232 &  3.407 &  3.277 &   3.385 \\\\\nWeekly    &   3.266 &    3.058 &   5.094 &  4.714 &  4.483 &  65.911 &     3.521 &  3.494 &  3.658 &   4.167 \\\\\nMonthly   &   5.851 &    3.144 &   8.651 &  3.541 &  4.351 &  16.937 &     3.814 &  3.719 &  3.625 &   3.865 \\\\\nQuarterly &     inf &    3.523 &  12.125 &  3.253 &  4.192 &     inf &     4.132 &  3.753 &  3.964 &   3.379 \\\\\n\\bottomrule\n\\end{tabular}\n\n"
     ]
    }
   ],
   "source": [
    "table = pd.concat([df_HK, df_peso, df_DAX, df_BVSP, df_KS11, df_VBTLX, df_mom, df_hml, df_smb, df_mkt], axis=1)\n",
    "table = np.round(table,3)\n",
    "table.columns = [\"HK/GBP\", \"MXN/USD\", \"DAX\", \"BSVP\", \"KS11\", \"VBTLX\", \"Momentum\", \"Value\", \"Size\", \"Market\"]\n",
    "print(table.to_latex())"
   ]
  },
  {
   "cell_type": "code",
   "execution_count": 56,
   "metadata": {},
   "outputs": [
    {
     "output_type": "stream",
     "name": "stdout",
     "text": [
      "\\begin{tabular}{lrrrrrrrrrr}\n\\toprule\n{} &  HK/GBP &  MXN/USD &    DAX &   BSVP &   KS11 &    VBTLX &  Momentum &  Value &   Size &  Market \\\\\n\\midrule\nDaily     &   2.004 &    2.399 &  3.471 &  3.326 &  2.239 &    2.009 &     2.252 &  2.008 &  2.783 &   2.472 \\\\\nWeekly    &   2.000 &    2.678 &  4.957 &  3.324 &  2.782 &    7.680 &     2.527 &  2.881 &  2.014 &   3.345 \\\\\nMonthly   &   2.004 &    2.617 &  4.826 &  2.480 &  2.990 &    6.460 &     2.723 &  3.001 &  4.472 &   3.820 \\\\\nQuarterly &   4.626 &    2.308 &  3.205 &  2.002 &  2.005 &  499.996 &     2.919 &  3.094 &  5.883 &   3.183 \\\\\n\\bottomrule\n\\end{tabular}\n\n"
     ]
    }
   ],
   "source": [
    "table1 = pd.concat([dfm_HK, dfm_peso, dfm_DAX, dfm_BVSP, dfm_KS11, dfm_VBTLX, dfm_mom, dfm_hml, dfm_smb, dfm_mkt], axis=1)\n",
    "table1 = np.round(table1,3)\n",
    "table1.columns = [\"HK/GBP\", \"MXN/USD\", \"DAX\", \"BSVP\", \"KS11\", \"VBTLX\", \"Momentum\", \"Value\", \"Size\", \"Market\"]\n",
    "print(table1.to_latex())"
   ]
  },
  {
   "cell_type": "code",
   "execution_count": 57,
   "metadata": {},
   "outputs": [
    {
     "output_type": "stream",
     "name": "stdout",
     "text": [
      "\\begin{tabular}{lrrrrrrrrrr}\n\\toprule\n{} &  HK/GBP &  MXN/USD &     DAX &   BSVP &   KS11 &    VBTLX &  Momentum &  Value &   Size &  Market \\\\\n\\midrule\nDaily     &   5.851 &    3.041 &   4.252 &  3.436 &  4.228 &   19.706 &     3.232 &  3.407 &  3.277 &   3.385 \\\\\nWeekly    &   3.266 &    3.058 &   5.094 &  4.714 &  4.483 &   65.911 &     3.521 &  3.494 &  3.658 &   4.167 \\\\\nMonthly   &   5.851 &    3.144 &   8.651 &  3.541 &  4.351 &   16.937 &     3.814 &  3.719 &  3.625 &   3.865 \\\\\nQuarterly &     inf &    3.523 &  12.125 &  3.253 &  4.192 &      inf &     4.132 &  3.753 &  3.964 &   3.379 \\\\\nDaily     &   2.004 &    2.399 &   3.471 &  3.326 &  2.239 &    2.009 &     2.252 &  2.008 &  2.783 &   2.472 \\\\\nWeekly    &   2.000 &    2.678 &   4.957 &  3.324 &  2.782 &    7.680 &     2.527 &  2.881 &  2.014 &   3.345 \\\\\nMonthly   &   2.004 &    2.617 &   4.826 &  2.480 &  2.990 &    6.460 &     2.723 &  3.001 &  4.472 &   3.820 \\\\\nQuarterly &   4.626 &    2.308 &   3.205 &  2.002 &  2.005 &  499.996 &     2.919 &  3.094 &  5.883 &   3.183 \\\\\n\\bottomrule\n\\end{tabular}\n\n"
     ]
    }
   ],
   "source": [
    "table3 = pd.concat([table, table1])\n",
    "print(table3.to_latex())"
   ]
  }
 ]
}