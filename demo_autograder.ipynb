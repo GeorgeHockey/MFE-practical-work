{
 "cells": [
  {
   "cell_type": "markdown",
   "metadata": {},
   "source": [
    "# Demo Autograder\n",
    "\n",
    "This file can be run against your code to understand the basics of how the autograder works.  The autograder:\n",
    "\n",
    "* loads your file as a Python module\n",
    "* runs each function\n",
    "* checks the output of each function\n",
    "\n",
    "The formal tests are not included. The tests included in this file are sanity checks.\n",
    "\n",
    "To run this on your code, please the notebook in the same folder as your `.py` file. Then set `FILENAME` to the name of your file.  You should then be able to run it.  If you see an `AssertionError` then your code isn't passing a sanity check."
   ]
  },
  {
   "cell_type": "code",
   "execution_count": 3,
   "metadata": {},
   "outputs": [],
   "source": [
    "from importlib.machinery import SourceFileLoader\n",
    "import pandas as pd\n",
    "import os\n",
    "import glob\n",
    "import pandas as pd\n",
    "import numpy as np\n",
    "\n",
    "ROOT = os.getcwd()\n",
    "FILENAME = \"PW_2_function_1.py\"\n",
    "FILE = os.path.join(ROOT, FILENAME)\n",
    "mod = SourceFileLoader(FILENAME.split(\".py\")[0], FILE).load_module()"
   ]
  },
  {
   "cell_type": "code",
   "execution_count": 4,
   "metadata": {},
   "outputs": [],
   "source": [
    "rg = np.random.default_rng(38218301830131)\n",
    "index = pd.bdate_range(\"2020-01-01\", periods=10000, freq=\"D\")\n",
    "scale = np.sqrt(0.2 ** 2 / 252)\n",
    "simulated_price = pd.Series(\n",
    "    np.exp(scale * np.cumsum(rg.standard_normal(10000))), index=index\n",
    ")\n",
    "\n",
    "output = mod.summary_statistics(simulated_price)\n",
    "assert isinstance(output, pd.DataFrame)\n",
    "assert list(output.index) == [\"mean\", \"std\", \"skew\", \"kurt\"]\n",
    "assert list(output.columns) == [\"Daily\", \"Weekly\", \"Monthly\", \"Quarterly\"]"
   ]
  },
  {
   "cell_type": "code",
   "execution_count": 5,
   "metadata": {},
   "outputs": [],
   "source": [
    "returns = simulated_price.pct_change().dropna()\n",
    "mle, mom = mod.students_dof(returns)\n",
    "\n",
    "assert isinstance(mle, float)\n",
    "assert isinstance(mom, float)"
   ]
  },
  {
   "cell_type": "code",
   "execution_count": null,
   "metadata": {},
   "outputs": [],
   "source": []
  },
  {
   "cell_type": "code",
   "execution_count": null,
   "metadata": {},
   "outputs": [],
   "source": []
  }
 ],
 "metadata": {
  "kernelspec": {
   "display_name": "Python 3",
   "language": "python",
   "name": "python3"
  },
  "language_info": {
   "codemirror_mode": {
    "name": "ipython",
    "version": 3
   },
   "file_extension": ".py",
   "mimetype": "text/x-python",
   "name": "python",
   "nbconvert_exporter": "python",
   "pygments_lexer": "ipython3",
   "version": "3.8.3-final"
  }
 },
 "nbformat": 4,
 "nbformat_minor": 2
}