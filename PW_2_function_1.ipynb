{
 "metadata": {
  "language_info": {
   "codemirror_mode": {
    "name": "ipython",
    "version": 3
   },
   "file_extension": ".py",
   "mimetype": "text/x-python",
   "name": "python",
   "nbconvert_exporter": "python",
   "pygments_lexer": "ipython3",
   "version": "3.8.3-final"
  },
  "orig_nbformat": 2,
  "kernelspec": {
   "name": "python3",
   "display_name": "Python 3"
  }
 },
 "nbformat": 4,
 "nbformat_minor": 2,
 "cells": [
  {
   "source": [
    "First function in MFE Practical Work 2 assignment\n",
    "\n",
    "Designed to take a daily price pandas series\n",
    "\n",
    "Returns a pandas dataframe of mean, std_dev, skew, kurt: \n",
    "\n",
    "Sampled from daily, weekly, monthly and annual data"
   ],
   "cell_type": "markdown",
   "metadata": {}
  },
  {
   "source": [
    "Points\n",
    "\n",
    " - Mean has small differences due to sampling mechanics\n",
    "\n",
    " - standard deviation differs slightly - most likely due to macro movements\n",
    "\n",
    " - need to check equations and scaling for skew and kurtosis\n",
    "\n",
    " - additionally check that we are resampling the returns data correctly"
   ],
   "cell_type": "markdown",
   "metadata": {}
  },
  {
   "cell_type": "code",
   "execution_count": 1,
   "metadata": {},
   "outputs": [],
   "source": [
    "import numpy as np\n",
    "import pandas as pd\n",
    "\n",
    "def summary_statistics(prices):\n",
    "\n",
    "    d_returns = prices.pct_change().dropna()\n",
    "    w_returns = prices.resample(\"W-FRI\").last().pct_change().dropna()\n",
    "    m_returns = prices.resample(\"M\").last().pct_change().dropna()\n",
    "    q_returns = prices.resample(\"Q\").last().pct_change().dropna()\n",
    "    # Convert prices to returns\n",
    "\n",
    "    # Enclosed function to find mean, std, skew and kurt: gives annualised stats\n",
    "    def process(returns, n):\n",
    "        returns_mu = returns.mean()                         # mean returns per time period\n",
    "        annual_mu =  returns_mu * n                       # annualised mean returns\n",
    "\n",
    "        returns_err = returns - returns_mu       \n",
    "        returns_var = (returns_err ** 2).mean()             # average squared return ( 2nd moment)\n",
    "        annual_var = returns_var * n                        # annual rescaled variance\n",
    "        annual_std = np.sqrt(annual_var)                    # annual rescaled std deviation\n",
    "\n",
    "        returns_mom3 = (returns_err ** 3).mean()\n",
    "        returns_mom4 = (returns_err ** 4).mean()            # Third and Fourth moments\n",
    "\n",
    "\n",
    "        annual_skew = (returns_mom3 / returns_var ** (3/2)) #/ np.sqrt(n)  # rescaled Skew and Kurtosis\n",
    "        annual_kurt = (returns_mom4 / returns_var ** (4/2)) #/ n\n",
    "\n",
    "        returns_stats = pd.Series([annual_mu, annual_std, annual_skew, annual_kurt], index = [\"mean\", \"std\", \"skew\", \"kurt\"])\n",
    "        \n",
    "        return returns_stats\n",
    "         \n",
    "    # Feed in daily, weekly, monthly and quarterly data\n",
    "    d_stats = process(d_returns, n = 252).rename(\"Daily\")\n",
    "    w_stats = process(w_returns, n = 52 ).rename(\"Weekly\")\n",
    "    m_stats = process(m_returns, n = 12 ).rename(\"Monthly\")\n",
    "    q_stats = process(q_returns, n = 4  ).rename(\"Quarterly\")\n",
    "\n",
    "    # Concatenate the series into a dataframe\n",
    "    stats = pd.concat([d_stats, w_stats, m_stats, q_stats], axis=1)\n",
    "\n",
    "    return stats"
   ]
  },
  {
   "cell_type": "code",
   "execution_count": null,
   "metadata": {},
   "outputs": [],
   "source": []
  },
  {
   "cell_type": "code",
   "execution_count": 2,
   "metadata": {},
   "outputs": [],
   "source": [
    "aapl = pd.read_csv(\"data/aapl.csv\", parse_dates=True, index_col=\"Date\")\n",
    "aapl_close = aapl[\"Close\"]\n",
    "\n",
    "sbry_1 = pd.read_csv(\"data/SBRY_1Y.csv\", parse_dates=True, index_col=\"Date\")\n",
    "sbry_1 = sbry_1[\"Close\"]\n",
    "\n",
    "sbry_10 = pd.read_csv(\"data/SBRY_10Y.csv\", parse_dates=True, index_col=\"Date\")\n",
    "sbry_10 = sbry_10[\"Close\"]\n",
    "\n",
    "FTSE = pd.read_csv(\"data/^FTSE.csv\", parse_dates=True, index_col=\"Date\")\n",
    "FTSE = FTSE[\"Close\"]"
   ]
  },
  {
   "cell_type": "code",
   "execution_count": 3,
   "metadata": {},
   "outputs": [
    {
     "output_type": "execute_result",
     "data": {
      "text/plain": [
       "         Daily    Weekly   Monthly  Quarterly\n",
       "mean  0.285387  0.305630  0.319264   0.316689\n",
       "std   0.243743  0.243948  0.266882   0.296066\n",
       "skew -0.299724 -0.059524 -0.532603  -0.893037\n",
       "kurt  7.643469  5.068484  3.265992   3.691122"
      ],
      "text/html": "<div>\n<style scoped>\n    .dataframe tbody tr th:only-of-type {\n        vertical-align: middle;\n    }\n\n    .dataframe tbody tr th {\n        vertical-align: top;\n    }\n\n    .dataframe thead th {\n        text-align: right;\n    }\n</style>\n<table border=\"1\" class=\"dataframe\">\n  <thead>\n    <tr style=\"text-align: right;\">\n      <th></th>\n      <th>Daily</th>\n      <th>Weekly</th>\n      <th>Monthly</th>\n      <th>Quarterly</th>\n    </tr>\n  </thead>\n  <tbody>\n    <tr>\n      <th>mean</th>\n      <td>0.285387</td>\n      <td>0.305630</td>\n      <td>0.319264</td>\n      <td>0.316689</td>\n    </tr>\n    <tr>\n      <th>std</th>\n      <td>0.243743</td>\n      <td>0.243948</td>\n      <td>0.266882</td>\n      <td>0.296066</td>\n    </tr>\n    <tr>\n      <th>skew</th>\n      <td>-0.299724</td>\n      <td>-0.059524</td>\n      <td>-0.532603</td>\n      <td>-0.893037</td>\n    </tr>\n    <tr>\n      <th>kurt</th>\n      <td>7.643469</td>\n      <td>5.068484</td>\n      <td>3.265992</td>\n      <td>3.691122</td>\n    </tr>\n  </tbody>\n</table>\n</div>"
     },
     "metadata": {},
     "execution_count": 3
    }
   ],
   "source": [
    "summary_statistics(aapl_close)"
   ]
  },
  {
   "cell_type": "code",
   "execution_count": 20,
   "metadata": {},
   "outputs": [
    {
     "output_type": "execute_result",
     "data": {
      "text/plain": [
       "          Daily     Weekly    Monthly  Quarterly\n",
       "mean  -5.979325  -5.843228  -5.955597  -5.955597\n",
       "std   30.837179  29.356705  30.292363  23.630928\n",
       "skew  -3.424303  -1.251776  -0.606498  -0.166436\n",
       "kurt  34.493901   8.920274   2.729237   1.379523"
      ],
      "text/html": "<div>\n<style scoped>\n    .dataframe tbody tr th:only-of-type {\n        vertical-align: middle;\n    }\n\n    .dataframe tbody tr th {\n        vertical-align: top;\n    }\n\n    .dataframe thead th {\n        text-align: right;\n    }\n</style>\n<table border=\"1\" class=\"dataframe\">\n  <thead>\n    <tr style=\"text-align: right;\">\n      <th></th>\n      <th>Daily</th>\n      <th>Weekly</th>\n      <th>Monthly</th>\n      <th>Quarterly</th>\n    </tr>\n  </thead>\n  <tbody>\n    <tr>\n      <th>mean</th>\n      <td>-5.979325</td>\n      <td>-5.843228</td>\n      <td>-5.955597</td>\n      <td>-5.955597</td>\n    </tr>\n    <tr>\n      <th>std</th>\n      <td>30.837179</td>\n      <td>29.356705</td>\n      <td>30.292363</td>\n      <td>23.630928</td>\n    </tr>\n    <tr>\n      <th>skew</th>\n      <td>-3.424303</td>\n      <td>-1.251776</td>\n      <td>-0.606498</td>\n      <td>-0.166436</td>\n    </tr>\n    <tr>\n      <th>kurt</th>\n      <td>34.493901</td>\n      <td>8.920274</td>\n      <td>2.729237</td>\n      <td>1.379523</td>\n    </tr>\n  </tbody>\n</table>\n</div>"
     },
     "metadata": {},
     "execution_count": 20
    }
   ],
   "source": [
    "summary_statistics(sbry_1)"
   ]
  },
  {
   "cell_type": "code",
   "execution_count": 45,
   "metadata": {},
   "outputs": [
    {
     "output_type": "execute_result",
     "data": {
      "text/plain": [
       "          Daily    Weekly   Monthly  Quarterly\n",
       "mean  -0.001566 -0.003897 -0.008692  -0.005294\n",
       "std    0.249527  0.239150  0.216670   0.209488\n",
       "skew  -0.130554 -0.248017  0.332873   0.579807\n",
       "kurt  17.233344  5.667233  5.999706   4.500629"
      ],
      "text/html": "<div>\n<style scoped>\n    .dataframe tbody tr th:only-of-type {\n        vertical-align: middle;\n    }\n\n    .dataframe tbody tr th {\n        vertical-align: top;\n    }\n\n    .dataframe thead th {\n        text-align: right;\n    }\n</style>\n<table border=\"1\" class=\"dataframe\">\n  <thead>\n    <tr style=\"text-align: right;\">\n      <th></th>\n      <th>Daily</th>\n      <th>Weekly</th>\n      <th>Monthly</th>\n      <th>Quarterly</th>\n    </tr>\n  </thead>\n  <tbody>\n    <tr>\n      <th>mean</th>\n      <td>-0.001566</td>\n      <td>-0.003897</td>\n      <td>-0.008692</td>\n      <td>-0.005294</td>\n    </tr>\n    <tr>\n      <th>std</th>\n      <td>0.249527</td>\n      <td>0.239150</td>\n      <td>0.216670</td>\n      <td>0.209488</td>\n    </tr>\n    <tr>\n      <th>skew</th>\n      <td>-0.130554</td>\n      <td>-0.248017</td>\n      <td>0.332873</td>\n      <td>0.579807</td>\n    </tr>\n    <tr>\n      <th>kurt</th>\n      <td>17.233344</td>\n      <td>5.667233</td>\n      <td>5.999706</td>\n      <td>4.500629</td>\n    </tr>\n  </tbody>\n</table>\n</div>"
     },
     "metadata": {},
     "execution_count": 45
    }
   ],
   "source": [
    "summary_statistics(sbry_10)"
   ]
  },
  {
   "cell_type": "code",
   "execution_count": 22,
   "metadata": {},
   "outputs": [
    {
     "output_type": "execute_result",
     "data": {
      "text/plain": [
       "          Daily     Weekly    Monthly  Quarterly\n",
       "mean  12.664971  12.376700  12.614713  12.614713\n",
       "std   11.734284  10.572372   9.676764   5.904805\n",
       "skew  -0.403668  -0.239463  -1.102723   0.758816\n",
       "kurt   5.072695   2.714910   2.730409   2.121725"
      ],
      "text/html": "<div>\n<style scoped>\n    .dataframe tbody tr th:only-of-type {\n        vertical-align: middle;\n    }\n\n    .dataframe tbody tr th {\n        vertical-align: top;\n    }\n\n    .dataframe thead th {\n        text-align: right;\n    }\n</style>\n<table border=\"1\" class=\"dataframe\">\n  <thead>\n    <tr style=\"text-align: right;\">\n      <th></th>\n      <th>Daily</th>\n      <th>Weekly</th>\n      <th>Monthly</th>\n      <th>Quarterly</th>\n    </tr>\n  </thead>\n  <tbody>\n    <tr>\n      <th>mean</th>\n      <td>12.664971</td>\n      <td>12.376700</td>\n      <td>12.614713</td>\n      <td>12.614713</td>\n    </tr>\n    <tr>\n      <th>std</th>\n      <td>11.734284</td>\n      <td>10.572372</td>\n      <td>9.676764</td>\n      <td>5.904805</td>\n    </tr>\n    <tr>\n      <th>skew</th>\n      <td>-0.403668</td>\n      <td>-0.239463</td>\n      <td>-1.102723</td>\n      <td>0.758816</td>\n    </tr>\n    <tr>\n      <th>kurt</th>\n      <td>5.072695</td>\n      <td>2.714910</td>\n      <td>2.730409</td>\n      <td>2.121725</td>\n    </tr>\n  </tbody>\n</table>\n</div>"
     },
     "metadata": {},
     "execution_count": 22
    }
   ],
   "source": [
    "summary_statistics(FTSE)"
   ]
  },
  {
   "cell_type": "code",
   "execution_count": 4,
   "metadata": {},
   "outputs": [
    {
     "output_type": "execute_result",
     "data": {
      "text/plain": [
       "pandas.core.series.Series"
      ]
     },
     "metadata": {},
     "execution_count": 4
    }
   ],
   "source": [
    "type(aapl_close)"
   ]
  },
  {
   "cell_type": "code",
   "execution_count": 5,
   "metadata": {},
   "outputs": [
    {
     "output_type": "execute_result",
     "data": {
      "text/plain": [
       "pandas.core.series.Series"
      ]
     },
     "metadata": {},
     "execution_count": 5
    }
   ],
   "source": [
    "np.random.seed(3)\n",
    "rng = pd.bdate_range('2015-01-01', periods=10000, freq='B')\n",
    "returns = pd.Series(np.random.normal(0, 0.01, len(rng)), index=rng)\n",
    "prices = (1+returns).cumprod()\n",
    "type(prices)\n"
   ]
  },
  {
   "cell_type": "code",
   "execution_count": 6,
   "metadata": {},
   "outputs": [
    {
     "output_type": "execute_result",
     "data": {
      "text/plain": [
       "         Daily    Weekly   Monthly  Quarterly\n",
       "mean -0.070157 -0.073508 -0.071572  -0.068949\n",
       "std   0.158074  0.153607  0.158098   0.159322\n",
       "skew  0.028539  0.022837  0.120475   0.274052\n",
       "kurt  3.003214  3.237223  3.052913   3.198883"
      ],
      "text/html": "<div>\n<style scoped>\n    .dataframe tbody tr th:only-of-type {\n        vertical-align: middle;\n    }\n\n    .dataframe tbody tr th {\n        vertical-align: top;\n    }\n\n    .dataframe thead th {\n        text-align: right;\n    }\n</style>\n<table border=\"1\" class=\"dataframe\">\n  <thead>\n    <tr style=\"text-align: right;\">\n      <th></th>\n      <th>Daily</th>\n      <th>Weekly</th>\n      <th>Monthly</th>\n      <th>Quarterly</th>\n    </tr>\n  </thead>\n  <tbody>\n    <tr>\n      <th>mean</th>\n      <td>-0.070157</td>\n      <td>-0.073508</td>\n      <td>-0.071572</td>\n      <td>-0.068949</td>\n    </tr>\n    <tr>\n      <th>std</th>\n      <td>0.158074</td>\n      <td>0.153607</td>\n      <td>0.158098</td>\n      <td>0.159322</td>\n    </tr>\n    <tr>\n      <th>skew</th>\n      <td>0.028539</td>\n      <td>0.022837</td>\n      <td>0.120475</td>\n      <td>0.274052</td>\n    </tr>\n    <tr>\n      <th>kurt</th>\n      <td>3.003214</td>\n      <td>3.237223</td>\n      <td>3.052913</td>\n      <td>3.198883</td>\n    </tr>\n  </tbody>\n</table>\n</div>"
     },
     "metadata": {},
     "execution_count": 6
    }
   ],
   "source": [
    "summary_statistics(prices)"
   ]
  },
  {
   "cell_type": "code",
   "execution_count": 7,
   "metadata": {},
   "outputs": [],
   "source": [
    "from scipy.special import gammaln\n",
    "from scipy.optimize import minimize\n",
    "\n",
    "def students_dof(cheese):\n",
    "    def std_t_loglik(nu, x):\n",
    "        # These are fixed for now\n",
    "        mu = nu\n",
    "        sigma2 = 1\n",
    "        sigma = np.sqrt(sigma2)\n",
    "\n",
    "\n",
    "        a = gammaln((nu + 1) / 2)\n",
    "        b = gammaln(nu / 2)\n",
    "        c = np.sqrt(np.pi * (nu-2))\n",
    "        d = ((nu + 1) / 2)\n",
    "        e = (x - mu) **2\n",
    "        f = sigma2 * (nu - 2)\n",
    "\n",
    "        loglik = a - b - np.log(c) - np.log(sigma) - d * np.log(1 + e / f)\n",
    "        return -(loglik.sum())\n",
    "    def calc_kurt(series):\n",
    "        mu = series.mean()\n",
    "        err = series - mu\n",
    "        var = (err**2).mean()\n",
    "        mom4 = (err**4).mean()\n",
    "        kurt = mom4 / var ** (4/2)\n",
    "        return kurt\n",
    "    starting_val = np.array([3]) \n",
    "    opt = minimize(std_t_loglik, starting_val, args=(cheese), bounds=[(2.01, 100)], options={\"disp\": True})\n",
    "    mle = opt.x[0]\n",
    "    if calc_kurt(cheese) > 4:\n",
    "        moment = 3*(((calc_kurt(cheese) - 2) / (calc_kurt(cheese) - 4)))\n",
    "    else:\n",
    "        moment = float(\"inf\")\n",
    "    return mle, moment"
   ]
  },
  {
   "cell_type": "code",
   "execution_count": 8,
   "metadata": {},
   "outputs": [
    {
     "output_type": "execute_result",
     "data": {
      "text/plain": [
       "(2.440208813325061, 3.4821292418001035)"
      ]
     },
     "metadata": {},
     "execution_count": 8
    }
   ],
   "source": [
    "np.random.seed(6)\n",
    "df=3\n",
    "returns2 = pd.Series(np.random.standard_t(df=df, size=15000)) / np.sqrt(df / (df - 2))\n",
    "\n",
    "students_dof(returns2)\n"
   ]
  },
  {
   "cell_type": "code",
   "execution_count": null,
   "metadata": {},
   "outputs": [],
   "source": []
  }
 ]
}