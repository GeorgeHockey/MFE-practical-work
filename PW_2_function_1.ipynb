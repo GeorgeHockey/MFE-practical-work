{
 "metadata": {
  "language_info": {
   "codemirror_mode": {
    "name": "ipython",
    "version": 3
   },
   "file_extension": ".py",
   "mimetype": "text/x-python",
   "name": "python",
   "nbconvert_exporter": "python",
   "pygments_lexer": "ipython3",
   "version": "3.8.3-final"
  },
  "orig_nbformat": 2,
  "kernelspec": {
   "name": "python3",
   "display_name": "Python 3"
  }
 },
 "nbformat": 4,
 "nbformat_minor": 2,
 "cells": [
  {
   "source": [
    "First function in MFE Practical Work 2 assignment\n",
    "\n",
    "Designed to take a daily price pandas series\n",
    "\n",
    "Returns a pandas dataframe of mean, std_dev, skew, kurt: \n",
    "\n",
    "Sampled from daily, weekly, monthly and annual data"
   ],
   "cell_type": "markdown",
   "metadata": {}
  },
  {
   "cell_type": "code",
   "execution_count": 7,
   "metadata": {},
   "outputs": [],
   "source": [
    "import numpy as np\n",
    "import pandas as pd"
   ]
  },
  {
   "cell_type": "code",
   "execution_count": 143,
   "metadata": {},
   "outputs": [],
   "source": [
    "def summary_statistics(prices):\n",
    "\n",
    "    # Sample data into daily, weekly, monthly and annual prices\n",
    "    d_prices = prices\n",
    "    w_prices = prices.resample(\"W-FRI\").last()\n",
    "    m_prices = prices.resample(\"M\").last()\n",
    "    q_prices = prices.resample(\"Q\").last()\n",
    "\n",
    "    # Convert prices to returns\n",
    "    d_returns = d_prices.pct_change()\n",
    "    w_returns = w_prices.pct_change()\n",
    "    m_returns = m_prices.pct_change()\n",
    "    q_returns = q_prices.pct_change()\n",
    "\n",
    "    # Enclosed function to find mean, std, skew and kurt: pre - annualised \n",
    "    def process(returns, n):\n",
    "        returns_mu = returns.mean()                         # mean returns per time period\n",
    "        annual_mu = returns_mu * n                          # annualised mean returns\n",
    "\n",
    "        returns_err = returns - returns_mu       \n",
    "        returns_var = (returns_err**2).mean()               # average squared return ( 2nd moment)\n",
    "        annual_var = returns_var * n                        # annual rescaled variance\n",
    "        annual_std = np.sqrt(annual_var)                    # annual rescaled std deviation\n",
    "\n",
    "        returns_mom3 = (returns_err**3).mean()\n",
    "        returns_mom4 = (returns_err**4).mean()              # Third and Fourth moments\n",
    "\n",
    "\n",
    "        annual_skew = (returns_mom3 / returns_var ** (3/2)) * np.sqrt(n)\n",
    "        annual_kurt = (returns_mom4 / returns_var ** (4/2)) * n\n",
    "\n",
    "        x_stats = pd.Series([annual_mu, annual_std, annual_skew, annual_kurt], index = [\"mean\", \"std\", \"skew\", \"kurt\"])\n",
    "        \n",
    "        return x_stats\n",
    "         \n",
    "    # Feed in daily, weekly, monthly and quarterly data\n",
    "    d_stats = process(d_returns, 252).rename(\"Daily\")\n",
    "    w_stats = process(w_returns, 52 ).rename(\"Weekly\")\n",
    "    m_stats = process(m_returns, 12 ).rename(\"Monthly\")\n",
    "    q_stats = process(q_returns, 4  ).rename(\"Quarterly\")\n",
    "\n",
    "    # Concatenate the series\n",
    "    stats = pd.concat([d_stats, w_stats, m_stats, q_stats], axis=1,)\n",
    "\n",
    "    return stats"
   ]
  },
  {
   "cell_type": "code",
   "execution_count": null,
   "metadata": {},
   "outputs": [],
   "source": []
  },
  {
   "cell_type": "code",
   "execution_count": null,
   "metadata": {},
   "outputs": [],
   "source": []
  },
  {
   "cell_type": "code",
   "execution_count": 187,
   "metadata": {},
   "outputs": [],
   "source": [
    "aapl = pd.read_csv(\"data/aapl.csv\", parse_dates=True, index_col=\"Date\")\n",
    "aapl_close = aapl[\"Close\"]\n",
    "sbry = pd.read_csv(\"data/SBRY.L.csv\", parse_dates=True, index_col=\"Date\")\n",
    "sbry_close = sbry[\"Close\"]"
   ]
  },
  {
   "cell_type": "code",
   "execution_count": 188,
   "metadata": {},
   "outputs": [
    {
     "output_type": "execute_result",
     "data": {
      "text/plain": [
       "            Daily      Weekly    Monthly  Quarterly\n",
       "mean     0.285387    0.305630   0.319264   0.316689\n",
       "std      0.243743    0.243948   0.266882   0.296066\n",
       "skew    -4.757964   -0.429231  -1.844991  -1.786075\n",
       "kurt  1926.154100  263.561144  39.191903  14.764489"
      ],
      "text/html": "<div>\n<style scoped>\n    .dataframe tbody tr th:only-of-type {\n        vertical-align: middle;\n    }\n\n    .dataframe tbody tr th {\n        vertical-align: top;\n    }\n\n    .dataframe thead th {\n        text-align: right;\n    }\n</style>\n<table border=\"1\" class=\"dataframe\">\n  <thead>\n    <tr style=\"text-align: right;\">\n      <th></th>\n      <th>Daily</th>\n      <th>Weekly</th>\n      <th>Monthly</th>\n      <th>Quarterly</th>\n    </tr>\n  </thead>\n  <tbody>\n    <tr>\n      <th>mean</th>\n      <td>0.285387</td>\n      <td>0.305630</td>\n      <td>0.319264</td>\n      <td>0.316689</td>\n    </tr>\n    <tr>\n      <th>std</th>\n      <td>0.243743</td>\n      <td>0.243948</td>\n      <td>0.266882</td>\n      <td>0.296066</td>\n    </tr>\n    <tr>\n      <th>skew</th>\n      <td>-4.757964</td>\n      <td>-0.429231</td>\n      <td>-1.844991</td>\n      <td>-1.786075</td>\n    </tr>\n    <tr>\n      <th>kurt</th>\n      <td>1926.154100</td>\n      <td>263.561144</td>\n      <td>39.191903</td>\n      <td>14.764489</td>\n    </tr>\n  </tbody>\n</table>\n</div>"
     },
     "metadata": {},
     "execution_count": 188
    }
   ],
   "source": [
    "summary_statistics(aapl_close)"
   ]
  },
  {
   "cell_type": "code",
   "execution_count": 190,
   "metadata": {},
   "outputs": [
    {
     "output_type": "execute_result",
     "data": {
      "text/plain": [
       "            Daily      Weekly    Monthly  Quarterly\n",
       "mean    -0.059793   -0.057119  -0.164591   0.025990\n",
       "std      0.308372    0.298536   0.301015   0.251771\n",
       "skew   -54.359123   -8.552671  -1.465545  -1.212365\n",
       "kurt  8692.463139  451.358353  32.307952   6.000000"
      ],
      "text/html": "<div>\n<style scoped>\n    .dataframe tbody tr th:only-of-type {\n        vertical-align: middle;\n    }\n\n    .dataframe tbody tr th {\n        vertical-align: top;\n    }\n\n    .dataframe thead th {\n        text-align: right;\n    }\n</style>\n<table border=\"1\" class=\"dataframe\">\n  <thead>\n    <tr style=\"text-align: right;\">\n      <th></th>\n      <th>Daily</th>\n      <th>Weekly</th>\n      <th>Monthly</th>\n      <th>Quarterly</th>\n    </tr>\n  </thead>\n  <tbody>\n    <tr>\n      <th>mean</th>\n      <td>-0.059793</td>\n      <td>-0.057119</td>\n      <td>-0.164591</td>\n      <td>0.025990</td>\n    </tr>\n    <tr>\n      <th>std</th>\n      <td>0.308372</td>\n      <td>0.298536</td>\n      <td>0.301015</td>\n      <td>0.251771</td>\n    </tr>\n    <tr>\n      <th>skew</th>\n      <td>-54.359123</td>\n      <td>-8.552671</td>\n      <td>-1.465545</td>\n      <td>-1.212365</td>\n    </tr>\n    <tr>\n      <th>kurt</th>\n      <td>8692.463139</td>\n      <td>451.358353</td>\n      <td>32.307952</td>\n      <td>6.000000</td>\n    </tr>\n  </tbody>\n</table>\n</div>"
     },
     "metadata": {},
     "execution_count": 190
    }
   ],
   "source": [
    "summary_statistics(sbry_close)"
   ]
  }
 ]
}